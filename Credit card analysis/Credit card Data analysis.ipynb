{
 "cells": [
  {
   "cell_type": "markdown",
   "id": "b45d41a4",
   "metadata": {
    "ExecuteTime": {
     "end_time": "2023-02-17T16:54:01.360558Z",
     "start_time": "2023-02-17T16:54:01.350585Z"
    }
   },
   "source": [
    "# Importin necessary library"
   ]
  },
  {
   "cell_type": "code",
   "execution_count": 1,
   "id": "a0cc2568",
   "metadata": {
    "ExecuteTime": {
     "end_time": "2023-02-18T14:10:02.618389Z",
     "start_time": "2023-02-18T14:10:00.288847Z"
    }
   },
   "outputs": [],
   "source": [
    "import warnings\n",
    "warnings.filterwarnings(\"ignore\")\n",
    "\n",
    "import numpy as np\n",
    "import pandas as pd\n",
    "\n",
    "import matplotlib.pyplot as plt\n",
    "import seaborn as sns\n",
    "\n",
    "import datetime as dt\n",
    "%matplotlib inline"
   ]
  },
  {
   "cell_type": "markdown",
   "id": "5e3ae202",
   "metadata": {},
   "source": [
    "# Reading all necessary data"
   ]
  },
  {
   "cell_type": "code",
   "execution_count": 2,
   "id": "6701e065",
   "metadata": {
    "ExecuteTime": {
     "end_time": "2023-02-18T14:10:03.473865Z",
     "start_time": "2023-02-18T14:10:02.618389Z"
    }
   },
   "outputs": [],
   "source": [
    "customer_acqusition = pd.read_csv('Customer Acqusition.csv')\n",
    "spend_df = pd.read_csv('spend.csv')\n",
    "repayment_df = pd.read_csv('Repayment.csv')\n",
    "c_c_df = pd.read_excel('Credit Card Data.xlsx')"
   ]
  },
  {
   "cell_type": "markdown",
   "id": "ede68635",
   "metadata": {},
   "source": [
    "# Data exploration"
   ]
  },
  {
   "cell_type": "code",
   "execution_count": 3,
   "id": "97572a48",
   "metadata": {
    "ExecuteTime": {
     "end_time": "2023-02-18T14:10:03.503791Z",
     "start_time": "2023-02-18T14:10:03.473865Z"
    }
   },
   "outputs": [
    {
     "data": {
      "text/plain": [
       "Index(['No', 'Customer', 'Age', 'City', 'Product', 'Limit', 'Company',\n",
       "       'Segment'],\n",
       "      dtype='object')"
      ]
     },
     "execution_count": 3,
     "metadata": {},
     "output_type": "execute_result"
    }
   ],
   "source": [
    "customer_acqusition.columns"
   ]
  },
  {
   "cell_type": "code",
   "execution_count": 4,
   "id": "506939e1",
   "metadata": {
    "ExecuteTime": {
     "end_time": "2023-02-18T14:10:03.688267Z",
     "start_time": "2023-02-18T14:10:03.508778Z"
    }
   },
   "outputs": [
    {
     "data": {
      "text/html": [
       "<div>\n",
       "<style scoped>\n",
       "    .dataframe tbody tr th:only-of-type {\n",
       "        vertical-align: middle;\n",
       "    }\n",
       "\n",
       "    .dataframe tbody tr th {\n",
       "        vertical-align: top;\n",
       "    }\n",
       "\n",
       "    .dataframe thead th {\n",
       "        text-align: right;\n",
       "    }\n",
       "</style>\n",
       "<table border=\"1\" class=\"dataframe\">\n",
       "  <thead>\n",
       "    <tr style=\"text-align: right;\">\n",
       "      <th></th>\n",
       "      <th>No</th>\n",
       "      <th>Customer</th>\n",
       "      <th>Age</th>\n",
       "      <th>City</th>\n",
       "      <th>Product</th>\n",
       "      <th>Limit</th>\n",
       "      <th>Company</th>\n",
       "      <th>Segment</th>\n",
       "    </tr>\n",
       "  </thead>\n",
       "  <tbody>\n",
       "    <tr>\n",
       "      <th>0</th>\n",
       "      <td>1</td>\n",
       "      <td>A1</td>\n",
       "      <td>76</td>\n",
       "      <td>BANGALORE</td>\n",
       "      <td>Gold</td>\n",
       "      <td>500000</td>\n",
       "      <td>C1</td>\n",
       "      <td>Self Employed</td>\n",
       "    </tr>\n",
       "    <tr>\n",
       "      <th>1</th>\n",
       "      <td>2</td>\n",
       "      <td>A2</td>\n",
       "      <td>71</td>\n",
       "      <td>CALCUTTA</td>\n",
       "      <td>Silver</td>\n",
       "      <td>100000</td>\n",
       "      <td>C2</td>\n",
       "      <td>Salaried_MNC</td>\n",
       "    </tr>\n",
       "    <tr>\n",
       "      <th>2</th>\n",
       "      <td>3</td>\n",
       "      <td>A3</td>\n",
       "      <td>34</td>\n",
       "      <td>COCHIN</td>\n",
       "      <td>Platimum</td>\n",
       "      <td>10000</td>\n",
       "      <td>C3</td>\n",
       "      <td>Salaried_Pvt</td>\n",
       "    </tr>\n",
       "    <tr>\n",
       "      <th>3</th>\n",
       "      <td>4</td>\n",
       "      <td>A4</td>\n",
       "      <td>47</td>\n",
       "      <td>BOMBAY</td>\n",
       "      <td>Platimum</td>\n",
       "      <td>10001</td>\n",
       "      <td>C4</td>\n",
       "      <td>Govt</td>\n",
       "    </tr>\n",
       "    <tr>\n",
       "      <th>4</th>\n",
       "      <td>5</td>\n",
       "      <td>A5</td>\n",
       "      <td>56</td>\n",
       "      <td>BANGALORE</td>\n",
       "      <td>Platimum</td>\n",
       "      <td>10002</td>\n",
       "      <td>C5</td>\n",
       "      <td>Normal Salary</td>\n",
       "    </tr>\n",
       "  </tbody>\n",
       "</table>\n",
       "</div>"
      ],
      "text/plain": [
       "   No Customer  Age       City   Product   Limit Company        Segment\n",
       "0   1       A1   76  BANGALORE      Gold  500000      C1  Self Employed\n",
       "1   2       A2   71   CALCUTTA    Silver  100000      C2   Salaried_MNC\n",
       "2   3       A3   34     COCHIN  Platimum   10000      C3   Salaried_Pvt\n",
       "3   4       A4   47     BOMBAY  Platimum   10001      C4           Govt\n",
       "4   5       A5   56  BANGALORE  Platimum   10002      C5  Normal Salary"
      ]
     },
     "execution_count": 4,
     "metadata": {},
     "output_type": "execute_result"
    }
   ],
   "source": [
    "customer_acqusition.head()"
   ]
  },
  {
   "cell_type": "code",
   "execution_count": 5,
   "id": "5168d7fb",
   "metadata": {
    "ExecuteTime": {
     "end_time": "2023-02-18T14:10:03.781005Z",
     "start_time": "2023-02-18T14:10:03.693251Z"
    }
   },
   "outputs": [],
   "source": [
    "customer_acqusition = customer_acqusition.drop(\"No\",axis=1)"
   ]
  },
  {
   "cell_type": "code",
   "execution_count": 6,
   "id": "5ad4a969",
   "metadata": {
    "ExecuteTime": {
     "end_time": "2023-02-18T14:10:03.936638Z",
     "start_time": "2023-02-18T14:10:03.784003Z"
    }
   },
   "outputs": [
    {
     "name": "stdout",
     "output_type": "stream",
     "text": [
      "<class 'pandas.core.frame.DataFrame'>\n",
      "RangeIndex: 100 entries, 0 to 99\n",
      "Data columns (total 7 columns):\n",
      " #   Column    Non-Null Count  Dtype \n",
      "---  ------    --------------  ----- \n",
      " 0   Customer  100 non-null    object\n",
      " 1   Age       100 non-null    int64 \n",
      " 2   City      100 non-null    object\n",
      " 3   Product   100 non-null    object\n",
      " 4   Limit     100 non-null    int64 \n",
      " 5   Company   100 non-null    object\n",
      " 6   Segment   100 non-null    object\n",
      "dtypes: int64(2), object(5)\n",
      "memory usage: 5.6+ KB\n"
     ]
    }
   ],
   "source": [
    "customer_acqusition.info()"
   ]
  },
  {
   "cell_type": "code",
   "execution_count": 7,
   "id": "fc7a8896",
   "metadata": {
    "ExecuteTime": {
     "end_time": "2023-02-18T14:10:04.125962Z",
     "start_time": "2023-02-18T14:10:03.945578Z"
    }
   },
   "outputs": [
    {
     "data": {
      "text/html": [
       "<div>\n",
       "<style scoped>\n",
       "    .dataframe tbody tr th:only-of-type {\n",
       "        vertical-align: middle;\n",
       "    }\n",
       "\n",
       "    .dataframe tbody tr th {\n",
       "        vertical-align: top;\n",
       "    }\n",
       "\n",
       "    .dataframe thead th {\n",
       "        text-align: right;\n",
       "    }\n",
       "</style>\n",
       "<table border=\"1\" class=\"dataframe\">\n",
       "  <thead>\n",
       "    <tr style=\"text-align: right;\">\n",
       "      <th></th>\n",
       "      <th>Age</th>\n",
       "      <th>Limit</th>\n",
       "    </tr>\n",
       "  </thead>\n",
       "  <tbody>\n",
       "    <tr>\n",
       "      <th>count</th>\n",
       "      <td>100.000000</td>\n",
       "      <td>100.000000</td>\n",
       "    </tr>\n",
       "    <tr>\n",
       "      <th>mean</th>\n",
       "      <td>46.490000</td>\n",
       "      <td>284700.610000</td>\n",
       "    </tr>\n",
       "    <tr>\n",
       "      <th>std</th>\n",
       "      <td>18.282572</td>\n",
       "      <td>218494.967852</td>\n",
       "    </tr>\n",
       "    <tr>\n",
       "      <th>min</th>\n",
       "      <td>12.000000</td>\n",
       "      <td>10000.000000</td>\n",
       "    </tr>\n",
       "    <tr>\n",
       "      <th>25%</th>\n",
       "      <td>33.750000</td>\n",
       "      <td>100000.000000</td>\n",
       "    </tr>\n",
       "    <tr>\n",
       "      <th>50%</th>\n",
       "      <td>46.500000</td>\n",
       "      <td>300001.500000</td>\n",
       "    </tr>\n",
       "    <tr>\n",
       "      <th>75%</th>\n",
       "      <td>60.250000</td>\n",
       "      <td>500000.000000</td>\n",
       "    </tr>\n",
       "    <tr>\n",
       "      <th>max</th>\n",
       "      <td>79.000000</td>\n",
       "      <td>500000.000000</td>\n",
       "    </tr>\n",
       "  </tbody>\n",
       "</table>\n",
       "</div>"
      ],
      "text/plain": [
       "              Age          Limit\n",
       "count  100.000000     100.000000\n",
       "mean    46.490000  284700.610000\n",
       "std     18.282572  218494.967852\n",
       "min     12.000000   10000.000000\n",
       "25%     33.750000  100000.000000\n",
       "50%     46.500000  300001.500000\n",
       "75%     60.250000  500000.000000\n",
       "max     79.000000  500000.000000"
      ]
     },
     "execution_count": 7,
     "metadata": {},
     "output_type": "execute_result"
    }
   ],
   "source": [
    "customer_acqusition.describe()"
   ]
  },
  {
   "cell_type": "code",
   "execution_count": 8,
   "id": "0e84ae77",
   "metadata": {
    "ExecuteTime": {
     "end_time": "2023-02-18T14:10:04.204036Z",
     "start_time": "2023-02-18T14:10:04.134938Z"
    }
   },
   "outputs": [
    {
     "data": {
      "text/plain": [
       "Customer    0\n",
       "Age         0\n",
       "City        0\n",
       "Product     0\n",
       "Limit       0\n",
       "Company     0\n",
       "Segment     0\n",
       "dtype: int64"
      ]
     },
     "execution_count": 8,
     "metadata": {},
     "output_type": "execute_result"
    }
   ],
   "source": [
    "customer_acqusition.isna().sum()"
   ]
  },
  {
   "cell_type": "code",
   "execution_count": 9,
   "id": "5fcebdeb",
   "metadata": {
    "ExecuteTime": {
     "end_time": "2023-02-18T14:10:04.326771Z",
     "start_time": "2023-02-18T14:10:04.207024Z"
    }
   },
   "outputs": [
    {
     "data": {
      "text/plain": [
       "Customer    0\n",
       "Age         0\n",
       "City        0\n",
       "Product     0\n",
       "Limit       0\n",
       "Company     0\n",
       "Segment     0\n",
       "dtype: int64"
      ]
     },
     "execution_count": 9,
     "metadata": {},
     "output_type": "execute_result"
    }
   ],
   "source": [
    "customer_acqusition.isnull().sum()"
   ]
  },
  {
   "cell_type": "code",
   "execution_count": 10,
   "id": "edb0ce08",
   "metadata": {
    "ExecuteTime": {
     "end_time": "2023-02-18T14:10:04.481329Z",
     "start_time": "2023-02-18T14:10:04.332758Z"
    }
   },
   "outputs": [
    {
     "data": {
      "text/plain": [
       "(100, 7)"
      ]
     },
     "execution_count": 10,
     "metadata": {},
     "output_type": "execute_result"
    }
   ],
   "source": [
    "customer_acqusition.shape"
   ]
  },
  {
   "cell_type": "code",
   "execution_count": null,
   "id": "7ce48c86",
   "metadata": {},
   "outputs": [],
   "source": []
  },
  {
   "cell_type": "code",
   "execution_count": 11,
   "id": "66639859",
   "metadata": {
    "ExecuteTime": {
     "end_time": "2023-02-18T14:10:04.638876Z",
     "start_time": "2023-02-18T14:10:04.484294Z"
    }
   },
   "outputs": [
    {
     "data": {
      "text/plain": [
       "Index(['SL No:', 'Customer', 'Month', 'Amount'], dtype='object')"
      ]
     },
     "execution_count": 11,
     "metadata": {},
     "output_type": "execute_result"
    }
   ],
   "source": [
    "repayment_df.columns"
   ]
  },
  {
   "cell_type": "code",
   "execution_count": 12,
   "id": "498df31d",
   "metadata": {
    "ExecuteTime": {
     "end_time": "2023-02-18T14:10:04.843440Z",
     "start_time": "2023-02-18T14:10:04.645645Z"
    }
   },
   "outputs": [],
   "source": [
    "repayment_df.rename(columns={\"Amount\":\"Repay_Amount\"},inplace=True)"
   ]
  },
  {
   "cell_type": "code",
   "execution_count": 13,
   "id": "1ca45045",
   "metadata": {
    "ExecuteTime": {
     "end_time": "2023-02-18T14:10:04.982070Z",
     "start_time": "2023-02-18T14:10:04.856400Z"
    }
   },
   "outputs": [
    {
     "data": {
      "text/html": [
       "<div>\n",
       "<style scoped>\n",
       "    .dataframe tbody tr th:only-of-type {\n",
       "        vertical-align: middle;\n",
       "    }\n",
       "\n",
       "    .dataframe tbody tr th {\n",
       "        vertical-align: top;\n",
       "    }\n",
       "\n",
       "    .dataframe thead th {\n",
       "        text-align: right;\n",
       "    }\n",
       "</style>\n",
       "<table border=\"1\" class=\"dataframe\">\n",
       "  <thead>\n",
       "    <tr style=\"text-align: right;\">\n",
       "      <th></th>\n",
       "      <th>SL No:</th>\n",
       "      <th>Customer</th>\n",
       "      <th>Month</th>\n",
       "      <th>Repay_Amount</th>\n",
       "    </tr>\n",
       "  </thead>\n",
       "  <tbody>\n",
       "    <tr>\n",
       "      <th>0</th>\n",
       "      <td>NaN</td>\n",
       "      <td>A1</td>\n",
       "      <td>12-Jan-04</td>\n",
       "      <td>495414.75</td>\n",
       "    </tr>\n",
       "    <tr>\n",
       "      <th>1</th>\n",
       "      <td>2.0</td>\n",
       "      <td>A1</td>\n",
       "      <td>03-Jan-04</td>\n",
       "      <td>245899.02</td>\n",
       "    </tr>\n",
       "    <tr>\n",
       "      <th>2</th>\n",
       "      <td>3.0</td>\n",
       "      <td>A1</td>\n",
       "      <td>15-Jan-04</td>\n",
       "      <td>259490.06</td>\n",
       "    </tr>\n",
       "    <tr>\n",
       "      <th>3</th>\n",
       "      <td>4.0</td>\n",
       "      <td>A1</td>\n",
       "      <td>25-Jan-04</td>\n",
       "      <td>437555.12</td>\n",
       "    </tr>\n",
       "    <tr>\n",
       "      <th>4</th>\n",
       "      <td>5.0</td>\n",
       "      <td>A1</td>\n",
       "      <td>17-Jan-05</td>\n",
       "      <td>165972.88</td>\n",
       "    </tr>\n",
       "  </tbody>\n",
       "</table>\n",
       "</div>"
      ],
      "text/plain": [
       "   SL No: Customer      Month  Repay_Amount\n",
       "0     NaN       A1  12-Jan-04     495414.75\n",
       "1     2.0       A1  03-Jan-04     245899.02\n",
       "2     3.0       A1  15-Jan-04     259490.06\n",
       "3     4.0       A1  25-Jan-04     437555.12\n",
       "4     5.0       A1  17-Jan-05     165972.88"
      ]
     },
     "execution_count": 13,
     "metadata": {},
     "output_type": "execute_result"
    }
   ],
   "source": [
    "repayment_df.head()"
   ]
  },
  {
   "cell_type": "code",
   "execution_count": 14,
   "id": "a390dd23",
   "metadata": {
    "ExecuteTime": {
     "end_time": "2023-02-18T14:10:05.137025Z",
     "start_time": "2023-02-18T14:10:04.986030Z"
    }
   },
   "outputs": [],
   "source": [
    "repayment_df.drop(columns=\"SL No:\",inplace=True)"
   ]
  },
  {
   "cell_type": "code",
   "execution_count": 15,
   "id": "ad7d953c",
   "metadata": {
    "ExecuteTime": {
     "end_time": "2023-02-18T14:10:05.292187Z",
     "start_time": "2023-02-18T14:10:05.153948Z"
    }
   },
   "outputs": [
    {
     "name": "stdout",
     "output_type": "stream",
     "text": [
      "<class 'pandas.core.frame.DataFrame'>\n",
      "RangeIndex: 1500 entries, 0 to 1499\n",
      "Data columns (total 3 columns):\n",
      " #   Column        Non-Null Count  Dtype  \n",
      "---  ------        --------------  -----  \n",
      " 0   Customer      1500 non-null   object \n",
      " 1   Month         1500 non-null   object \n",
      " 2   Repay_Amount  1500 non-null   float64\n",
      "dtypes: float64(1), object(2)\n",
      "memory usage: 35.3+ KB\n"
     ]
    }
   ],
   "source": [
    "repayment_df.info()"
   ]
  },
  {
   "cell_type": "code",
   "execution_count": 16,
   "id": "b495f647",
   "metadata": {
    "ExecuteTime": {
     "end_time": "2023-02-18T14:10:05.463950Z",
     "start_time": "2023-02-18T14:10:05.297178Z"
    }
   },
   "outputs": [
    {
     "data": {
      "text/html": [
       "<div>\n",
       "<style scoped>\n",
       "    .dataframe tbody tr th:only-of-type {\n",
       "        vertical-align: middle;\n",
       "    }\n",
       "\n",
       "    .dataframe tbody tr th {\n",
       "        vertical-align: top;\n",
       "    }\n",
       "\n",
       "    .dataframe thead th {\n",
       "        text-align: right;\n",
       "    }\n",
       "</style>\n",
       "<table border=\"1\" class=\"dataframe\">\n",
       "  <thead>\n",
       "    <tr style=\"text-align: right;\">\n",
       "      <th></th>\n",
       "      <th>Repay_Amount</th>\n",
       "    </tr>\n",
       "  </thead>\n",
       "  <tbody>\n",
       "    <tr>\n",
       "      <th>count</th>\n",
       "      <td>1500.000000</td>\n",
       "    </tr>\n",
       "    <tr>\n",
       "      <th>mean</th>\n",
       "      <td>247890.054420</td>\n",
       "    </tr>\n",
       "    <tr>\n",
       "      <th>std</th>\n",
       "      <td>145290.382733</td>\n",
       "    </tr>\n",
       "    <tr>\n",
       "      <th>min</th>\n",
       "      <td>55.860000</td>\n",
       "    </tr>\n",
       "    <tr>\n",
       "      <th>25%</th>\n",
       "      <td>118604.905000</td>\n",
       "    </tr>\n",
       "    <tr>\n",
       "      <th>50%</th>\n",
       "      <td>248008.185000</td>\n",
       "    </tr>\n",
       "    <tr>\n",
       "      <th>75%</th>\n",
       "      <td>367236.890000</td>\n",
       "    </tr>\n",
       "    <tr>\n",
       "      <th>max</th>\n",
       "      <td>499930.660000</td>\n",
       "    </tr>\n",
       "  </tbody>\n",
       "</table>\n",
       "</div>"
      ],
      "text/plain": [
       "        Repay_Amount\n",
       "count    1500.000000\n",
       "mean   247890.054420\n",
       "std    145290.382733\n",
       "min        55.860000\n",
       "25%    118604.905000\n",
       "50%    248008.185000\n",
       "75%    367236.890000\n",
       "max    499930.660000"
      ]
     },
     "execution_count": 16,
     "metadata": {},
     "output_type": "execute_result"
    }
   ],
   "source": [
    "repayment_df.describe()"
   ]
  },
  {
   "cell_type": "code",
   "execution_count": 17,
   "id": "b114389a",
   "metadata": {
    "ExecuteTime": {
     "end_time": "2023-02-18T14:10:05.591937Z",
     "start_time": "2023-02-18T14:10:05.468937Z"
    }
   },
   "outputs": [],
   "source": [
    "repayment_df[\"Month\"] = pd.to_datetime(repayment_df.Month, format=\"%d-%b-%y\")"
   ]
  },
  {
   "cell_type": "code",
   "execution_count": 18,
   "id": "a9933c0c",
   "metadata": {
    "ExecuteTime": {
     "end_time": "2023-02-18T14:10:05.745726Z",
     "start_time": "2023-02-18T14:10:05.603910Z"
    }
   },
   "outputs": [
    {
     "name": "stdout",
     "output_type": "stream",
     "text": [
      "<class 'pandas.core.frame.DataFrame'>\n",
      "RangeIndex: 1500 entries, 0 to 1499\n",
      "Data columns (total 3 columns):\n",
      " #   Column        Non-Null Count  Dtype         \n",
      "---  ------        --------------  -----         \n",
      " 0   Customer      1500 non-null   object        \n",
      " 1   Month         1500 non-null   datetime64[ns]\n",
      " 2   Repay_Amount  1500 non-null   float64       \n",
      "dtypes: datetime64[ns](1), float64(1), object(1)\n",
      "memory usage: 35.3+ KB\n"
     ]
    }
   ],
   "source": [
    "repayment_df.info()"
   ]
  },
  {
   "cell_type": "code",
   "execution_count": 19,
   "id": "b0f054af",
   "metadata": {
    "ExecuteTime": {
     "end_time": "2023-02-18T14:10:05.883650Z",
     "start_time": "2023-02-18T14:10:05.750714Z"
    }
   },
   "outputs": [
    {
     "data": {
      "text/html": [
       "<div>\n",
       "<style scoped>\n",
       "    .dataframe tbody tr th:only-of-type {\n",
       "        vertical-align: middle;\n",
       "    }\n",
       "\n",
       "    .dataframe tbody tr th {\n",
       "        vertical-align: top;\n",
       "    }\n",
       "\n",
       "    .dataframe thead th {\n",
       "        text-align: right;\n",
       "    }\n",
       "</style>\n",
       "<table border=\"1\" class=\"dataframe\">\n",
       "  <thead>\n",
       "    <tr style=\"text-align: right;\">\n",
       "      <th></th>\n",
       "      <th>Customer</th>\n",
       "      <th>Month</th>\n",
       "      <th>Repay_Amount</th>\n",
       "    </tr>\n",
       "  </thead>\n",
       "  <tbody>\n",
       "    <tr>\n",
       "      <th>0</th>\n",
       "      <td>A1</td>\n",
       "      <td>2004-01-12</td>\n",
       "      <td>495414.75</td>\n",
       "    </tr>\n",
       "    <tr>\n",
       "      <th>1</th>\n",
       "      <td>A1</td>\n",
       "      <td>2004-01-03</td>\n",
       "      <td>245899.02</td>\n",
       "    </tr>\n",
       "    <tr>\n",
       "      <th>2</th>\n",
       "      <td>A1</td>\n",
       "      <td>2004-01-15</td>\n",
       "      <td>259490.06</td>\n",
       "    </tr>\n",
       "    <tr>\n",
       "      <th>3</th>\n",
       "      <td>A1</td>\n",
       "      <td>2004-01-25</td>\n",
       "      <td>437555.12</td>\n",
       "    </tr>\n",
       "    <tr>\n",
       "      <th>4</th>\n",
       "      <td>A1</td>\n",
       "      <td>2005-01-17</td>\n",
       "      <td>165972.88</td>\n",
       "    </tr>\n",
       "  </tbody>\n",
       "</table>\n",
       "</div>"
      ],
      "text/plain": [
       "  Customer      Month  Repay_Amount\n",
       "0       A1 2004-01-12     495414.75\n",
       "1       A1 2004-01-03     245899.02\n",
       "2       A1 2004-01-15     259490.06\n",
       "3       A1 2004-01-25     437555.12\n",
       "4       A1 2005-01-17     165972.88"
      ]
     },
     "execution_count": 19,
     "metadata": {},
     "output_type": "execute_result"
    }
   ],
   "source": [
    "repayment_df.head()"
   ]
  },
  {
   "cell_type": "code",
   "execution_count": 20,
   "id": "ccc41f67",
   "metadata": {
    "ExecuteTime": {
     "end_time": "2023-02-18T14:10:06.071669Z",
     "start_time": "2023-02-18T14:10:05.890584Z"
    }
   },
   "outputs": [
    {
     "data": {
      "text/plain": [
       "Customer        0\n",
       "Month           0\n",
       "Repay_Amount    0\n",
       "dtype: int64"
      ]
     },
     "execution_count": 20,
     "metadata": {},
     "output_type": "execute_result"
    }
   ],
   "source": [
    "repayment_df.isna().sum()"
   ]
  },
  {
   "cell_type": "code",
   "execution_count": 21,
   "id": "229f979f",
   "metadata": {
    "ExecuteTime": {
     "end_time": "2023-02-18T14:10:06.194741Z",
     "start_time": "2023-02-18T14:10:06.081608Z"
    }
   },
   "outputs": [
    {
     "data": {
      "text/plain": [
       "Customer        0\n",
       "Month           0\n",
       "Repay_Amount    0\n",
       "dtype: int64"
      ]
     },
     "execution_count": 21,
     "metadata": {},
     "output_type": "execute_result"
    }
   ],
   "source": [
    "repayment_df.isnull().sum()"
   ]
  },
  {
   "cell_type": "code",
   "execution_count": 22,
   "id": "54e4bd95",
   "metadata": {
    "ExecuteTime": {
     "end_time": "2023-02-18T14:10:06.333747Z",
     "start_time": "2023-02-18T14:10:06.199696Z"
    }
   },
   "outputs": [
    {
     "data": {
      "text/plain": [
       "(1500, 3)"
      ]
     },
     "execution_count": 22,
     "metadata": {},
     "output_type": "execute_result"
    }
   ],
   "source": [
    "repayment_df.shape"
   ]
  },
  {
   "cell_type": "code",
   "execution_count": null,
   "id": "ee2ded6c",
   "metadata": {},
   "outputs": [],
   "source": []
  },
  {
   "cell_type": "code",
   "execution_count": 23,
   "id": "cee29c99",
   "metadata": {
    "ExecuteTime": {
     "end_time": "2023-02-18T14:10:06.477424Z",
     "start_time": "2023-02-18T14:10:06.336707Z"
    }
   },
   "outputs": [
    {
     "data": {
      "text/plain": [
       "Index(['Sl No:', 'Customer', 'Month', 'Type', 'Amount'], dtype='object')"
      ]
     },
     "execution_count": 23,
     "metadata": {},
     "output_type": "execute_result"
    }
   ],
   "source": [
    "spend_df.columns"
   ]
  },
  {
   "cell_type": "code",
   "execution_count": 24,
   "id": "57f172ea",
   "metadata": {
    "ExecuteTime": {
     "end_time": "2023-02-18T14:10:06.649264Z",
     "start_time": "2023-02-18T14:10:06.481411Z"
    }
   },
   "outputs": [],
   "source": [
    "spend_df.rename(columns={\"Amount\":\"Spent_Amount\"},inplace=True)"
   ]
  },
  {
   "cell_type": "code",
   "execution_count": 25,
   "id": "50346276",
   "metadata": {
    "ExecuteTime": {
     "end_time": "2023-02-18T14:10:06.821421Z",
     "start_time": "2023-02-18T14:10:06.657083Z"
    }
   },
   "outputs": [],
   "source": [
    "spend_df = spend_df.drop(\"Sl No:\",axis=1)"
   ]
  },
  {
   "cell_type": "code",
   "execution_count": 26,
   "id": "85434847",
   "metadata": {
    "ExecuteTime": {
     "end_time": "2023-02-18T14:10:06.992946Z",
     "start_time": "2023-02-18T14:10:06.829408Z"
    }
   },
   "outputs": [
    {
     "data": {
      "text/html": [
       "<div>\n",
       "<style scoped>\n",
       "    .dataframe tbody tr th:only-of-type {\n",
       "        vertical-align: middle;\n",
       "    }\n",
       "\n",
       "    .dataframe tbody tr th {\n",
       "        vertical-align: top;\n",
       "    }\n",
       "\n",
       "    .dataframe thead th {\n",
       "        text-align: right;\n",
       "    }\n",
       "</style>\n",
       "<table border=\"1\" class=\"dataframe\">\n",
       "  <thead>\n",
       "    <tr style=\"text-align: right;\">\n",
       "      <th></th>\n",
       "      <th>Customer</th>\n",
       "      <th>Month</th>\n",
       "      <th>Type</th>\n",
       "      <th>Spent_Amount</th>\n",
       "    </tr>\n",
       "  </thead>\n",
       "  <tbody>\n",
       "    <tr>\n",
       "      <th>0</th>\n",
       "      <td>A1</td>\n",
       "      <td>12-Jan-04</td>\n",
       "      <td>JEWELLERY</td>\n",
       "      <td>485470.80</td>\n",
       "    </tr>\n",
       "    <tr>\n",
       "      <th>1</th>\n",
       "      <td>A1</td>\n",
       "      <td>03-Jan-04</td>\n",
       "      <td>PETRO</td>\n",
       "      <td>410556.13</td>\n",
       "    </tr>\n",
       "    <tr>\n",
       "      <th>2</th>\n",
       "      <td>A1</td>\n",
       "      <td>15-Jan-04</td>\n",
       "      <td>CLOTHES</td>\n",
       "      <td>23740.46</td>\n",
       "    </tr>\n",
       "    <tr>\n",
       "      <th>3</th>\n",
       "      <td>A1</td>\n",
       "      <td>25-Jan-04</td>\n",
       "      <td>FOOD</td>\n",
       "      <td>484342.47</td>\n",
       "    </tr>\n",
       "    <tr>\n",
       "      <th>4</th>\n",
       "      <td>A1</td>\n",
       "      <td>17-Jan-05</td>\n",
       "      <td>CAMERA</td>\n",
       "      <td>369694.07</td>\n",
       "    </tr>\n",
       "  </tbody>\n",
       "</table>\n",
       "</div>"
      ],
      "text/plain": [
       "  Customer      Month       Type  Spent_Amount\n",
       "0       A1  12-Jan-04  JEWELLERY     485470.80\n",
       "1       A1  03-Jan-04      PETRO     410556.13\n",
       "2       A1  15-Jan-04    CLOTHES      23740.46\n",
       "3       A1  25-Jan-04       FOOD     484342.47\n",
       "4       A1  17-Jan-05     CAMERA     369694.07"
      ]
     },
     "execution_count": 26,
     "metadata": {},
     "output_type": "execute_result"
    }
   ],
   "source": [
    "spend_df.head()"
   ]
  },
  {
   "cell_type": "code",
   "execution_count": 27,
   "id": "47555914",
   "metadata": {
    "ExecuteTime": {
     "end_time": "2023-02-18T14:10:07.193547Z",
     "start_time": "2023-02-18T14:10:06.997902Z"
    }
   },
   "outputs": [],
   "source": [
    "spend_df[\"Month\"] = pd.to_datetime(spend_df.Month,format=\"%d-%b-%y\")"
   ]
  },
  {
   "cell_type": "code",
   "execution_count": 28,
   "id": "1978a4df",
   "metadata": {
    "ExecuteTime": {
     "end_time": "2023-02-18T14:10:07.364067Z",
     "start_time": "2023-02-18T14:10:07.208502Z"
    }
   },
   "outputs": [
    {
     "name": "stdout",
     "output_type": "stream",
     "text": [
      "<class 'pandas.core.frame.DataFrame'>\n",
      "RangeIndex: 1500 entries, 0 to 1499\n",
      "Data columns (total 4 columns):\n",
      " #   Column        Non-Null Count  Dtype         \n",
      "---  ------        --------------  -----         \n",
      " 0   Customer      1500 non-null   object        \n",
      " 1   Month         1500 non-null   datetime64[ns]\n",
      " 2   Type          1500 non-null   object        \n",
      " 3   Spent_Amount  1500 non-null   float64       \n",
      "dtypes: datetime64[ns](1), float64(1), object(2)\n",
      "memory usage: 47.0+ KB\n"
     ]
    }
   ],
   "source": [
    "spend_df.info()"
   ]
  },
  {
   "cell_type": "code",
   "execution_count": 29,
   "id": "d1abb105",
   "metadata": {
    "ExecuteTime": {
     "end_time": "2023-02-18T14:10:07.491141Z",
     "start_time": "2023-02-18T14:10:07.374005Z"
    }
   },
   "outputs": [
    {
     "data": {
      "text/html": [
       "<div>\n",
       "<style scoped>\n",
       "    .dataframe tbody tr th:only-of-type {\n",
       "        vertical-align: middle;\n",
       "    }\n",
       "\n",
       "    .dataframe tbody tr th {\n",
       "        vertical-align: top;\n",
       "    }\n",
       "\n",
       "    .dataframe thead th {\n",
       "        text-align: right;\n",
       "    }\n",
       "</style>\n",
       "<table border=\"1\" class=\"dataframe\">\n",
       "  <thead>\n",
       "    <tr style=\"text-align: right;\">\n",
       "      <th></th>\n",
       "      <th>Spent_Amount</th>\n",
       "    </tr>\n",
       "  </thead>\n",
       "  <tbody>\n",
       "    <tr>\n",
       "      <th>count</th>\n",
       "      <td>1500.000000</td>\n",
       "    </tr>\n",
       "    <tr>\n",
       "      <th>mean</th>\n",
       "      <td>243096.049460</td>\n",
       "    </tr>\n",
       "    <tr>\n",
       "      <th>std</th>\n",
       "      <td>141349.547367</td>\n",
       "    </tr>\n",
       "    <tr>\n",
       "      <th>min</th>\n",
       "      <td>720.300000</td>\n",
       "    </tr>\n",
       "    <tr>\n",
       "      <th>25%</th>\n",
       "      <td>122606.487500</td>\n",
       "    </tr>\n",
       "    <tr>\n",
       "      <th>50%</th>\n",
       "      <td>239210.360000</td>\n",
       "    </tr>\n",
       "    <tr>\n",
       "      <th>75%</th>\n",
       "      <td>361617.632500</td>\n",
       "    </tr>\n",
       "    <tr>\n",
       "      <th>max</th>\n",
       "      <td>499793.490000</td>\n",
       "    </tr>\n",
       "  </tbody>\n",
       "</table>\n",
       "</div>"
      ],
      "text/plain": [
       "        Spent_Amount\n",
       "count    1500.000000\n",
       "mean   243096.049460\n",
       "std    141349.547367\n",
       "min       720.300000\n",
       "25%    122606.487500\n",
       "50%    239210.360000\n",
       "75%    361617.632500\n",
       "max    499793.490000"
      ]
     },
     "execution_count": 29,
     "metadata": {},
     "output_type": "execute_result"
    }
   ],
   "source": [
    "spend_df.describe()"
   ]
  },
  {
   "cell_type": "code",
   "execution_count": 30,
   "id": "f9b81e1d",
   "metadata": {
    "ExecuteTime": {
     "end_time": "2023-02-18T14:10:07.614211Z",
     "start_time": "2023-02-18T14:10:07.495102Z"
    }
   },
   "outputs": [
    {
     "data": {
      "text/plain": [
       "Customer        0\n",
       "Month           0\n",
       "Type            0\n",
       "Spent_Amount    0\n",
       "dtype: int64"
      ]
     },
     "execution_count": 30,
     "metadata": {},
     "output_type": "execute_result"
    }
   ],
   "source": [
    "spend_df.isna().sum()"
   ]
  },
  {
   "cell_type": "code",
   "execution_count": 31,
   "id": "5973fc6f",
   "metadata": {
    "ExecuteTime": {
     "end_time": "2023-02-18T14:10:07.925086Z",
     "start_time": "2023-02-18T14:10:07.616209Z"
    }
   },
   "outputs": [
    {
     "data": {
      "text/plain": [
       "Customer        0\n",
       "Month           0\n",
       "Type            0\n",
       "Spent_Amount    0\n",
       "dtype: int64"
      ]
     },
     "execution_count": 31,
     "metadata": {},
     "output_type": "execute_result"
    }
   ],
   "source": [
    "spend_df.isnull().sum()"
   ]
  },
  {
   "cell_type": "code",
   "execution_count": 32,
   "id": "d9262550",
   "metadata": {
    "ExecuteTime": {
     "end_time": "2023-02-18T14:10:08.114938Z",
     "start_time": "2023-02-18T14:10:07.930073Z"
    }
   },
   "outputs": [
    {
     "data": {
      "text/plain": [
       "(1500, 4)"
      ]
     },
     "execution_count": 32,
     "metadata": {},
     "output_type": "execute_result"
    }
   ],
   "source": [
    "spend_df.shape"
   ]
  },
  {
   "cell_type": "code",
   "execution_count": null,
   "id": "f3834c54",
   "metadata": {},
   "outputs": [],
   "source": []
  },
  {
   "cell_type": "code",
   "execution_count": 33,
   "id": "b5f9f5fb",
   "metadata": {
    "ExecuteTime": {
     "end_time": "2023-02-18T14:10:08.225672Z",
     "start_time": "2023-02-18T14:10:08.117929Z"
    }
   },
   "outputs": [
    {
     "data": {
      "text/plain": [
       "Index(['No', 'Customer', 'Age', 'City', 'Product', 'Limit', 'Company',\n",
       "       'Segment'],\n",
       "      dtype='object')"
      ]
     },
     "execution_count": 33,
     "metadata": {},
     "output_type": "execute_result"
    }
   ],
   "source": [
    "c_c_df.columns"
   ]
  },
  {
   "cell_type": "code",
   "execution_count": 34,
   "id": "f84898da",
   "metadata": {
    "ExecuteTime": {
     "end_time": "2023-02-18T14:10:08.351031Z",
     "start_time": "2023-02-18T14:10:08.228665Z"
    }
   },
   "outputs": [],
   "source": [
    "c_c_df.drop(columns=\"No\",inplace=True)"
   ]
  },
  {
   "cell_type": "code",
   "execution_count": 35,
   "id": "07e0049b",
   "metadata": {
    "ExecuteTime": {
     "end_time": "2023-02-18T14:10:08.540207Z",
     "start_time": "2023-02-18T14:10:08.354029Z"
    }
   },
   "outputs": [
    {
     "data": {
      "text/html": [
       "<div>\n",
       "<style scoped>\n",
       "    .dataframe tbody tr th:only-of-type {\n",
       "        vertical-align: middle;\n",
       "    }\n",
       "\n",
       "    .dataframe tbody tr th {\n",
       "        vertical-align: top;\n",
       "    }\n",
       "\n",
       "    .dataframe thead th {\n",
       "        text-align: right;\n",
       "    }\n",
       "</style>\n",
       "<table border=\"1\" class=\"dataframe\">\n",
       "  <thead>\n",
       "    <tr style=\"text-align: right;\">\n",
       "      <th></th>\n",
       "      <th>Customer</th>\n",
       "      <th>Age</th>\n",
       "      <th>City</th>\n",
       "      <th>Product</th>\n",
       "      <th>Limit</th>\n",
       "      <th>Company</th>\n",
       "      <th>Segment</th>\n",
       "    </tr>\n",
       "  </thead>\n",
       "  <tbody>\n",
       "    <tr>\n",
       "      <th>0</th>\n",
       "      <td>A1</td>\n",
       "      <td>76</td>\n",
       "      <td>BANGALORE</td>\n",
       "      <td>Gold</td>\n",
       "      <td>500000</td>\n",
       "      <td>C1</td>\n",
       "      <td>Self Employed</td>\n",
       "    </tr>\n",
       "    <tr>\n",
       "      <th>1</th>\n",
       "      <td>A2</td>\n",
       "      <td>71</td>\n",
       "      <td>CALCUTTA</td>\n",
       "      <td>Silver</td>\n",
       "      <td>100000</td>\n",
       "      <td>C2</td>\n",
       "      <td>Salaried_MNC</td>\n",
       "    </tr>\n",
       "    <tr>\n",
       "      <th>2</th>\n",
       "      <td>A3</td>\n",
       "      <td>34</td>\n",
       "      <td>COCHIN</td>\n",
       "      <td>Platimum</td>\n",
       "      <td>10000</td>\n",
       "      <td>C3</td>\n",
       "      <td>Salaried_Pvt</td>\n",
       "    </tr>\n",
       "    <tr>\n",
       "      <th>3</th>\n",
       "      <td>A4</td>\n",
       "      <td>47</td>\n",
       "      <td>BOMBAY</td>\n",
       "      <td>Platimum</td>\n",
       "      <td>10001</td>\n",
       "      <td>C4</td>\n",
       "      <td>Govt</td>\n",
       "    </tr>\n",
       "    <tr>\n",
       "      <th>4</th>\n",
       "      <td>A5</td>\n",
       "      <td>56</td>\n",
       "      <td>BANGALORE</td>\n",
       "      <td>Platimum</td>\n",
       "      <td>10002</td>\n",
       "      <td>C5</td>\n",
       "      <td>Normal Salary</td>\n",
       "    </tr>\n",
       "  </tbody>\n",
       "</table>\n",
       "</div>"
      ],
      "text/plain": [
       "  Customer  Age       City   Product   Limit Company        Segment\n",
       "0       A1   76  BANGALORE      Gold  500000      C1  Self Employed\n",
       "1       A2   71   CALCUTTA    Silver  100000      C2   Salaried_MNC\n",
       "2       A3   34     COCHIN  Platimum   10000      C3   Salaried_Pvt\n",
       "3       A4   47     BOMBAY  Platimum   10001      C4           Govt\n",
       "4       A5   56  BANGALORE  Platimum   10002      C5  Normal Salary"
      ]
     },
     "execution_count": 35,
     "metadata": {},
     "output_type": "execute_result"
    }
   ],
   "source": [
    "c_c_df.head()"
   ]
  },
  {
   "cell_type": "code",
   "execution_count": 36,
   "id": "888ca944",
   "metadata": {
    "ExecuteTime": {
     "end_time": "2023-02-18T14:10:08.680617Z",
     "start_time": "2023-02-18T14:10:08.548160Z"
    }
   },
   "outputs": [
    {
     "name": "stdout",
     "output_type": "stream",
     "text": [
      "<class 'pandas.core.frame.DataFrame'>\n",
      "RangeIndex: 100 entries, 0 to 99\n",
      "Data columns (total 7 columns):\n",
      " #   Column    Non-Null Count  Dtype \n",
      "---  ------    --------------  ----- \n",
      " 0   Customer  100 non-null    object\n",
      " 1   Age       100 non-null    int64 \n",
      " 2   City      100 non-null    object\n",
      " 3   Product   100 non-null    object\n",
      " 4   Limit     100 non-null    int64 \n",
      " 5   Company   100 non-null    object\n",
      " 6   Segment   100 non-null    object\n",
      "dtypes: int64(2), object(5)\n",
      "memory usage: 5.6+ KB\n"
     ]
    }
   ],
   "source": [
    "c_c_df.info()"
   ]
  },
  {
   "cell_type": "code",
   "execution_count": 37,
   "id": "2a8b1a4c",
   "metadata": {
    "ExecuteTime": {
     "end_time": "2023-02-18T14:10:08.900234Z",
     "start_time": "2023-02-18T14:10:08.685603Z"
    }
   },
   "outputs": [
    {
     "data": {
      "text/html": [
       "<div>\n",
       "<style scoped>\n",
       "    .dataframe tbody tr th:only-of-type {\n",
       "        vertical-align: middle;\n",
       "    }\n",
       "\n",
       "    .dataframe tbody tr th {\n",
       "        vertical-align: top;\n",
       "    }\n",
       "\n",
       "    .dataframe thead th {\n",
       "        text-align: right;\n",
       "    }\n",
       "</style>\n",
       "<table border=\"1\" class=\"dataframe\">\n",
       "  <thead>\n",
       "    <tr style=\"text-align: right;\">\n",
       "      <th></th>\n",
       "      <th>Age</th>\n",
       "      <th>Limit</th>\n",
       "    </tr>\n",
       "  </thead>\n",
       "  <tbody>\n",
       "    <tr>\n",
       "      <th>count</th>\n",
       "      <td>100.000000</td>\n",
       "      <td>100.000000</td>\n",
       "    </tr>\n",
       "    <tr>\n",
       "      <th>mean</th>\n",
       "      <td>46.490000</td>\n",
       "      <td>284700.610000</td>\n",
       "    </tr>\n",
       "    <tr>\n",
       "      <th>std</th>\n",
       "      <td>18.282572</td>\n",
       "      <td>218494.967852</td>\n",
       "    </tr>\n",
       "    <tr>\n",
       "      <th>min</th>\n",
       "      <td>12.000000</td>\n",
       "      <td>10000.000000</td>\n",
       "    </tr>\n",
       "    <tr>\n",
       "      <th>25%</th>\n",
       "      <td>33.750000</td>\n",
       "      <td>100000.000000</td>\n",
       "    </tr>\n",
       "    <tr>\n",
       "      <th>50%</th>\n",
       "      <td>46.500000</td>\n",
       "      <td>300001.500000</td>\n",
       "    </tr>\n",
       "    <tr>\n",
       "      <th>75%</th>\n",
       "      <td>60.250000</td>\n",
       "      <td>500000.000000</td>\n",
       "    </tr>\n",
       "    <tr>\n",
       "      <th>max</th>\n",
       "      <td>79.000000</td>\n",
       "      <td>500000.000000</td>\n",
       "    </tr>\n",
       "  </tbody>\n",
       "</table>\n",
       "</div>"
      ],
      "text/plain": [
       "              Age          Limit\n",
       "count  100.000000     100.000000\n",
       "mean    46.490000  284700.610000\n",
       "std     18.282572  218494.967852\n",
       "min     12.000000   10000.000000\n",
       "25%     33.750000  100000.000000\n",
       "50%     46.500000  300001.500000\n",
       "75%     60.250000  500000.000000\n",
       "max     79.000000  500000.000000"
      ]
     },
     "execution_count": 37,
     "metadata": {},
     "output_type": "execute_result"
    }
   ],
   "source": [
    "c_c_df.describe()"
   ]
  },
  {
   "cell_type": "code",
   "execution_count": 38,
   "id": "73596cc8",
   "metadata": {
    "ExecuteTime": {
     "end_time": "2023-02-18T14:10:09.088824Z",
     "start_time": "2023-02-18T14:10:08.907217Z"
    }
   },
   "outputs": [
    {
     "data": {
      "text/plain": [
       "Customer    0\n",
       "Age         0\n",
       "City        0\n",
       "Product     0\n",
       "Limit       0\n",
       "Company     0\n",
       "Segment     0\n",
       "dtype: int64"
      ]
     },
     "execution_count": 38,
     "metadata": {},
     "output_type": "execute_result"
    }
   ],
   "source": [
    "c_c_df.isna().sum()"
   ]
  },
  {
   "cell_type": "code",
   "execution_count": 39,
   "id": "21106372",
   "metadata": {
    "ExecuteTime": {
     "end_time": "2023-02-18T14:10:09.212988Z",
     "start_time": "2023-02-18T14:10:09.097797Z"
    }
   },
   "outputs": [
    {
     "data": {
      "text/plain": [
       "Customer    0\n",
       "Age         0\n",
       "City        0\n",
       "Product     0\n",
       "Limit       0\n",
       "Company     0\n",
       "Segment     0\n",
       "dtype: int64"
      ]
     },
     "execution_count": 39,
     "metadata": {},
     "output_type": "execute_result"
    }
   ],
   "source": [
    "c_c_df.isnull().sum()"
   ]
  },
  {
   "cell_type": "code",
   "execution_count": 40,
   "id": "c2cf4ea4",
   "metadata": {
    "ExecuteTime": {
     "end_time": "2023-02-18T14:10:09.336801Z",
     "start_time": "2023-02-18T14:10:09.215951Z"
    }
   },
   "outputs": [
    {
     "data": {
      "text/plain": [
       "(100, 7)"
      ]
     },
     "execution_count": 40,
     "metadata": {},
     "output_type": "execute_result"
    }
   ],
   "source": [
    "c_c_df.shape"
   ]
  },
  {
   "cell_type": "code",
   "execution_count": null,
   "id": "00f76c1a",
   "metadata": {},
   "outputs": [],
   "source": []
  },
  {
   "cell_type": "markdown",
   "id": "a89ee544",
   "metadata": {},
   "source": [
    "# Solutions"
   ]
  },
  {
   "cell_type": "markdown",
   "id": "1c6db9fa",
   "metadata": {},
   "source": [
    "## 1. In the above dataset,\n",
    "    a. In case age is less than 18, replace it with mean of age values.\n",
    "    b. In case spend amount is more than the limit, replace it with 50% of that customer’s limit.\n",
    "    (customer’s limit provided in acquisition table is the per transaction limit on his card)\n",
    "    c. Incase the repayment amount is more than the limit, replace the repayment with the\n",
    "    limit."
   ]
  },
  {
   "cell_type": "markdown",
   "id": "95b1f475",
   "metadata": {},
   "source": [
    "### a. In case age is less than 18, replace it with mean of age values"
   ]
  },
  {
   "cell_type": "code",
   "execution_count": 41,
   "id": "db4cefdc",
   "metadata": {
    "ExecuteTime": {
     "end_time": "2023-02-18T14:10:09.537055Z",
     "start_time": "2023-02-18T14:10:09.339790Z"
    }
   },
   "outputs": [
    {
     "data": {
      "text/html": [
       "<div>\n",
       "<style scoped>\n",
       "    .dataframe tbody tr th:only-of-type {\n",
       "        vertical-align: middle;\n",
       "    }\n",
       "\n",
       "    .dataframe tbody tr th {\n",
       "        vertical-align: top;\n",
       "    }\n",
       "\n",
       "    .dataframe thead th {\n",
       "        text-align: right;\n",
       "    }\n",
       "</style>\n",
       "<table border=\"1\" class=\"dataframe\">\n",
       "  <thead>\n",
       "    <tr style=\"text-align: right;\">\n",
       "      <th></th>\n",
       "      <th>Customer</th>\n",
       "      <th>Age</th>\n",
       "      <th>City</th>\n",
       "      <th>Product</th>\n",
       "      <th>Limit</th>\n",
       "      <th>Company</th>\n",
       "      <th>Segment</th>\n",
       "    </tr>\n",
       "  </thead>\n",
       "  <tbody>\n",
       "    <tr>\n",
       "      <th>13</th>\n",
       "      <td>A14</td>\n",
       "      <td>16</td>\n",
       "      <td>BANGALORE</td>\n",
       "      <td>Gold</td>\n",
       "      <td>500000</td>\n",
       "      <td>C14</td>\n",
       "      <td>Salaried_Pvt</td>\n",
       "    </tr>\n",
       "    <tr>\n",
       "      <th>40</th>\n",
       "      <td>A41</td>\n",
       "      <td>13</td>\n",
       "      <td>COCHIN</td>\n",
       "      <td>Platimum</td>\n",
       "      <td>500000</td>\n",
       "      <td>C23</td>\n",
       "      <td>Govt</td>\n",
       "    </tr>\n",
       "    <tr>\n",
       "      <th>62</th>\n",
       "      <td>A63</td>\n",
       "      <td>15</td>\n",
       "      <td>BANGALORE</td>\n",
       "      <td>Gold</td>\n",
       "      <td>500000</td>\n",
       "      <td>C25</td>\n",
       "      <td>Self Employed</td>\n",
       "    </tr>\n",
       "    <tr>\n",
       "      <th>67</th>\n",
       "      <td>A68</td>\n",
       "      <td>12</td>\n",
       "      <td>TRIVANDRUM</td>\n",
       "      <td>Silver</td>\n",
       "      <td>100000</td>\n",
       "      <td>C30</td>\n",
       "      <td>Self Employed</td>\n",
       "    </tr>\n",
       "    <tr>\n",
       "      <th>69</th>\n",
       "      <td>A70</td>\n",
       "      <td>16</td>\n",
       "      <td>BOMBAY</td>\n",
       "      <td>Platimum</td>\n",
       "      <td>10001</td>\n",
       "      <td>C32</td>\n",
       "      <td>Self Employed</td>\n",
       "    </tr>\n",
       "    <tr>\n",
       "      <th>89</th>\n",
       "      <td>A90</td>\n",
       "      <td>16</td>\n",
       "      <td>COCHIN</td>\n",
       "      <td>Gold</td>\n",
       "      <td>500000</td>\n",
       "      <td>C13</td>\n",
       "      <td>Govt</td>\n",
       "    </tr>\n",
       "  </tbody>\n",
       "</table>\n",
       "</div>"
      ],
      "text/plain": [
       "   Customer  Age        City   Product   Limit Company        Segment\n",
       "13      A14   16   BANGALORE      Gold  500000     C14   Salaried_Pvt\n",
       "40      A41   13      COCHIN  Platimum  500000     C23           Govt\n",
       "62      A63   15   BANGALORE      Gold  500000     C25  Self Employed\n",
       "67      A68   12  TRIVANDRUM    Silver  100000     C30  Self Employed\n",
       "69      A70   16      BOMBAY  Platimum   10001     C32  Self Employed\n",
       "89      A90   16      COCHIN      Gold  500000     C13           Govt"
      ]
     },
     "execution_count": 41,
     "metadata": {},
     "output_type": "execute_result"
    }
   ],
   "source": [
    "customer_acqusition[customer_acqusition.Age<18]"
   ]
  },
  {
   "cell_type": "code",
   "execution_count": 42,
   "id": "c7227841",
   "metadata": {
    "ExecuteTime": {
     "end_time": "2023-02-18T14:10:09.663070Z",
     "start_time": "2023-02-18T14:10:09.543998Z"
    }
   },
   "outputs": [
    {
     "data": {
      "text/plain": [
       "6"
      ]
     },
     "execution_count": 42,
     "metadata": {},
     "output_type": "execute_result"
    }
   ],
   "source": [
    "(customer_acqusition.Age<18).sum()"
   ]
  },
  {
   "cell_type": "code",
   "execution_count": 43,
   "id": "35d64f4d",
   "metadata": {
    "ExecuteTime": {
     "end_time": "2023-02-18T14:10:09.819452Z",
     "start_time": "2023-02-18T14:10:09.670018Z"
    }
   },
   "outputs": [
    {
     "data": {
      "text/plain": [
       "46"
      ]
     },
     "execution_count": 43,
     "metadata": {},
     "output_type": "execute_result"
    }
   ],
   "source": [
    "m_age = round((customer_acqusition.Age).mean())\n",
    "m_age"
   ]
  },
  {
   "cell_type": "code",
   "execution_count": 44,
   "id": "607cb4be",
   "metadata": {
    "ExecuteTime": {
     "end_time": "2023-02-18T14:10:09.961116Z",
     "start_time": "2023-02-18T14:10:09.830415Z"
    }
   },
   "outputs": [],
   "source": [
    "customer_acqusition[\"Age\"] = np.where(customer_acqusition.Age<18,m_age,customer_acqusition.Age)"
   ]
  },
  {
   "cell_type": "code",
   "execution_count": 45,
   "id": "d68e801c",
   "metadata": {
    "ExecuteTime": {
     "end_time": "2023-02-18T14:10:10.118925Z",
     "start_time": "2023-02-18T14:10:09.965072Z"
    }
   },
   "outputs": [
    {
     "data": {
      "text/plain": [
       "0"
      ]
     },
     "execution_count": 45,
     "metadata": {},
     "output_type": "execute_result"
    }
   ],
   "source": [
    "(customer_acqusition.Age<18).sum()"
   ]
  },
  {
   "cell_type": "markdown",
   "id": "bdea91d8",
   "metadata": {},
   "source": [
    "### b. In case spend amount is more than the limit, replace it with 50% of that customer’s limit"
   ]
  },
  {
   "cell_type": "code",
   "execution_count": 46,
   "id": "6f69c0d1",
   "metadata": {
    "ExecuteTime": {
     "end_time": "2023-02-18T14:10:10.259881Z",
     "start_time": "2023-02-18T14:10:10.127866Z"
    }
   },
   "outputs": [
    {
     "data": {
      "text/html": [
       "<div>\n",
       "<style scoped>\n",
       "    .dataframe tbody tr th:only-of-type {\n",
       "        vertical-align: middle;\n",
       "    }\n",
       "\n",
       "    .dataframe tbody tr th {\n",
       "        vertical-align: top;\n",
       "    }\n",
       "\n",
       "    .dataframe thead th {\n",
       "        text-align: right;\n",
       "    }\n",
       "</style>\n",
       "<table border=\"1\" class=\"dataframe\">\n",
       "  <thead>\n",
       "    <tr style=\"text-align: right;\">\n",
       "      <th></th>\n",
       "      <th>Customer</th>\n",
       "      <th>Age</th>\n",
       "      <th>City</th>\n",
       "      <th>Product</th>\n",
       "      <th>Limit</th>\n",
       "      <th>Company</th>\n",
       "      <th>Segment</th>\n",
       "    </tr>\n",
       "  </thead>\n",
       "  <tbody>\n",
       "    <tr>\n",
       "      <th>0</th>\n",
       "      <td>A1</td>\n",
       "      <td>76</td>\n",
       "      <td>BANGALORE</td>\n",
       "      <td>Gold</td>\n",
       "      <td>500000</td>\n",
       "      <td>C1</td>\n",
       "      <td>Self Employed</td>\n",
       "    </tr>\n",
       "    <tr>\n",
       "      <th>1</th>\n",
       "      <td>A2</td>\n",
       "      <td>71</td>\n",
       "      <td>CALCUTTA</td>\n",
       "      <td>Silver</td>\n",
       "      <td>100000</td>\n",
       "      <td>C2</td>\n",
       "      <td>Salaried_MNC</td>\n",
       "    </tr>\n",
       "    <tr>\n",
       "      <th>2</th>\n",
       "      <td>A3</td>\n",
       "      <td>34</td>\n",
       "      <td>COCHIN</td>\n",
       "      <td>Platimum</td>\n",
       "      <td>10000</td>\n",
       "      <td>C3</td>\n",
       "      <td>Salaried_Pvt</td>\n",
       "    </tr>\n",
       "    <tr>\n",
       "      <th>3</th>\n",
       "      <td>A4</td>\n",
       "      <td>47</td>\n",
       "      <td>BOMBAY</td>\n",
       "      <td>Platimum</td>\n",
       "      <td>10001</td>\n",
       "      <td>C4</td>\n",
       "      <td>Govt</td>\n",
       "    </tr>\n",
       "    <tr>\n",
       "      <th>4</th>\n",
       "      <td>A5</td>\n",
       "      <td>56</td>\n",
       "      <td>BANGALORE</td>\n",
       "      <td>Platimum</td>\n",
       "      <td>10002</td>\n",
       "      <td>C5</td>\n",
       "      <td>Normal Salary</td>\n",
       "    </tr>\n",
       "  </tbody>\n",
       "</table>\n",
       "</div>"
      ],
      "text/plain": [
       "  Customer  Age       City   Product   Limit Company        Segment\n",
       "0       A1   76  BANGALORE      Gold  500000      C1  Self Employed\n",
       "1       A2   71   CALCUTTA    Silver  100000      C2   Salaried_MNC\n",
       "2       A3   34     COCHIN  Platimum   10000      C3   Salaried_Pvt\n",
       "3       A4   47     BOMBAY  Platimum   10001      C4           Govt\n",
       "4       A5   56  BANGALORE  Platimum   10002      C5  Normal Salary"
      ]
     },
     "execution_count": 46,
     "metadata": {},
     "output_type": "execute_result"
    }
   ],
   "source": [
    "customer_acqusition.head()"
   ]
  },
  {
   "cell_type": "code",
   "execution_count": 47,
   "id": "9e6de37f",
   "metadata": {
    "ExecuteTime": {
     "end_time": "2023-02-18T14:10:10.448311Z",
     "start_time": "2023-02-18T14:10:10.262845Z"
    }
   },
   "outputs": [
    {
     "data": {
      "text/html": [
       "<div>\n",
       "<style scoped>\n",
       "    .dataframe tbody tr th:only-of-type {\n",
       "        vertical-align: middle;\n",
       "    }\n",
       "\n",
       "    .dataframe tbody tr th {\n",
       "        vertical-align: top;\n",
       "    }\n",
       "\n",
       "    .dataframe thead th {\n",
       "        text-align: right;\n",
       "    }\n",
       "</style>\n",
       "<table border=\"1\" class=\"dataframe\">\n",
       "  <thead>\n",
       "    <tr style=\"text-align: right;\">\n",
       "      <th></th>\n",
       "      <th>Customer</th>\n",
       "      <th>Month</th>\n",
       "      <th>Type</th>\n",
       "      <th>Spent_Amount</th>\n",
       "    </tr>\n",
       "  </thead>\n",
       "  <tbody>\n",
       "    <tr>\n",
       "      <th>0</th>\n",
       "      <td>A1</td>\n",
       "      <td>2004-01-12</td>\n",
       "      <td>JEWELLERY</td>\n",
       "      <td>485470.80</td>\n",
       "    </tr>\n",
       "    <tr>\n",
       "      <th>1</th>\n",
       "      <td>A1</td>\n",
       "      <td>2004-01-03</td>\n",
       "      <td>PETRO</td>\n",
       "      <td>410556.13</td>\n",
       "    </tr>\n",
       "    <tr>\n",
       "      <th>2</th>\n",
       "      <td>A1</td>\n",
       "      <td>2004-01-15</td>\n",
       "      <td>CLOTHES</td>\n",
       "      <td>23740.46</td>\n",
       "    </tr>\n",
       "    <tr>\n",
       "      <th>3</th>\n",
       "      <td>A1</td>\n",
       "      <td>2004-01-25</td>\n",
       "      <td>FOOD</td>\n",
       "      <td>484342.47</td>\n",
       "    </tr>\n",
       "    <tr>\n",
       "      <th>4</th>\n",
       "      <td>A1</td>\n",
       "      <td>2005-01-17</td>\n",
       "      <td>CAMERA</td>\n",
       "      <td>369694.07</td>\n",
       "    </tr>\n",
       "  </tbody>\n",
       "</table>\n",
       "</div>"
      ],
      "text/plain": [
       "  Customer      Month       Type  Spent_Amount\n",
       "0       A1 2004-01-12  JEWELLERY     485470.80\n",
       "1       A1 2004-01-03      PETRO     410556.13\n",
       "2       A1 2004-01-15    CLOTHES      23740.46\n",
       "3       A1 2004-01-25       FOOD     484342.47\n",
       "4       A1 2005-01-17     CAMERA     369694.07"
      ]
     },
     "execution_count": 47,
     "metadata": {},
     "output_type": "execute_result"
    }
   ],
   "source": [
    "spend_df.head()"
   ]
  },
  {
   "cell_type": "code",
   "execution_count": 48,
   "id": "50d82f57",
   "metadata": {
    "ExecuteTime": {
     "end_time": "2023-02-18T14:10:10.605212Z",
     "start_time": "2023-02-18T14:10:10.456293Z"
    }
   },
   "outputs": [
    {
     "data": {
      "text/html": [
       "<div>\n",
       "<style scoped>\n",
       "    .dataframe tbody tr th:only-of-type {\n",
       "        vertical-align: middle;\n",
       "    }\n",
       "\n",
       "    .dataframe tbody tr th {\n",
       "        vertical-align: top;\n",
       "    }\n",
       "\n",
       "    .dataframe thead th {\n",
       "        text-align: right;\n",
       "    }\n",
       "</style>\n",
       "<table border=\"1\" class=\"dataframe\">\n",
       "  <thead>\n",
       "    <tr style=\"text-align: right;\">\n",
       "      <th></th>\n",
       "      <th>Customer</th>\n",
       "      <th>Age</th>\n",
       "      <th>City</th>\n",
       "      <th>Product</th>\n",
       "      <th>Limit</th>\n",
       "      <th>Company</th>\n",
       "      <th>Segment</th>\n",
       "      <th>Month</th>\n",
       "      <th>Type</th>\n",
       "      <th>Spent_Amount</th>\n",
       "    </tr>\n",
       "  </thead>\n",
       "  <tbody>\n",
       "    <tr>\n",
       "      <th>0</th>\n",
       "      <td>A1</td>\n",
       "      <td>76</td>\n",
       "      <td>BANGALORE</td>\n",
       "      <td>Gold</td>\n",
       "      <td>500000</td>\n",
       "      <td>C1</td>\n",
       "      <td>Self Employed</td>\n",
       "      <td>2004-01-12</td>\n",
       "      <td>JEWELLERY</td>\n",
       "      <td>485470.80</td>\n",
       "    </tr>\n",
       "    <tr>\n",
       "      <th>1</th>\n",
       "      <td>A1</td>\n",
       "      <td>76</td>\n",
       "      <td>BANGALORE</td>\n",
       "      <td>Gold</td>\n",
       "      <td>500000</td>\n",
       "      <td>C1</td>\n",
       "      <td>Self Employed</td>\n",
       "      <td>2004-01-03</td>\n",
       "      <td>PETRO</td>\n",
       "      <td>410556.13</td>\n",
       "    </tr>\n",
       "    <tr>\n",
       "      <th>2</th>\n",
       "      <td>A1</td>\n",
       "      <td>76</td>\n",
       "      <td>BANGALORE</td>\n",
       "      <td>Gold</td>\n",
       "      <td>500000</td>\n",
       "      <td>C1</td>\n",
       "      <td>Self Employed</td>\n",
       "      <td>2004-01-15</td>\n",
       "      <td>CLOTHES</td>\n",
       "      <td>23740.46</td>\n",
       "    </tr>\n",
       "    <tr>\n",
       "      <th>3</th>\n",
       "      <td>A1</td>\n",
       "      <td>76</td>\n",
       "      <td>BANGALORE</td>\n",
       "      <td>Gold</td>\n",
       "      <td>500000</td>\n",
       "      <td>C1</td>\n",
       "      <td>Self Employed</td>\n",
       "      <td>2004-01-25</td>\n",
       "      <td>FOOD</td>\n",
       "      <td>484342.47</td>\n",
       "    </tr>\n",
       "    <tr>\n",
       "      <th>4</th>\n",
       "      <td>A1</td>\n",
       "      <td>76</td>\n",
       "      <td>BANGALORE</td>\n",
       "      <td>Gold</td>\n",
       "      <td>500000</td>\n",
       "      <td>C1</td>\n",
       "      <td>Self Employed</td>\n",
       "      <td>2005-01-17</td>\n",
       "      <td>CAMERA</td>\n",
       "      <td>369694.07</td>\n",
       "    </tr>\n",
       "  </tbody>\n",
       "</table>\n",
       "</div>"
      ],
      "text/plain": [
       "  Customer  Age       City Product   Limit Company        Segment      Month  \\\n",
       "0       A1   76  BANGALORE    Gold  500000      C1  Self Employed 2004-01-12   \n",
       "1       A1   76  BANGALORE    Gold  500000      C1  Self Employed 2004-01-03   \n",
       "2       A1   76  BANGALORE    Gold  500000      C1  Self Employed 2004-01-15   \n",
       "3       A1   76  BANGALORE    Gold  500000      C1  Self Employed 2004-01-25   \n",
       "4       A1   76  BANGALORE    Gold  500000      C1  Self Employed 2005-01-17   \n",
       "\n",
       "        Type  Spent_Amount  \n",
       "0  JEWELLERY     485470.80  \n",
       "1      PETRO     410556.13  \n",
       "2    CLOTHES      23740.46  \n",
       "3       FOOD     484342.47  \n",
       "4     CAMERA     369694.07  "
      ]
     },
     "execution_count": 48,
     "metadata": {},
     "output_type": "execute_result"
    }
   ],
   "source": [
    "c_s_df = pd.merge(left=customer_acqusition,right=spend_df,on=\"Customer\")\n",
    "c_s_df.head()"
   ]
  },
  {
   "cell_type": "code",
   "execution_count": 49,
   "id": "5d5cb7c2",
   "metadata": {
    "ExecuteTime": {
     "end_time": "2023-02-18T14:10:10.824159Z",
     "start_time": "2023-02-18T14:10:10.609376Z"
    }
   },
   "outputs": [
    {
     "data": {
      "text/html": [
       "<div>\n",
       "<style scoped>\n",
       "    .dataframe tbody tr th:only-of-type {\n",
       "        vertical-align: middle;\n",
       "    }\n",
       "\n",
       "    .dataframe tbody tr th {\n",
       "        vertical-align: top;\n",
       "    }\n",
       "\n",
       "    .dataframe thead th {\n",
       "        text-align: right;\n",
       "    }\n",
       "</style>\n",
       "<table border=\"1\" class=\"dataframe\">\n",
       "  <thead>\n",
       "    <tr style=\"text-align: right;\">\n",
       "      <th></th>\n",
       "      <th>Customer</th>\n",
       "      <th>Age</th>\n",
       "      <th>City</th>\n",
       "      <th>Product</th>\n",
       "      <th>Limit</th>\n",
       "      <th>Company</th>\n",
       "      <th>Segment</th>\n",
       "      <th>Month</th>\n",
       "      <th>Type</th>\n",
       "      <th>Spent_Amount</th>\n",
       "    </tr>\n",
       "  </thead>\n",
       "  <tbody>\n",
       "    <tr>\n",
       "      <th>18</th>\n",
       "      <td>A2</td>\n",
       "      <td>71</td>\n",
       "      <td>CALCUTTA</td>\n",
       "      <td>Silver</td>\n",
       "      <td>100000</td>\n",
       "      <td>C2</td>\n",
       "      <td>Salaried_MNC</td>\n",
       "      <td>2004-01-03</td>\n",
       "      <td>RENTAL</td>\n",
       "      <td>199554.72</td>\n",
       "    </tr>\n",
       "    <tr>\n",
       "      <th>19</th>\n",
       "      <td>A2</td>\n",
       "      <td>71</td>\n",
       "      <td>CALCUTTA</td>\n",
       "      <td>Silver</td>\n",
       "      <td>100000</td>\n",
       "      <td>C2</td>\n",
       "      <td>Salaried_MNC</td>\n",
       "      <td>2005-02-28</td>\n",
       "      <td>TRAIN TICKET</td>\n",
       "      <td>376887.49</td>\n",
       "    </tr>\n",
       "    <tr>\n",
       "      <th>20</th>\n",
       "      <td>A2</td>\n",
       "      <td>71</td>\n",
       "      <td>CALCUTTA</td>\n",
       "      <td>Silver</td>\n",
       "      <td>100000</td>\n",
       "      <td>C2</td>\n",
       "      <td>Salaried_MNC</td>\n",
       "      <td>2004-04-06</td>\n",
       "      <td>BUS TICKET</td>\n",
       "      <td>439648.53</td>\n",
       "    </tr>\n",
       "    <tr>\n",
       "      <th>21</th>\n",
       "      <td>A2</td>\n",
       "      <td>71</td>\n",
       "      <td>CALCUTTA</td>\n",
       "      <td>Silver</td>\n",
       "      <td>100000</td>\n",
       "      <td>C2</td>\n",
       "      <td>Salaried_MNC</td>\n",
       "      <td>2004-11-23</td>\n",
       "      <td>PETRO</td>\n",
       "      <td>384078.73</td>\n",
       "    </tr>\n",
       "    <tr>\n",
       "      <th>22</th>\n",
       "      <td>A2</td>\n",
       "      <td>71</td>\n",
       "      <td>CALCUTTA</td>\n",
       "      <td>Silver</td>\n",
       "      <td>100000</td>\n",
       "      <td>C2</td>\n",
       "      <td>Salaried_MNC</td>\n",
       "      <td>2005-09-03</td>\n",
       "      <td>JEWELLERY</td>\n",
       "      <td>117089.16</td>\n",
       "    </tr>\n",
       "  </tbody>\n",
       "</table>\n",
       "</div>"
      ],
      "text/plain": [
       "   Customer  Age      City Product   Limit Company       Segment      Month  \\\n",
       "18       A2   71  CALCUTTA  Silver  100000      C2  Salaried_MNC 2004-01-03   \n",
       "19       A2   71  CALCUTTA  Silver  100000      C2  Salaried_MNC 2005-02-28   \n",
       "20       A2   71  CALCUTTA  Silver  100000      C2  Salaried_MNC 2004-04-06   \n",
       "21       A2   71  CALCUTTA  Silver  100000      C2  Salaried_MNC 2004-11-23   \n",
       "22       A2   71  CALCUTTA  Silver  100000      C2  Salaried_MNC 2005-09-03   \n",
       "\n",
       "            Type  Spent_Amount  \n",
       "18        RENTAL     199554.72  \n",
       "19  TRAIN TICKET     376887.49  \n",
       "20    BUS TICKET     439648.53  \n",
       "21         PETRO     384078.73  \n",
       "22     JEWELLERY     117089.16  "
      ]
     },
     "execution_count": 49,
     "metadata": {},
     "output_type": "execute_result"
    }
   ],
   "source": [
    "c_s_df[c_s_df.Spent_Amount>c_s_df.Limit].head()"
   ]
  },
  {
   "cell_type": "code",
   "execution_count": 50,
   "id": "0d85a608",
   "metadata": {
    "ExecuteTime": {
     "end_time": "2023-02-18T14:10:10.899957Z",
     "start_time": "2023-02-18T14:10:10.830144Z"
    }
   },
   "outputs": [
    {
     "data": {
      "text/plain": [
       "607"
      ]
     },
     "execution_count": 50,
     "metadata": {},
     "output_type": "execute_result"
    }
   ],
   "source": [
    "(c_s_df.Spent_Amount>c_s_df.Limit).sum()"
   ]
  },
  {
   "cell_type": "code",
   "execution_count": 51,
   "id": "bb1100e6",
   "metadata": {
    "ExecuteTime": {
     "end_time": "2023-02-18T14:10:11.069895Z",
     "start_time": "2023-02-18T14:10:10.902949Z"
    }
   },
   "outputs": [
    {
     "data": {
      "text/html": [
       "<div>\n",
       "<style scoped>\n",
       "    .dataframe tbody tr th:only-of-type {\n",
       "        vertical-align: middle;\n",
       "    }\n",
       "\n",
       "    .dataframe tbody tr th {\n",
       "        vertical-align: top;\n",
       "    }\n",
       "\n",
       "    .dataframe thead th {\n",
       "        text-align: right;\n",
       "    }\n",
       "</style>\n",
       "<table border=\"1\" class=\"dataframe\">\n",
       "  <thead>\n",
       "    <tr style=\"text-align: right;\">\n",
       "      <th></th>\n",
       "      <th>Customer</th>\n",
       "      <th>Age</th>\n",
       "      <th>City</th>\n",
       "      <th>Product</th>\n",
       "      <th>Limit</th>\n",
       "      <th>Company</th>\n",
       "      <th>Segment</th>\n",
       "      <th>Month</th>\n",
       "      <th>Type</th>\n",
       "      <th>Spent_Amount</th>\n",
       "    </tr>\n",
       "  </thead>\n",
       "  <tbody>\n",
       "    <tr>\n",
       "      <th>18</th>\n",
       "      <td>A2</td>\n",
       "      <td>71</td>\n",
       "      <td>CALCUTTA</td>\n",
       "      <td>Silver</td>\n",
       "      <td>100000</td>\n",
       "      <td>C2</td>\n",
       "      <td>Salaried_MNC</td>\n",
       "      <td>2004-01-03</td>\n",
       "      <td>RENTAL</td>\n",
       "      <td>50000.0</td>\n",
       "    </tr>\n",
       "    <tr>\n",
       "      <th>19</th>\n",
       "      <td>A2</td>\n",
       "      <td>71</td>\n",
       "      <td>CALCUTTA</td>\n",
       "      <td>Silver</td>\n",
       "      <td>100000</td>\n",
       "      <td>C2</td>\n",
       "      <td>Salaried_MNC</td>\n",
       "      <td>2005-02-28</td>\n",
       "      <td>TRAIN TICKET</td>\n",
       "      <td>50000.0</td>\n",
       "    </tr>\n",
       "    <tr>\n",
       "      <th>20</th>\n",
       "      <td>A2</td>\n",
       "      <td>71</td>\n",
       "      <td>CALCUTTA</td>\n",
       "      <td>Silver</td>\n",
       "      <td>100000</td>\n",
       "      <td>C2</td>\n",
       "      <td>Salaried_MNC</td>\n",
       "      <td>2004-04-06</td>\n",
       "      <td>BUS TICKET</td>\n",
       "      <td>50000.0</td>\n",
       "    </tr>\n",
       "    <tr>\n",
       "      <th>21</th>\n",
       "      <td>A2</td>\n",
       "      <td>71</td>\n",
       "      <td>CALCUTTA</td>\n",
       "      <td>Silver</td>\n",
       "      <td>100000</td>\n",
       "      <td>C2</td>\n",
       "      <td>Salaried_MNC</td>\n",
       "      <td>2004-11-23</td>\n",
       "      <td>PETRO</td>\n",
       "      <td>50000.0</td>\n",
       "    </tr>\n",
       "    <tr>\n",
       "      <th>22</th>\n",
       "      <td>A2</td>\n",
       "      <td>71</td>\n",
       "      <td>CALCUTTA</td>\n",
       "      <td>Silver</td>\n",
       "      <td>100000</td>\n",
       "      <td>C2</td>\n",
       "      <td>Salaried_MNC</td>\n",
       "      <td>2005-09-03</td>\n",
       "      <td>JEWELLERY</td>\n",
       "      <td>50000.0</td>\n",
       "    </tr>\n",
       "  </tbody>\n",
       "</table>\n",
       "</div>"
      ],
      "text/plain": [
       "   Customer  Age      City Product   Limit Company       Segment      Month  \\\n",
       "18       A2   71  CALCUTTA  Silver  100000      C2  Salaried_MNC 2004-01-03   \n",
       "19       A2   71  CALCUTTA  Silver  100000      C2  Salaried_MNC 2005-02-28   \n",
       "20       A2   71  CALCUTTA  Silver  100000      C2  Salaried_MNC 2004-04-06   \n",
       "21       A2   71  CALCUTTA  Silver  100000      C2  Salaried_MNC 2004-11-23   \n",
       "22       A2   71  CALCUTTA  Silver  100000      C2  Salaried_MNC 2005-09-03   \n",
       "\n",
       "            Type  Spent_Amount  \n",
       "18        RENTAL       50000.0  \n",
       "19  TRAIN TICKET       50000.0  \n",
       "20    BUS TICKET       50000.0  \n",
       "21         PETRO       50000.0  \n",
       "22     JEWELLERY       50000.0  "
      ]
     },
     "execution_count": 51,
     "metadata": {},
     "output_type": "execute_result"
    }
   ],
   "source": [
    "c_s_df[\"Spent_Amount\"] = np.where(c_s_df.Spent_Amount>c_s_df.Limit,c_s_df.Limit*0.5,c_s_df.Spent_Amount)\n",
    "\n",
    "c_s_df[c_s_df.Customer=='A2'].head()"
   ]
  },
  {
   "cell_type": "code",
   "execution_count": 52,
   "id": "af46b10c",
   "metadata": {
    "ExecuteTime": {
     "end_time": "2023-02-18T14:10:11.211712Z",
     "start_time": "2023-02-18T14:10:11.073886Z"
    }
   },
   "outputs": [
    {
     "data": {
      "text/plain": [
       "0"
      ]
     },
     "execution_count": 52,
     "metadata": {},
     "output_type": "execute_result"
    }
   ],
   "source": [
    "(c_s_df.Spent_Amount>c_s_df.Limit).sum()"
   ]
  },
  {
   "cell_type": "markdown",
   "id": "c177c37a",
   "metadata": {},
   "source": [
    "### c. Incase the repayment amount is more than the limit, replace the repayment with the limit."
   ]
  },
  {
   "cell_type": "code",
   "execution_count": 53,
   "id": "4ba10c5e",
   "metadata": {
    "ExecuteTime": {
     "end_time": "2023-02-18T14:10:11.352309Z",
     "start_time": "2023-02-18T14:10:11.225675Z"
    }
   },
   "outputs": [
    {
     "data": {
      "text/html": [
       "<div>\n",
       "<style scoped>\n",
       "    .dataframe tbody tr th:only-of-type {\n",
       "        vertical-align: middle;\n",
       "    }\n",
       "\n",
       "    .dataframe tbody tr th {\n",
       "        vertical-align: top;\n",
       "    }\n",
       "\n",
       "    .dataframe thead th {\n",
       "        text-align: right;\n",
       "    }\n",
       "</style>\n",
       "<table border=\"1\" class=\"dataframe\">\n",
       "  <thead>\n",
       "    <tr style=\"text-align: right;\">\n",
       "      <th></th>\n",
       "      <th>Customer</th>\n",
       "      <th>Age</th>\n",
       "      <th>City</th>\n",
       "      <th>Product</th>\n",
       "      <th>Limit</th>\n",
       "      <th>Company</th>\n",
       "      <th>Segment</th>\n",
       "    </tr>\n",
       "  </thead>\n",
       "  <tbody>\n",
       "    <tr>\n",
       "      <th>0</th>\n",
       "      <td>A1</td>\n",
       "      <td>76</td>\n",
       "      <td>BANGALORE</td>\n",
       "      <td>Gold</td>\n",
       "      <td>500000</td>\n",
       "      <td>C1</td>\n",
       "      <td>Self Employed</td>\n",
       "    </tr>\n",
       "    <tr>\n",
       "      <th>1</th>\n",
       "      <td>A2</td>\n",
       "      <td>71</td>\n",
       "      <td>CALCUTTA</td>\n",
       "      <td>Silver</td>\n",
       "      <td>100000</td>\n",
       "      <td>C2</td>\n",
       "      <td>Salaried_MNC</td>\n",
       "    </tr>\n",
       "    <tr>\n",
       "      <th>2</th>\n",
       "      <td>A3</td>\n",
       "      <td>34</td>\n",
       "      <td>COCHIN</td>\n",
       "      <td>Platimum</td>\n",
       "      <td>10000</td>\n",
       "      <td>C3</td>\n",
       "      <td>Salaried_Pvt</td>\n",
       "    </tr>\n",
       "    <tr>\n",
       "      <th>3</th>\n",
       "      <td>A4</td>\n",
       "      <td>47</td>\n",
       "      <td>BOMBAY</td>\n",
       "      <td>Platimum</td>\n",
       "      <td>10001</td>\n",
       "      <td>C4</td>\n",
       "      <td>Govt</td>\n",
       "    </tr>\n",
       "    <tr>\n",
       "      <th>4</th>\n",
       "      <td>A5</td>\n",
       "      <td>56</td>\n",
       "      <td>BANGALORE</td>\n",
       "      <td>Platimum</td>\n",
       "      <td>10002</td>\n",
       "      <td>C5</td>\n",
       "      <td>Normal Salary</td>\n",
       "    </tr>\n",
       "  </tbody>\n",
       "</table>\n",
       "</div>"
      ],
      "text/plain": [
       "  Customer  Age       City   Product   Limit Company        Segment\n",
       "0       A1   76  BANGALORE      Gold  500000      C1  Self Employed\n",
       "1       A2   71   CALCUTTA    Silver  100000      C2   Salaried_MNC\n",
       "2       A3   34     COCHIN  Platimum   10000      C3   Salaried_Pvt\n",
       "3       A4   47     BOMBAY  Platimum   10001      C4           Govt\n",
       "4       A5   56  BANGALORE  Platimum   10002      C5  Normal Salary"
      ]
     },
     "execution_count": 53,
     "metadata": {},
     "output_type": "execute_result"
    }
   ],
   "source": [
    "customer_acqusition.head()"
   ]
  },
  {
   "cell_type": "code",
   "execution_count": 54,
   "id": "b84d0a3e",
   "metadata": {
    "ExecuteTime": {
     "end_time": "2023-02-18T14:10:11.540111Z",
     "start_time": "2023-02-18T14:10:11.356270Z"
    }
   },
   "outputs": [
    {
     "data": {
      "text/html": [
       "<div>\n",
       "<style scoped>\n",
       "    .dataframe tbody tr th:only-of-type {\n",
       "        vertical-align: middle;\n",
       "    }\n",
       "\n",
       "    .dataframe tbody tr th {\n",
       "        vertical-align: top;\n",
       "    }\n",
       "\n",
       "    .dataframe thead th {\n",
       "        text-align: right;\n",
       "    }\n",
       "</style>\n",
       "<table border=\"1\" class=\"dataframe\">\n",
       "  <thead>\n",
       "    <tr style=\"text-align: right;\">\n",
       "      <th></th>\n",
       "      <th>Customer</th>\n",
       "      <th>Month</th>\n",
       "      <th>Repay_Amount</th>\n",
       "    </tr>\n",
       "  </thead>\n",
       "  <tbody>\n",
       "    <tr>\n",
       "      <th>0</th>\n",
       "      <td>A1</td>\n",
       "      <td>2004-01-12</td>\n",
       "      <td>495414.75</td>\n",
       "    </tr>\n",
       "    <tr>\n",
       "      <th>1</th>\n",
       "      <td>A1</td>\n",
       "      <td>2004-01-03</td>\n",
       "      <td>245899.02</td>\n",
       "    </tr>\n",
       "    <tr>\n",
       "      <th>2</th>\n",
       "      <td>A1</td>\n",
       "      <td>2004-01-15</td>\n",
       "      <td>259490.06</td>\n",
       "    </tr>\n",
       "    <tr>\n",
       "      <th>3</th>\n",
       "      <td>A1</td>\n",
       "      <td>2004-01-25</td>\n",
       "      <td>437555.12</td>\n",
       "    </tr>\n",
       "    <tr>\n",
       "      <th>4</th>\n",
       "      <td>A1</td>\n",
       "      <td>2005-01-17</td>\n",
       "      <td>165972.88</td>\n",
       "    </tr>\n",
       "  </tbody>\n",
       "</table>\n",
       "</div>"
      ],
      "text/plain": [
       "  Customer      Month  Repay_Amount\n",
       "0       A1 2004-01-12     495414.75\n",
       "1       A1 2004-01-03     245899.02\n",
       "2       A1 2004-01-15     259490.06\n",
       "3       A1 2004-01-25     437555.12\n",
       "4       A1 2005-01-17     165972.88"
      ]
     },
     "execution_count": 54,
     "metadata": {},
     "output_type": "execute_result"
    }
   ],
   "source": [
    "repayment_df.head()"
   ]
  },
  {
   "cell_type": "code",
   "execution_count": 55,
   "id": "6d191c7a",
   "metadata": {
    "ExecuteTime": {
     "end_time": "2023-02-18T14:10:11.851739Z",
     "start_time": "2023-02-18T14:10:11.556053Z"
    }
   },
   "outputs": [
    {
     "data": {
      "text/html": [
       "<div>\n",
       "<style scoped>\n",
       "    .dataframe tbody tr th:only-of-type {\n",
       "        vertical-align: middle;\n",
       "    }\n",
       "\n",
       "    .dataframe tbody tr th {\n",
       "        vertical-align: top;\n",
       "    }\n",
       "\n",
       "    .dataframe thead th {\n",
       "        text-align: right;\n",
       "    }\n",
       "</style>\n",
       "<table border=\"1\" class=\"dataframe\">\n",
       "  <thead>\n",
       "    <tr style=\"text-align: right;\">\n",
       "      <th></th>\n",
       "      <th>Customer</th>\n",
       "      <th>Age</th>\n",
       "      <th>City</th>\n",
       "      <th>Product</th>\n",
       "      <th>Limit</th>\n",
       "      <th>Company</th>\n",
       "      <th>Segment</th>\n",
       "      <th>Month</th>\n",
       "      <th>Repay_Amount</th>\n",
       "    </tr>\n",
       "  </thead>\n",
       "  <tbody>\n",
       "    <tr>\n",
       "      <th>0</th>\n",
       "      <td>A1</td>\n",
       "      <td>76</td>\n",
       "      <td>BANGALORE</td>\n",
       "      <td>Gold</td>\n",
       "      <td>500000</td>\n",
       "      <td>C1</td>\n",
       "      <td>Self Employed</td>\n",
       "      <td>2004-01-12</td>\n",
       "      <td>495414.75</td>\n",
       "    </tr>\n",
       "    <tr>\n",
       "      <th>1</th>\n",
       "      <td>A1</td>\n",
       "      <td>76</td>\n",
       "      <td>BANGALORE</td>\n",
       "      <td>Gold</td>\n",
       "      <td>500000</td>\n",
       "      <td>C1</td>\n",
       "      <td>Self Employed</td>\n",
       "      <td>2004-01-03</td>\n",
       "      <td>245899.02</td>\n",
       "    </tr>\n",
       "    <tr>\n",
       "      <th>2</th>\n",
       "      <td>A1</td>\n",
       "      <td>76</td>\n",
       "      <td>BANGALORE</td>\n",
       "      <td>Gold</td>\n",
       "      <td>500000</td>\n",
       "      <td>C1</td>\n",
       "      <td>Self Employed</td>\n",
       "      <td>2004-01-15</td>\n",
       "      <td>259490.06</td>\n",
       "    </tr>\n",
       "    <tr>\n",
       "      <th>3</th>\n",
       "      <td>A1</td>\n",
       "      <td>76</td>\n",
       "      <td>BANGALORE</td>\n",
       "      <td>Gold</td>\n",
       "      <td>500000</td>\n",
       "      <td>C1</td>\n",
       "      <td>Self Employed</td>\n",
       "      <td>2004-01-25</td>\n",
       "      <td>437555.12</td>\n",
       "    </tr>\n",
       "    <tr>\n",
       "      <th>4</th>\n",
       "      <td>A1</td>\n",
       "      <td>76</td>\n",
       "      <td>BANGALORE</td>\n",
       "      <td>Gold</td>\n",
       "      <td>500000</td>\n",
       "      <td>C1</td>\n",
       "      <td>Self Employed</td>\n",
       "      <td>2005-01-17</td>\n",
       "      <td>165972.88</td>\n",
       "    </tr>\n",
       "  </tbody>\n",
       "</table>\n",
       "</div>"
      ],
      "text/plain": [
       "  Customer  Age       City Product   Limit Company        Segment      Month  \\\n",
       "0       A1   76  BANGALORE    Gold  500000      C1  Self Employed 2004-01-12   \n",
       "1       A1   76  BANGALORE    Gold  500000      C1  Self Employed 2004-01-03   \n",
       "2       A1   76  BANGALORE    Gold  500000      C1  Self Employed 2004-01-15   \n",
       "3       A1   76  BANGALORE    Gold  500000      C1  Self Employed 2004-01-25   \n",
       "4       A1   76  BANGALORE    Gold  500000      C1  Self Employed 2005-01-17   \n",
       "\n",
       "   Repay_Amount  \n",
       "0     495414.75  \n",
       "1     245899.02  \n",
       "2     259490.06  \n",
       "3     437555.12  \n",
       "4     165972.88  "
      ]
     },
     "execution_count": 55,
     "metadata": {},
     "output_type": "execute_result"
    }
   ],
   "source": [
    "c_r_df = pd.merge(left=customer_acqusition,right=repayment_df,on=\"Customer\")\n",
    "c_r_df.head()"
   ]
  },
  {
   "cell_type": "code",
   "execution_count": 56,
   "id": "3fe15875",
   "metadata": {
    "ExecuteTime": {
     "end_time": "2023-02-18T14:10:12.422242Z",
     "start_time": "2023-02-18T14:10:11.858716Z"
    }
   },
   "outputs": [
    {
     "data": {
      "text/html": [
       "<div>\n",
       "<style scoped>\n",
       "    .dataframe tbody tr th:only-of-type {\n",
       "        vertical-align: middle;\n",
       "    }\n",
       "\n",
       "    .dataframe tbody tr th {\n",
       "        vertical-align: top;\n",
       "    }\n",
       "\n",
       "    .dataframe thead th {\n",
       "        text-align: right;\n",
       "    }\n",
       "</style>\n",
       "<table border=\"1\" class=\"dataframe\">\n",
       "  <thead>\n",
       "    <tr style=\"text-align: right;\">\n",
       "      <th></th>\n",
       "      <th>Customer</th>\n",
       "      <th>Age</th>\n",
       "      <th>City</th>\n",
       "      <th>Product</th>\n",
       "      <th>Limit</th>\n",
       "      <th>Company</th>\n",
       "      <th>Segment</th>\n",
       "      <th>Month</th>\n",
       "      <th>Repay_Amount</th>\n",
       "    </tr>\n",
       "  </thead>\n",
       "  <tbody>\n",
       "    <tr>\n",
       "      <th>18</th>\n",
       "      <td>A2</td>\n",
       "      <td>71</td>\n",
       "      <td>CALCUTTA</td>\n",
       "      <td>Silver</td>\n",
       "      <td>100000</td>\n",
       "      <td>C2</td>\n",
       "      <td>Salaried_MNC</td>\n",
       "      <td>2004-01-03</td>\n",
       "      <td>185955.07</td>\n",
       "    </tr>\n",
       "    <tr>\n",
       "      <th>19</th>\n",
       "      <td>A2</td>\n",
       "      <td>71</td>\n",
       "      <td>CALCUTTA</td>\n",
       "      <td>Silver</td>\n",
       "      <td>100000</td>\n",
       "      <td>C2</td>\n",
       "      <td>Salaried_MNC</td>\n",
       "      <td>2005-02-28</td>\n",
       "      <td>412783.34</td>\n",
       "    </tr>\n",
       "    <tr>\n",
       "      <th>20</th>\n",
       "      <td>A2</td>\n",
       "      <td>71</td>\n",
       "      <td>CALCUTTA</td>\n",
       "      <td>Silver</td>\n",
       "      <td>100000</td>\n",
       "      <td>C2</td>\n",
       "      <td>Salaried_MNC</td>\n",
       "      <td>2004-04-06</td>\n",
       "      <td>148038.67</td>\n",
       "    </tr>\n",
       "    <tr>\n",
       "      <th>21</th>\n",
       "      <td>A2</td>\n",
       "      <td>71</td>\n",
       "      <td>CALCUTTA</td>\n",
       "      <td>Silver</td>\n",
       "      <td>100000</td>\n",
       "      <td>C2</td>\n",
       "      <td>Salaried_MNC</td>\n",
       "      <td>2004-11-23</td>\n",
       "      <td>179144.68</td>\n",
       "    </tr>\n",
       "    <tr>\n",
       "      <th>23</th>\n",
       "      <td>A2</td>\n",
       "      <td>71</td>\n",
       "      <td>CALCUTTA</td>\n",
       "      <td>Silver</td>\n",
       "      <td>100000</td>\n",
       "      <td>C2</td>\n",
       "      <td>Salaried_MNC</td>\n",
       "      <td>2005-08-03</td>\n",
       "      <td>381635.66</td>\n",
       "    </tr>\n",
       "  </tbody>\n",
       "</table>\n",
       "</div>"
      ],
      "text/plain": [
       "   Customer  Age      City Product   Limit Company       Segment      Month  \\\n",
       "18       A2   71  CALCUTTA  Silver  100000      C2  Salaried_MNC 2004-01-03   \n",
       "19       A2   71  CALCUTTA  Silver  100000      C2  Salaried_MNC 2005-02-28   \n",
       "20       A2   71  CALCUTTA  Silver  100000      C2  Salaried_MNC 2004-04-06   \n",
       "21       A2   71  CALCUTTA  Silver  100000      C2  Salaried_MNC 2004-11-23   \n",
       "23       A2   71  CALCUTTA  Silver  100000      C2  Salaried_MNC 2005-08-03   \n",
       "\n",
       "    Repay_Amount  \n",
       "18     185955.07  \n",
       "19     412783.34  \n",
       "20     148038.67  \n",
       "21     179144.68  \n",
       "23     381635.66  "
      ]
     },
     "execution_count": 56,
     "metadata": {},
     "output_type": "execute_result"
    }
   ],
   "source": [
    "c_r_df[c_r_df.Repay_Amount>c_r_df.Limit].head()"
   ]
  },
  {
   "cell_type": "code",
   "execution_count": 57,
   "id": "d5606c31",
   "metadata": {
    "ExecuteTime": {
     "end_time": "2023-02-18T14:10:12.830929Z",
     "start_time": "2023-02-18T14:10:12.427199Z"
    }
   },
   "outputs": [
    {
     "data": {
      "text/plain": [
       "600"
      ]
     },
     "execution_count": 57,
     "metadata": {},
     "output_type": "execute_result"
    }
   ],
   "source": [
    "(c_r_df.Repay_Amount>c_r_df.Limit).sum()"
   ]
  },
  {
   "cell_type": "code",
   "execution_count": 58,
   "id": "3853fa49",
   "metadata": {
    "ExecuteTime": {
     "end_time": "2023-02-18T14:10:13.032653Z",
     "start_time": "2023-02-18T14:10:12.836878Z"
    }
   },
   "outputs": [
    {
     "data": {
      "text/html": [
       "<div>\n",
       "<style scoped>\n",
       "    .dataframe tbody tr th:only-of-type {\n",
       "        vertical-align: middle;\n",
       "    }\n",
       "\n",
       "    .dataframe tbody tr th {\n",
       "        vertical-align: top;\n",
       "    }\n",
       "\n",
       "    .dataframe thead th {\n",
       "        text-align: right;\n",
       "    }\n",
       "</style>\n",
       "<table border=\"1\" class=\"dataframe\">\n",
       "  <thead>\n",
       "    <tr style=\"text-align: right;\">\n",
       "      <th></th>\n",
       "      <th>Customer</th>\n",
       "      <th>Age</th>\n",
       "      <th>City</th>\n",
       "      <th>Product</th>\n",
       "      <th>Limit</th>\n",
       "      <th>Company</th>\n",
       "      <th>Segment</th>\n",
       "      <th>Month</th>\n",
       "      <th>Repay_Amount</th>\n",
       "    </tr>\n",
       "  </thead>\n",
       "  <tbody>\n",
       "    <tr>\n",
       "      <th>0</th>\n",
       "      <td>A1</td>\n",
       "      <td>76</td>\n",
       "      <td>BANGALORE</td>\n",
       "      <td>Gold</td>\n",
       "      <td>500000</td>\n",
       "      <td>C1</td>\n",
       "      <td>Self Employed</td>\n",
       "      <td>2004-01-12</td>\n",
       "      <td>495414.75</td>\n",
       "    </tr>\n",
       "    <tr>\n",
       "      <th>1</th>\n",
       "      <td>A1</td>\n",
       "      <td>76</td>\n",
       "      <td>BANGALORE</td>\n",
       "      <td>Gold</td>\n",
       "      <td>500000</td>\n",
       "      <td>C1</td>\n",
       "      <td>Self Employed</td>\n",
       "      <td>2004-01-03</td>\n",
       "      <td>245899.02</td>\n",
       "    </tr>\n",
       "    <tr>\n",
       "      <th>2</th>\n",
       "      <td>A1</td>\n",
       "      <td>76</td>\n",
       "      <td>BANGALORE</td>\n",
       "      <td>Gold</td>\n",
       "      <td>500000</td>\n",
       "      <td>C1</td>\n",
       "      <td>Self Employed</td>\n",
       "      <td>2004-01-15</td>\n",
       "      <td>259490.06</td>\n",
       "    </tr>\n",
       "    <tr>\n",
       "      <th>3</th>\n",
       "      <td>A1</td>\n",
       "      <td>76</td>\n",
       "      <td>BANGALORE</td>\n",
       "      <td>Gold</td>\n",
       "      <td>500000</td>\n",
       "      <td>C1</td>\n",
       "      <td>Self Employed</td>\n",
       "      <td>2004-01-25</td>\n",
       "      <td>437555.12</td>\n",
       "    </tr>\n",
       "    <tr>\n",
       "      <th>4</th>\n",
       "      <td>A1</td>\n",
       "      <td>76</td>\n",
       "      <td>BANGALORE</td>\n",
       "      <td>Gold</td>\n",
       "      <td>500000</td>\n",
       "      <td>C1</td>\n",
       "      <td>Self Employed</td>\n",
       "      <td>2005-01-17</td>\n",
       "      <td>165972.88</td>\n",
       "    </tr>\n",
       "  </tbody>\n",
       "</table>\n",
       "</div>"
      ],
      "text/plain": [
       "  Customer  Age       City Product   Limit Company        Segment      Month  \\\n",
       "0       A1   76  BANGALORE    Gold  500000      C1  Self Employed 2004-01-12   \n",
       "1       A1   76  BANGALORE    Gold  500000      C1  Self Employed 2004-01-03   \n",
       "2       A1   76  BANGALORE    Gold  500000      C1  Self Employed 2004-01-15   \n",
       "3       A1   76  BANGALORE    Gold  500000      C1  Self Employed 2004-01-25   \n",
       "4       A1   76  BANGALORE    Gold  500000      C1  Self Employed 2005-01-17   \n",
       "\n",
       "   Repay_Amount  \n",
       "0     495414.75  \n",
       "1     245899.02  \n",
       "2     259490.06  \n",
       "3     437555.12  \n",
       "4     165972.88  "
      ]
     },
     "execution_count": 58,
     "metadata": {},
     "output_type": "execute_result"
    }
   ],
   "source": [
    "c_r_df[\"Repay_Amount\"] = np.where(c_r_df.Repay_Amount>c_r_df.Limit,c_r_df.Limit,c_r_df.Repay_Amount)\n",
    "c_r_df.head()"
   ]
  },
  {
   "cell_type": "code",
   "execution_count": 59,
   "id": "9bd47afa",
   "metadata": {
    "ExecuteTime": {
     "end_time": "2023-02-18T14:10:13.143509Z",
     "start_time": "2023-02-18T14:10:13.039609Z"
    },
    "scrolled": true
   },
   "outputs": [
    {
     "data": {
      "text/plain": [
       "0"
      ]
     },
     "execution_count": 59,
     "metadata": {},
     "output_type": "execute_result"
    }
   ],
   "source": [
    "(c_r_df.Repay_Amount>c_r_df.Limit).sum()"
   ]
  },
  {
   "cell_type": "markdown",
   "id": "93b33a0b",
   "metadata": {},
   "source": [
    "## 2. From the above dataset create the following summaries:\n",
    "    a. How many distinct customers exist?\n",
    "    b. How many distinct categories exist?\n",
    "    c. What is the average monthly spend by customers?\n",
    "    d. What is the average monthly repayment by customers?\n",
    "    e. If the monthly rate of interest is 2.9%, what is the profit for the bank for each month?\n",
    "    (Profit is defined as interest earned on Monthly Profit. Monthly Profit = Monthly repayment Monthly spend. Interest is    earned only on positive profits and not on negative amounts)\n",
    "    f. What are the top 5 product types?\n",
    "    g. Which city is having maximum spend?\n",
    "    h. Which age group is spending more money?\n",
    "    i. Who are the top 10 customers in terms of repayment?"
   ]
  },
  {
   "cell_type": "markdown",
   "id": "46fc09a8",
   "metadata": {},
   "source": [
    "### a. How many distinct customers exist?"
   ]
  },
  {
   "cell_type": "code",
   "execution_count": 60,
   "id": "1f6ee258",
   "metadata": {
    "ExecuteTime": {
     "end_time": "2023-02-18T14:10:13.268744Z",
     "start_time": "2023-02-18T14:10:13.146501Z"
    }
   },
   "outputs": [
    {
     "name": "stdout",
     "output_type": "stream",
     "text": [
      "Number of unique customers are:  100\n"
     ]
    }
   ],
   "source": [
    "print(\"Number of unique customers are: \",customer_acqusition.Customer.nunique())"
   ]
  },
  {
   "cell_type": "markdown",
   "id": "979826ab",
   "metadata": {},
   "source": [
    "### b. How many distinct categories exist?"
   ]
  },
  {
   "cell_type": "code",
   "execution_count": 61,
   "id": "2c81a8b2",
   "metadata": {
    "ExecuteTime": {
     "end_time": "2023-02-18T14:10:13.423531Z",
     "start_time": "2023-02-18T14:10:13.282659Z"
    }
   },
   "outputs": [
    {
     "name": "stdout",
     "output_type": "stream",
     "text": [
      "Number of unique caterories are:  3\n"
     ]
    }
   ],
   "source": [
    "print(\"Number of unique caterories are: \",customer_acqusition.Product.nunique())"
   ]
  },
  {
   "cell_type": "markdown",
   "id": "b13c5318",
   "metadata": {},
   "source": [
    "### c. What is the average monthly spend by customers?"
   ]
  },
  {
   "cell_type": "markdown",
   "id": "165d4083",
   "metadata": {},
   "source": [
    "#### Before replacing spent amount by 50% of limit"
   ]
  },
  {
   "cell_type": "code",
   "execution_count": 62,
   "id": "70d22874",
   "metadata": {
    "ExecuteTime": {
     "end_time": "2023-02-18T14:10:13.565462Z",
     "start_time": "2023-02-18T14:10:13.430359Z"
    }
   },
   "outputs": [],
   "source": [
    "spend_df[\"month\"] = spend_df.Month.dt.month"
   ]
  },
  {
   "cell_type": "code",
   "execution_count": 63,
   "id": "e99b04df",
   "metadata": {
    "ExecuteTime": {
     "end_time": "2023-02-18T14:10:13.704581Z",
     "start_time": "2023-02-18T14:10:13.575443Z"
    }
   },
   "outputs": [],
   "source": [
    "spend_df[\"Year\"] = spend_df.Month.dt.year"
   ]
  },
  {
   "cell_type": "code",
   "execution_count": 64,
   "id": "481ec5a2",
   "metadata": {
    "ExecuteTime": {
     "end_time": "2023-02-18T14:10:13.893868Z",
     "start_time": "2023-02-18T14:10:13.717558Z"
    }
   },
   "outputs": [
    {
     "data": {
      "text/html": [
       "<div>\n",
       "<style scoped>\n",
       "    .dataframe tbody tr th:only-of-type {\n",
       "        vertical-align: middle;\n",
       "    }\n",
       "\n",
       "    .dataframe tbody tr th {\n",
       "        vertical-align: top;\n",
       "    }\n",
       "\n",
       "    .dataframe thead th {\n",
       "        text-align: right;\n",
       "    }\n",
       "</style>\n",
       "<table border=\"1\" class=\"dataframe\">\n",
       "  <thead>\n",
       "    <tr style=\"text-align: right;\">\n",
       "      <th></th>\n",
       "      <th>Customer</th>\n",
       "      <th>Month</th>\n",
       "      <th>Type</th>\n",
       "      <th>Spent_Amount</th>\n",
       "      <th>month</th>\n",
       "      <th>Year</th>\n",
       "    </tr>\n",
       "  </thead>\n",
       "  <tbody>\n",
       "    <tr>\n",
       "      <th>0</th>\n",
       "      <td>A1</td>\n",
       "      <td>2004-01-12</td>\n",
       "      <td>JEWELLERY</td>\n",
       "      <td>485470.80</td>\n",
       "      <td>1</td>\n",
       "      <td>2004</td>\n",
       "    </tr>\n",
       "    <tr>\n",
       "      <th>1</th>\n",
       "      <td>A1</td>\n",
       "      <td>2004-01-03</td>\n",
       "      <td>PETRO</td>\n",
       "      <td>410556.13</td>\n",
       "      <td>1</td>\n",
       "      <td>2004</td>\n",
       "    </tr>\n",
       "    <tr>\n",
       "      <th>2</th>\n",
       "      <td>A1</td>\n",
       "      <td>2004-01-15</td>\n",
       "      <td>CLOTHES</td>\n",
       "      <td>23740.46</td>\n",
       "      <td>1</td>\n",
       "      <td>2004</td>\n",
       "    </tr>\n",
       "    <tr>\n",
       "      <th>3</th>\n",
       "      <td>A1</td>\n",
       "      <td>2004-01-25</td>\n",
       "      <td>FOOD</td>\n",
       "      <td>484342.47</td>\n",
       "      <td>1</td>\n",
       "      <td>2004</td>\n",
       "    </tr>\n",
       "    <tr>\n",
       "      <th>4</th>\n",
       "      <td>A1</td>\n",
       "      <td>2005-01-17</td>\n",
       "      <td>CAMERA</td>\n",
       "      <td>369694.07</td>\n",
       "      <td>1</td>\n",
       "      <td>2005</td>\n",
       "    </tr>\n",
       "  </tbody>\n",
       "</table>\n",
       "</div>"
      ],
      "text/plain": [
       "  Customer      Month       Type  Spent_Amount  month  Year\n",
       "0       A1 2004-01-12  JEWELLERY     485470.80      1  2004\n",
       "1       A1 2004-01-03      PETRO     410556.13      1  2004\n",
       "2       A1 2004-01-15    CLOTHES      23740.46      1  2004\n",
       "3       A1 2004-01-25       FOOD     484342.47      1  2004\n",
       "4       A1 2005-01-17     CAMERA     369694.07      1  2005"
      ]
     },
     "execution_count": 64,
     "metadata": {},
     "output_type": "execute_result"
    }
   ],
   "source": [
    "spend_df.head()"
   ]
  },
  {
   "cell_type": "code",
   "execution_count": 65,
   "id": "7c5083e0",
   "metadata": {
    "ExecuteTime": {
     "end_time": "2023-02-18T14:10:14.018494Z",
     "start_time": "2023-02-18T14:10:13.897856Z"
    }
   },
   "outputs": [],
   "source": [
    "monthly_spending_before = pd.DataFrame(spend_df.groupby([\"Year\",\"month\"])[\"Spent_Amount\"].mean()).reset_index()"
   ]
  },
  {
   "cell_type": "code",
   "execution_count": 66,
   "id": "a0619722",
   "metadata": {
    "ExecuteTime": {
     "end_time": "2023-02-18T14:10:14.189841Z",
     "start_time": "2023-02-18T14:10:14.024479Z"
    }
   },
   "outputs": [
    {
     "data": {
      "text/html": [
       "<div>\n",
       "<style scoped>\n",
       "    .dataframe tbody tr th:only-of-type {\n",
       "        vertical-align: middle;\n",
       "    }\n",
       "\n",
       "    .dataframe tbody tr th {\n",
       "        vertical-align: top;\n",
       "    }\n",
       "\n",
       "    .dataframe thead th {\n",
       "        text-align: right;\n",
       "    }\n",
       "</style>\n",
       "<table border=\"1\" class=\"dataframe\">\n",
       "  <thead>\n",
       "    <tr style=\"text-align: right;\">\n",
       "      <th></th>\n",
       "      <th>Spent_Amount</th>\n",
       "    </tr>\n",
       "    <tr>\n",
       "      <th>month</th>\n",
       "      <th></th>\n",
       "    </tr>\n",
       "  </thead>\n",
       "  <tbody>\n",
       "    <tr>\n",
       "      <th>1</th>\n",
       "      <td>826511.45</td>\n",
       "    </tr>\n",
       "    <tr>\n",
       "      <th>2</th>\n",
       "      <td>704875.81</td>\n",
       "    </tr>\n",
       "    <tr>\n",
       "      <th>3</th>\n",
       "      <td>479312.20</td>\n",
       "    </tr>\n",
       "    <tr>\n",
       "      <th>4</th>\n",
       "      <td>719922.33</td>\n",
       "    </tr>\n",
       "    <tr>\n",
       "      <th>5</th>\n",
       "      <td>699398.49</td>\n",
       "    </tr>\n",
       "    <tr>\n",
       "      <th>6</th>\n",
       "      <td>439940.50</td>\n",
       "    </tr>\n",
       "    <tr>\n",
       "      <th>7</th>\n",
       "      <td>516621.76</td>\n",
       "    </tr>\n",
       "    <tr>\n",
       "      <th>8</th>\n",
       "      <td>474434.35</td>\n",
       "    </tr>\n",
       "    <tr>\n",
       "      <th>9</th>\n",
       "      <td>658109.68</td>\n",
       "    </tr>\n",
       "    <tr>\n",
       "      <th>10</th>\n",
       "      <td>430704.98</td>\n",
       "    </tr>\n",
       "    <tr>\n",
       "      <th>11</th>\n",
       "      <td>739471.01</td>\n",
       "    </tr>\n",
       "    <tr>\n",
       "      <th>12</th>\n",
       "      <td>417974.04</td>\n",
       "    </tr>\n",
       "  </tbody>\n",
       "</table>\n",
       "</div>"
      ],
      "text/plain": [
       "       Spent_Amount\n",
       "month              \n",
       "1         826511.45\n",
       "2         704875.81\n",
       "3         479312.20\n",
       "4         719922.33\n",
       "5         699398.49\n",
       "6         439940.50\n",
       "7         516621.76\n",
       "8         474434.35\n",
       "9         658109.68\n",
       "10        430704.98\n",
       "11        739471.01\n",
       "12        417974.04"
      ]
     },
     "execution_count": 66,
     "metadata": {},
     "output_type": "execute_result"
    }
   ],
   "source": [
    "pd.DataFrame(monthly_spending_before.groupby(\"month\")[\"Spent_Amount\"].sum()).round(2)"
   ]
  },
  {
   "cell_type": "markdown",
   "id": "5168046c",
   "metadata": {},
   "source": [
    "#### After replacing spent amount by 50% of limit"
   ]
  },
  {
   "cell_type": "code",
   "execution_count": 67,
   "id": "1b6a1eee",
   "metadata": {
    "ExecuteTime": {
     "end_time": "2023-02-18T14:10:14.315767Z",
     "start_time": "2023-02-18T14:10:14.196793Z"
    }
   },
   "outputs": [],
   "source": [
    "c_s_df[\"month\"] = c_s_df.Month.dt.month"
   ]
  },
  {
   "cell_type": "code",
   "execution_count": 68,
   "id": "b9bb14c3",
   "metadata": {
    "ExecuteTime": {
     "end_time": "2023-02-18T14:10:14.469591Z",
     "start_time": "2023-02-18T14:10:14.329691Z"
    }
   },
   "outputs": [],
   "source": [
    "c_s_df[\"year\"] = c_s_df.Month.dt.year"
   ]
  },
  {
   "cell_type": "code",
   "execution_count": 69,
   "id": "4c54032e",
   "metadata": {
    "ExecuteTime": {
     "end_time": "2023-02-18T14:10:14.640284Z",
     "start_time": "2023-02-18T14:10:14.475418Z"
    }
   },
   "outputs": [],
   "source": [
    "monthly_spending_after = pd.DataFrame(c_s_df.groupby([\"year\",\"month\"])[\"Spent_Amount\"].mean()).reset_index()"
   ]
  },
  {
   "cell_type": "code",
   "execution_count": 70,
   "id": "69317973",
   "metadata": {
    "ExecuteTime": {
     "end_time": "2023-02-18T14:10:14.902468Z",
     "start_time": "2023-02-18T14:10:14.650210Z"
    }
   },
   "outputs": [
    {
     "data": {
      "text/html": [
       "<div>\n",
       "<style scoped>\n",
       "    .dataframe tbody tr th:only-of-type {\n",
       "        vertical-align: middle;\n",
       "    }\n",
       "\n",
       "    .dataframe tbody tr th {\n",
       "        vertical-align: top;\n",
       "    }\n",
       "\n",
       "    .dataframe thead th {\n",
       "        text-align: right;\n",
       "    }\n",
       "</style>\n",
       "<table border=\"1\" class=\"dataframe\">\n",
       "  <thead>\n",
       "    <tr style=\"text-align: right;\">\n",
       "      <th></th>\n",
       "      <th>Spent_Amount</th>\n",
       "    </tr>\n",
       "    <tr>\n",
       "      <th>month</th>\n",
       "      <th></th>\n",
       "    </tr>\n",
       "  </thead>\n",
       "  <tbody>\n",
       "    <tr>\n",
       "      <th>1</th>\n",
       "      <td>472818.10</td>\n",
       "    </tr>\n",
       "    <tr>\n",
       "      <th>2</th>\n",
       "      <td>439811.69</td>\n",
       "    </tr>\n",
       "    <tr>\n",
       "      <th>3</th>\n",
       "      <td>265428.38</td>\n",
       "    </tr>\n",
       "    <tr>\n",
       "      <th>4</th>\n",
       "      <td>405796.60</td>\n",
       "    </tr>\n",
       "    <tr>\n",
       "      <th>5</th>\n",
       "      <td>451646.44</td>\n",
       "    </tr>\n",
       "    <tr>\n",
       "      <th>6</th>\n",
       "      <td>346697.97</td>\n",
       "    </tr>\n",
       "    <tr>\n",
       "      <th>7</th>\n",
       "      <td>309891.77</td>\n",
       "    </tr>\n",
       "    <tr>\n",
       "      <th>8</th>\n",
       "      <td>355571.35</td>\n",
       "    </tr>\n",
       "    <tr>\n",
       "      <th>9</th>\n",
       "      <td>423395.11</td>\n",
       "    </tr>\n",
       "    <tr>\n",
       "      <th>10</th>\n",
       "      <td>262035.71</td>\n",
       "    </tr>\n",
       "    <tr>\n",
       "      <th>11</th>\n",
       "      <td>402046.24</td>\n",
       "    </tr>\n",
       "    <tr>\n",
       "      <th>12</th>\n",
       "      <td>234545.36</td>\n",
       "    </tr>\n",
       "  </tbody>\n",
       "</table>\n",
       "</div>"
      ],
      "text/plain": [
       "       Spent_Amount\n",
       "month              \n",
       "1         472818.10\n",
       "2         439811.69\n",
       "3         265428.38\n",
       "4         405796.60\n",
       "5         451646.44\n",
       "6         346697.97\n",
       "7         309891.77\n",
       "8         355571.35\n",
       "9         423395.11\n",
       "10        262035.71\n",
       "11        402046.24\n",
       "12        234545.36"
      ]
     },
     "execution_count": 70,
     "metadata": {},
     "output_type": "execute_result"
    }
   ],
   "source": [
    "pd.DataFrame(monthly_spending_after.groupby(\"month\")[\"Spent_Amount\"].sum()).round(2)"
   ]
  },
  {
   "cell_type": "markdown",
   "id": "bad083e0",
   "metadata": {},
   "source": [
    "### d. What is the average monthly repayment by customers?"
   ]
  },
  {
   "cell_type": "markdown",
   "id": "37cb3a0f",
   "metadata": {},
   "source": [
    "#### Before replacing repay amount with limit"
   ]
  },
  {
   "cell_type": "code",
   "execution_count": 71,
   "id": "a15c632d",
   "metadata": {
    "ExecuteTime": {
     "end_time": "2023-02-18T14:10:15.043732Z",
     "start_time": "2023-02-18T14:10:14.906427Z"
    }
   },
   "outputs": [],
   "source": [
    "repayment_df[\"month\"] = repayment_df.Month.dt.month"
   ]
  },
  {
   "cell_type": "code",
   "execution_count": 72,
   "id": "102ca67c",
   "metadata": {
    "ExecuteTime": {
     "end_time": "2023-02-18T14:10:15.151429Z",
     "start_time": "2023-02-18T14:10:15.050687Z"
    }
   },
   "outputs": [],
   "source": [
    "repayment_df[\"year\"] = repayment_df.Month.dt.year"
   ]
  },
  {
   "cell_type": "code",
   "execution_count": 73,
   "id": "c824091b",
   "metadata": {
    "ExecuteTime": {
     "end_time": "2023-02-18T14:10:15.338795Z",
     "start_time": "2023-02-18T14:10:15.155844Z"
    }
   },
   "outputs": [],
   "source": [
    "monthly_repayment_before = pd.DataFrame(repayment_df.groupby([\"year\",\"month\"])[\"Repay_Amount\"].mean()).reset_index()"
   ]
  },
  {
   "cell_type": "code",
   "execution_count": 74,
   "id": "d5a39d07",
   "metadata": {
    "ExecuteTime": {
     "end_time": "2023-02-18T14:10:15.508941Z",
     "start_time": "2023-02-18T14:10:15.348604Z"
    }
   },
   "outputs": [
    {
     "data": {
      "text/html": [
       "<div>\n",
       "<style scoped>\n",
       "    .dataframe tbody tr th:only-of-type {\n",
       "        vertical-align: middle;\n",
       "    }\n",
       "\n",
       "    .dataframe tbody tr th {\n",
       "        vertical-align: top;\n",
       "    }\n",
       "\n",
       "    .dataframe thead th {\n",
       "        text-align: right;\n",
       "    }\n",
       "</style>\n",
       "<table border=\"1\" class=\"dataframe\">\n",
       "  <thead>\n",
       "    <tr style=\"text-align: right;\">\n",
       "      <th></th>\n",
       "      <th>Repay_Amount</th>\n",
       "    </tr>\n",
       "    <tr>\n",
       "      <th>month</th>\n",
       "      <th></th>\n",
       "    </tr>\n",
       "  </thead>\n",
       "  <tbody>\n",
       "    <tr>\n",
       "      <th>1</th>\n",
       "      <td>777513.137101</td>\n",
       "    </tr>\n",
       "    <tr>\n",
       "      <th>2</th>\n",
       "      <td>780021.460992</td>\n",
       "    </tr>\n",
       "    <tr>\n",
       "      <th>3</th>\n",
       "      <td>493436.547480</td>\n",
       "    </tr>\n",
       "    <tr>\n",
       "      <th>4</th>\n",
       "      <td>747302.562222</td>\n",
       "    </tr>\n",
       "    <tr>\n",
       "      <th>5</th>\n",
       "      <td>746290.973600</td>\n",
       "    </tr>\n",
       "    <tr>\n",
       "      <th>6</th>\n",
       "      <td>462190.271667</td>\n",
       "    </tr>\n",
       "    <tr>\n",
       "      <th>7</th>\n",
       "      <td>497807.862410</td>\n",
       "    </tr>\n",
       "    <tr>\n",
       "      <th>8</th>\n",
       "      <td>488574.914122</td>\n",
       "    </tr>\n",
       "    <tr>\n",
       "      <th>9</th>\n",
       "      <td>694721.899583</td>\n",
       "    </tr>\n",
       "    <tr>\n",
       "      <th>10</th>\n",
       "      <td>480615.436667</td>\n",
       "    </tr>\n",
       "    <tr>\n",
       "      <th>11</th>\n",
       "      <td>665686.555407</td>\n",
       "    </tr>\n",
       "    <tr>\n",
       "      <th>12</th>\n",
       "      <td>573115.905000</td>\n",
       "    </tr>\n",
       "  </tbody>\n",
       "</table>\n",
       "</div>"
      ],
      "text/plain": [
       "        Repay_Amount\n",
       "month               \n",
       "1      777513.137101\n",
       "2      780021.460992\n",
       "3      493436.547480\n",
       "4      747302.562222\n",
       "5      746290.973600\n",
       "6      462190.271667\n",
       "7      497807.862410\n",
       "8      488574.914122\n",
       "9      694721.899583\n",
       "10     480615.436667\n",
       "11     665686.555407\n",
       "12     573115.905000"
      ]
     },
     "execution_count": 74,
     "metadata": {},
     "output_type": "execute_result"
    }
   ],
   "source": [
    "pd.DataFrame(monthly_repayment_before.groupby(\"month\")[\"Repay_Amount\"].sum())"
   ]
  },
  {
   "cell_type": "markdown",
   "id": "11d6b04d",
   "metadata": {},
   "source": [
    "#### Before replacing repay amount with limit"
   ]
  },
  {
   "cell_type": "code",
   "execution_count": 75,
   "id": "199d9c86",
   "metadata": {
    "ExecuteTime": {
     "end_time": "2023-02-18T14:10:15.759417Z",
     "start_time": "2023-02-18T14:10:15.515918Z"
    }
   },
   "outputs": [],
   "source": [
    "c_r_df[\"month\"] = c_r_df.Month.dt.month"
   ]
  },
  {
   "cell_type": "code",
   "execution_count": 76,
   "id": "064b6cd2",
   "metadata": {
    "ExecuteTime": {
     "end_time": "2023-02-18T14:10:16.011128Z",
     "start_time": "2023-02-18T14:10:15.768387Z"
    }
   },
   "outputs": [],
   "source": [
    "c_r_df[\"year\"] = c_r_df.Month.dt.year"
   ]
  },
  {
   "cell_type": "code",
   "execution_count": 77,
   "id": "7f801982",
   "metadata": {
    "ExecuteTime": {
     "end_time": "2023-02-18T14:10:16.119958Z",
     "start_time": "2023-02-18T14:10:16.020074Z"
    }
   },
   "outputs": [],
   "source": [
    "monthly_repayment_after = pd.DataFrame(c_r_df.groupby([\"year\",\"month\"])[\"Repay_Amount\"].mean()).reset_index()"
   ]
  },
  {
   "cell_type": "code",
   "execution_count": 78,
   "id": "43bc382d",
   "metadata": {
    "ExecuteTime": {
     "end_time": "2023-02-18T14:10:16.338125Z",
     "start_time": "2023-02-18T14:10:16.126176Z"
    }
   },
   "outputs": [
    {
     "data": {
      "text/html": [
       "<div>\n",
       "<style scoped>\n",
       "    .dataframe tbody tr th:only-of-type {\n",
       "        vertical-align: middle;\n",
       "    }\n",
       "\n",
       "    .dataframe tbody tr th {\n",
       "        vertical-align: top;\n",
       "    }\n",
       "\n",
       "    .dataframe thead th {\n",
       "        text-align: right;\n",
       "    }\n",
       "</style>\n",
       "<table border=\"1\" class=\"dataframe\">\n",
       "  <thead>\n",
       "    <tr style=\"text-align: right;\">\n",
       "      <th></th>\n",
       "      <th>Repay_Amount</th>\n",
       "    </tr>\n",
       "    <tr>\n",
       "      <th>month</th>\n",
       "      <th></th>\n",
       "    </tr>\n",
       "  </thead>\n",
       "  <tbody>\n",
       "    <tr>\n",
       "      <th>1</th>\n",
       "      <td>545654.290905</td>\n",
       "    </tr>\n",
       "    <tr>\n",
       "      <th>2</th>\n",
       "      <td>471167.464349</td>\n",
       "    </tr>\n",
       "    <tr>\n",
       "      <th>3</th>\n",
       "      <td>332629.898196</td>\n",
       "    </tr>\n",
       "    <tr>\n",
       "      <th>4</th>\n",
       "      <td>477325.431556</td>\n",
       "    </tr>\n",
       "    <tr>\n",
       "      <th>5</th>\n",
       "      <td>522702.565266</td>\n",
       "    </tr>\n",
       "    <tr>\n",
       "      <th>6</th>\n",
       "      <td>262481.445833</td>\n",
       "    </tr>\n",
       "    <tr>\n",
       "      <th>7</th>\n",
       "      <td>320097.709144</td>\n",
       "    </tr>\n",
       "    <tr>\n",
       "      <th>8</th>\n",
       "      <td>311537.602365</td>\n",
       "    </tr>\n",
       "    <tr>\n",
       "      <th>9</th>\n",
       "      <td>391510.553125</td>\n",
       "    </tr>\n",
       "    <tr>\n",
       "      <th>10</th>\n",
       "      <td>340237.857500</td>\n",
       "    </tr>\n",
       "    <tr>\n",
       "      <th>11</th>\n",
       "      <td>434017.629751</td>\n",
       "    </tr>\n",
       "    <tr>\n",
       "      <th>12</th>\n",
       "      <td>380277.990000</td>\n",
       "    </tr>\n",
       "  </tbody>\n",
       "</table>\n",
       "</div>"
      ],
      "text/plain": [
       "        Repay_Amount\n",
       "month               \n",
       "1      545654.290905\n",
       "2      471167.464349\n",
       "3      332629.898196\n",
       "4      477325.431556\n",
       "5      522702.565266\n",
       "6      262481.445833\n",
       "7      320097.709144\n",
       "8      311537.602365\n",
       "9      391510.553125\n",
       "10     340237.857500\n",
       "11     434017.629751\n",
       "12     380277.990000"
      ]
     },
     "execution_count": 78,
     "metadata": {},
     "output_type": "execute_result"
    }
   ],
   "source": [
    "pd.DataFrame(monthly_repayment_after.groupby(\"month\")[\"Repay_Amount\"].sum())"
   ]
  },
  {
   "cell_type": "code",
   "execution_count": null,
   "id": "c38a8bb5",
   "metadata": {},
   "outputs": [],
   "source": []
  },
  {
   "cell_type": "markdown",
   "id": "1e3fef6d",
   "metadata": {},
   "source": [
    "#### e. If the monthly rate of interest is 2.9%, what is the profit for the bank for each month?"
   ]
  },
  {
   "cell_type": "code",
   "execution_count": 79,
   "id": "a44323c7",
   "metadata": {
    "ExecuteTime": {
     "end_time": "2023-02-18T14:10:16.588574Z",
     "start_time": "2023-02-18T14:10:16.349086Z"
    }
   },
   "outputs": [
    {
     "data": {
      "text/html": [
       "<div>\n",
       "<style scoped>\n",
       "    .dataframe tbody tr th:only-of-type {\n",
       "        vertical-align: middle;\n",
       "    }\n",
       "\n",
       "    .dataframe tbody tr th {\n",
       "        vertical-align: top;\n",
       "    }\n",
       "\n",
       "    .dataframe thead th {\n",
       "        text-align: right;\n",
       "    }\n",
       "</style>\n",
       "<table border=\"1\" class=\"dataframe\">\n",
       "  <thead>\n",
       "    <tr style=\"text-align: right;\">\n",
       "      <th></th>\n",
       "      <th>Customer</th>\n",
       "      <th>Age</th>\n",
       "      <th>City</th>\n",
       "      <th>Product</th>\n",
       "      <th>Limit</th>\n",
       "      <th>Company</th>\n",
       "      <th>Segment</th>\n",
       "      <th>Month</th>\n",
       "      <th>Type</th>\n",
       "      <th>Spent_Amount</th>\n",
       "      <th>month</th>\n",
       "      <th>year</th>\n",
       "    </tr>\n",
       "  </thead>\n",
       "  <tbody>\n",
       "    <tr>\n",
       "      <th>0</th>\n",
       "      <td>A1</td>\n",
       "      <td>76</td>\n",
       "      <td>BANGALORE</td>\n",
       "      <td>Gold</td>\n",
       "      <td>500000</td>\n",
       "      <td>C1</td>\n",
       "      <td>Self Employed</td>\n",
       "      <td>2004-01-12</td>\n",
       "      <td>JEWELLERY</td>\n",
       "      <td>485470.80</td>\n",
       "      <td>1</td>\n",
       "      <td>2004</td>\n",
       "    </tr>\n",
       "    <tr>\n",
       "      <th>1</th>\n",
       "      <td>A1</td>\n",
       "      <td>76</td>\n",
       "      <td>BANGALORE</td>\n",
       "      <td>Gold</td>\n",
       "      <td>500000</td>\n",
       "      <td>C1</td>\n",
       "      <td>Self Employed</td>\n",
       "      <td>2004-01-03</td>\n",
       "      <td>PETRO</td>\n",
       "      <td>410556.13</td>\n",
       "      <td>1</td>\n",
       "      <td>2004</td>\n",
       "    </tr>\n",
       "    <tr>\n",
       "      <th>2</th>\n",
       "      <td>A1</td>\n",
       "      <td>76</td>\n",
       "      <td>BANGALORE</td>\n",
       "      <td>Gold</td>\n",
       "      <td>500000</td>\n",
       "      <td>C1</td>\n",
       "      <td>Self Employed</td>\n",
       "      <td>2004-01-15</td>\n",
       "      <td>CLOTHES</td>\n",
       "      <td>23740.46</td>\n",
       "      <td>1</td>\n",
       "      <td>2004</td>\n",
       "    </tr>\n",
       "    <tr>\n",
       "      <th>3</th>\n",
       "      <td>A1</td>\n",
       "      <td>76</td>\n",
       "      <td>BANGALORE</td>\n",
       "      <td>Gold</td>\n",
       "      <td>500000</td>\n",
       "      <td>C1</td>\n",
       "      <td>Self Employed</td>\n",
       "      <td>2004-01-25</td>\n",
       "      <td>FOOD</td>\n",
       "      <td>484342.47</td>\n",
       "      <td>1</td>\n",
       "      <td>2004</td>\n",
       "    </tr>\n",
       "    <tr>\n",
       "      <th>4</th>\n",
       "      <td>A1</td>\n",
       "      <td>76</td>\n",
       "      <td>BANGALORE</td>\n",
       "      <td>Gold</td>\n",
       "      <td>500000</td>\n",
       "      <td>C1</td>\n",
       "      <td>Self Employed</td>\n",
       "      <td>2005-01-17</td>\n",
       "      <td>CAMERA</td>\n",
       "      <td>369694.07</td>\n",
       "      <td>1</td>\n",
       "      <td>2005</td>\n",
       "    </tr>\n",
       "  </tbody>\n",
       "</table>\n",
       "</div>"
      ],
      "text/plain": [
       "  Customer  Age       City Product   Limit Company        Segment      Month  \\\n",
       "0       A1   76  BANGALORE    Gold  500000      C1  Self Employed 2004-01-12   \n",
       "1       A1   76  BANGALORE    Gold  500000      C1  Self Employed 2004-01-03   \n",
       "2       A1   76  BANGALORE    Gold  500000      C1  Self Employed 2004-01-15   \n",
       "3       A1   76  BANGALORE    Gold  500000      C1  Self Employed 2004-01-25   \n",
       "4       A1   76  BANGALORE    Gold  500000      C1  Self Employed 2005-01-17   \n",
       "\n",
       "        Type  Spent_Amount  month  year  \n",
       "0  JEWELLERY     485470.80      1  2004  \n",
       "1      PETRO     410556.13      1  2004  \n",
       "2    CLOTHES      23740.46      1  2004  \n",
       "3       FOOD     484342.47      1  2004  \n",
       "4     CAMERA     369694.07      1  2005  "
      ]
     },
     "execution_count": 79,
     "metadata": {},
     "output_type": "execute_result"
    }
   ],
   "source": [
    "c_s_df.head()"
   ]
  },
  {
   "cell_type": "code",
   "execution_count": 80,
   "id": "c42d63a2",
   "metadata": {
    "ExecuteTime": {
     "end_time": "2023-02-18T14:10:16.715322Z",
     "start_time": "2023-02-18T14:10:16.596514Z"
    }
   },
   "outputs": [
    {
     "data": {
      "text/html": [
       "<div>\n",
       "<style scoped>\n",
       "    .dataframe tbody tr th:only-of-type {\n",
       "        vertical-align: middle;\n",
       "    }\n",
       "\n",
       "    .dataframe tbody tr th {\n",
       "        vertical-align: top;\n",
       "    }\n",
       "\n",
       "    .dataframe thead th {\n",
       "        text-align: right;\n",
       "    }\n",
       "</style>\n",
       "<table border=\"1\" class=\"dataframe\">\n",
       "  <thead>\n",
       "    <tr style=\"text-align: right;\">\n",
       "      <th></th>\n",
       "      <th>Customer</th>\n",
       "      <th>Age</th>\n",
       "      <th>City</th>\n",
       "      <th>Product</th>\n",
       "      <th>Limit</th>\n",
       "      <th>Company</th>\n",
       "      <th>Segment</th>\n",
       "      <th>Month</th>\n",
       "      <th>Repay_Amount</th>\n",
       "      <th>month</th>\n",
       "      <th>year</th>\n",
       "    </tr>\n",
       "  </thead>\n",
       "  <tbody>\n",
       "    <tr>\n",
       "      <th>0</th>\n",
       "      <td>A1</td>\n",
       "      <td>76</td>\n",
       "      <td>BANGALORE</td>\n",
       "      <td>Gold</td>\n",
       "      <td>500000</td>\n",
       "      <td>C1</td>\n",
       "      <td>Self Employed</td>\n",
       "      <td>2004-01-12</td>\n",
       "      <td>495414.75</td>\n",
       "      <td>1</td>\n",
       "      <td>2004</td>\n",
       "    </tr>\n",
       "    <tr>\n",
       "      <th>1</th>\n",
       "      <td>A1</td>\n",
       "      <td>76</td>\n",
       "      <td>BANGALORE</td>\n",
       "      <td>Gold</td>\n",
       "      <td>500000</td>\n",
       "      <td>C1</td>\n",
       "      <td>Self Employed</td>\n",
       "      <td>2004-01-03</td>\n",
       "      <td>245899.02</td>\n",
       "      <td>1</td>\n",
       "      <td>2004</td>\n",
       "    </tr>\n",
       "    <tr>\n",
       "      <th>2</th>\n",
       "      <td>A1</td>\n",
       "      <td>76</td>\n",
       "      <td>BANGALORE</td>\n",
       "      <td>Gold</td>\n",
       "      <td>500000</td>\n",
       "      <td>C1</td>\n",
       "      <td>Self Employed</td>\n",
       "      <td>2004-01-15</td>\n",
       "      <td>259490.06</td>\n",
       "      <td>1</td>\n",
       "      <td>2004</td>\n",
       "    </tr>\n",
       "    <tr>\n",
       "      <th>3</th>\n",
       "      <td>A1</td>\n",
       "      <td>76</td>\n",
       "      <td>BANGALORE</td>\n",
       "      <td>Gold</td>\n",
       "      <td>500000</td>\n",
       "      <td>C1</td>\n",
       "      <td>Self Employed</td>\n",
       "      <td>2004-01-25</td>\n",
       "      <td>437555.12</td>\n",
       "      <td>1</td>\n",
       "      <td>2004</td>\n",
       "    </tr>\n",
       "    <tr>\n",
       "      <th>4</th>\n",
       "      <td>A1</td>\n",
       "      <td>76</td>\n",
       "      <td>BANGALORE</td>\n",
       "      <td>Gold</td>\n",
       "      <td>500000</td>\n",
       "      <td>C1</td>\n",
       "      <td>Self Employed</td>\n",
       "      <td>2005-01-17</td>\n",
       "      <td>165972.88</td>\n",
       "      <td>1</td>\n",
       "      <td>2005</td>\n",
       "    </tr>\n",
       "  </tbody>\n",
       "</table>\n",
       "</div>"
      ],
      "text/plain": [
       "  Customer  Age       City Product   Limit Company        Segment      Month  \\\n",
       "0       A1   76  BANGALORE    Gold  500000      C1  Self Employed 2004-01-12   \n",
       "1       A1   76  BANGALORE    Gold  500000      C1  Self Employed 2004-01-03   \n",
       "2       A1   76  BANGALORE    Gold  500000      C1  Self Employed 2004-01-15   \n",
       "3       A1   76  BANGALORE    Gold  500000      C1  Self Employed 2004-01-25   \n",
       "4       A1   76  BANGALORE    Gold  500000      C1  Self Employed 2005-01-17   \n",
       "\n",
       "   Repay_Amount  month  year  \n",
       "0     495414.75      1  2004  \n",
       "1     245899.02      1  2004  \n",
       "2     259490.06      1  2004  \n",
       "3     437555.12      1  2004  \n",
       "4     165972.88      1  2005  "
      ]
     },
     "execution_count": 80,
     "metadata": {},
     "output_type": "execute_result"
    }
   ],
   "source": [
    "c_r_df.head()"
   ]
  },
  {
   "cell_type": "code",
   "execution_count": 81,
   "id": "3dad9a68",
   "metadata": {
    "ExecuteTime": {
     "end_time": "2023-02-18T14:10:16.915975Z",
     "start_time": "2023-02-18T14:10:16.718285Z"
    }
   },
   "outputs": [
    {
     "data": {
      "text/html": [
       "<div>\n",
       "<style scoped>\n",
       "    .dataframe tbody tr th:only-of-type {\n",
       "        vertical-align: middle;\n",
       "    }\n",
       "\n",
       "    .dataframe tbody tr th {\n",
       "        vertical-align: top;\n",
       "    }\n",
       "\n",
       "    .dataframe thead th {\n",
       "        text-align: right;\n",
       "    }\n",
       "</style>\n",
       "<table border=\"1\" class=\"dataframe\">\n",
       "  <thead>\n",
       "    <tr style=\"text-align: right;\">\n",
       "      <th></th>\n",
       "      <th>Customer</th>\n",
       "      <th>Age</th>\n",
       "      <th>City</th>\n",
       "      <th>Product</th>\n",
       "      <th>Limit</th>\n",
       "      <th>Company</th>\n",
       "      <th>Segment</th>\n",
       "      <th>Month</th>\n",
       "      <th>Type</th>\n",
       "      <th>Spent_Amount</th>\n",
       "      <th>month</th>\n",
       "      <th>year</th>\n",
       "      <th>Repay_Amount</th>\n",
       "    </tr>\n",
       "  </thead>\n",
       "  <tbody>\n",
       "    <tr>\n",
       "      <th>0</th>\n",
       "      <td>A1</td>\n",
       "      <td>76</td>\n",
       "      <td>BANGALORE</td>\n",
       "      <td>Gold</td>\n",
       "      <td>500000</td>\n",
       "      <td>C1</td>\n",
       "      <td>Self Employed</td>\n",
       "      <td>2004-01-12</td>\n",
       "      <td>JEWELLERY</td>\n",
       "      <td>485470.80</td>\n",
       "      <td>1</td>\n",
       "      <td>2004</td>\n",
       "      <td>495414.75</td>\n",
       "    </tr>\n",
       "    <tr>\n",
       "      <th>1</th>\n",
       "      <td>A1</td>\n",
       "      <td>76</td>\n",
       "      <td>BANGALORE</td>\n",
       "      <td>Gold</td>\n",
       "      <td>500000</td>\n",
       "      <td>C1</td>\n",
       "      <td>Self Employed</td>\n",
       "      <td>2004-01-12</td>\n",
       "      <td>JEWELLERY</td>\n",
       "      <td>485470.80</td>\n",
       "      <td>1</td>\n",
       "      <td>2004</td>\n",
       "      <td>350446.82</td>\n",
       "    </tr>\n",
       "    <tr>\n",
       "      <th>2</th>\n",
       "      <td>A1</td>\n",
       "      <td>76</td>\n",
       "      <td>BANGALORE</td>\n",
       "      <td>Gold</td>\n",
       "      <td>500000</td>\n",
       "      <td>C1</td>\n",
       "      <td>Self Employed</td>\n",
       "      <td>2004-01-12</td>\n",
       "      <td>TRAIN TICKET</td>\n",
       "      <td>440563.22</td>\n",
       "      <td>1</td>\n",
       "      <td>2004</td>\n",
       "      <td>495414.75</td>\n",
       "    </tr>\n",
       "    <tr>\n",
       "      <th>3</th>\n",
       "      <td>A1</td>\n",
       "      <td>76</td>\n",
       "      <td>BANGALORE</td>\n",
       "      <td>Gold</td>\n",
       "      <td>500000</td>\n",
       "      <td>C1</td>\n",
       "      <td>Self Employed</td>\n",
       "      <td>2004-01-12</td>\n",
       "      <td>TRAIN TICKET</td>\n",
       "      <td>440563.22</td>\n",
       "      <td>1</td>\n",
       "      <td>2004</td>\n",
       "      <td>350446.82</td>\n",
       "    </tr>\n",
       "    <tr>\n",
       "      <th>4</th>\n",
       "      <td>A1</td>\n",
       "      <td>76</td>\n",
       "      <td>BANGALORE</td>\n",
       "      <td>Gold</td>\n",
       "      <td>500000</td>\n",
       "      <td>C1</td>\n",
       "      <td>Self Employed</td>\n",
       "      <td>2004-01-03</td>\n",
       "      <td>PETRO</td>\n",
       "      <td>410556.13</td>\n",
       "      <td>1</td>\n",
       "      <td>2004</td>\n",
       "      <td>245899.02</td>\n",
       "    </tr>\n",
       "  </tbody>\n",
       "</table>\n",
       "</div>"
      ],
      "text/plain": [
       "  Customer  Age       City Product   Limit Company        Segment      Month  \\\n",
       "0       A1   76  BANGALORE    Gold  500000      C1  Self Employed 2004-01-12   \n",
       "1       A1   76  BANGALORE    Gold  500000      C1  Self Employed 2004-01-12   \n",
       "2       A1   76  BANGALORE    Gold  500000      C1  Self Employed 2004-01-12   \n",
       "3       A1   76  BANGALORE    Gold  500000      C1  Self Employed 2004-01-12   \n",
       "4       A1   76  BANGALORE    Gold  500000      C1  Self Employed 2004-01-03   \n",
       "\n",
       "           Type  Spent_Amount  month  year  Repay_Amount  \n",
       "0     JEWELLERY     485470.80      1  2004     495414.75  \n",
       "1     JEWELLERY     485470.80      1  2004     350446.82  \n",
       "2  TRAIN TICKET     440563.22      1  2004     495414.75  \n",
       "3  TRAIN TICKET     440563.22      1  2004     350446.82  \n",
       "4         PETRO     410556.13      1  2004     245899.02  "
      ]
     },
     "execution_count": 81,
     "metadata": {},
     "output_type": "execute_result"
    }
   ],
   "source": [
    "customer_spent_repayment = pd.merge(left=c_s_df,right=c_r_df,how=\"inner\",on=['Customer', 'Age', 'City', 'Product', 'Limit', 'Company', 'Segment', 'Month', 'month',\n",
    "             'year'])\n",
    "customer_spent_repayment.head()"
   ]
  },
  {
   "cell_type": "code",
   "execution_count": 82,
   "id": "a8765463",
   "metadata": {
    "ExecuteTime": {
     "end_time": "2023-02-18T14:10:17.164777Z",
     "start_time": "2023-02-18T14:10:16.932929Z"
    }
   },
   "outputs": [
    {
     "name": "stdout",
     "output_type": "stream",
     "text": [
      "<class 'pandas.core.frame.DataFrame'>\n",
      "Int64Index: 863 entries, 0 to 862\n",
      "Data columns (total 13 columns):\n",
      " #   Column        Non-Null Count  Dtype         \n",
      "---  ------        --------------  -----         \n",
      " 0   Customer      863 non-null    object        \n",
      " 1   Age           863 non-null    int64         \n",
      " 2   City          863 non-null    object        \n",
      " 3   Product       863 non-null    object        \n",
      " 4   Limit         863 non-null    int64         \n",
      " 5   Company       863 non-null    object        \n",
      " 6   Segment       863 non-null    object        \n",
      " 7   Month         863 non-null    datetime64[ns]\n",
      " 8   Type          863 non-null    object        \n",
      " 9   Spent_Amount  863 non-null    float64       \n",
      " 10  month         863 non-null    int64         \n",
      " 11  year          863 non-null    int64         \n",
      " 12  Repay_Amount  863 non-null    float64       \n",
      "dtypes: datetime64[ns](1), float64(2), int64(4), object(6)\n",
      "memory usage: 94.4+ KB\n"
     ]
    }
   ],
   "source": [
    "customer_spent_repayment.info()"
   ]
  },
  {
   "cell_type": "code",
   "execution_count": 83,
   "id": "c4d05121",
   "metadata": {
    "ExecuteTime": {
     "end_time": "2023-02-18T14:10:17.380938Z",
     "start_time": "2023-02-18T14:10:17.172755Z"
    }
   },
   "outputs": [
    {
     "data": {
      "text/html": [
       "<div>\n",
       "<style scoped>\n",
       "    .dataframe tbody tr th:only-of-type {\n",
       "        vertical-align: middle;\n",
       "    }\n",
       "\n",
       "    .dataframe tbody tr th {\n",
       "        vertical-align: top;\n",
       "    }\n",
       "\n",
       "    .dataframe thead th {\n",
       "        text-align: right;\n",
       "    }\n",
       "</style>\n",
       "<table border=\"1\" class=\"dataframe\">\n",
       "  <thead>\n",
       "    <tr style=\"text-align: right;\">\n",
       "      <th></th>\n",
       "      <th>Customer</th>\n",
       "      <th>Age</th>\n",
       "      <th>City</th>\n",
       "      <th>Product</th>\n",
       "      <th>Limit</th>\n",
       "      <th>Company</th>\n",
       "      <th>Segment</th>\n",
       "      <th>Month</th>\n",
       "      <th>Type</th>\n",
       "      <th>Spent_Amount</th>\n",
       "      <th>month</th>\n",
       "      <th>year</th>\n",
       "      <th>Repay_Amount</th>\n",
       "      <th>total_profit</th>\n",
       "    </tr>\n",
       "  </thead>\n",
       "  <tbody>\n",
       "    <tr>\n",
       "      <th>0</th>\n",
       "      <td>A1</td>\n",
       "      <td>76</td>\n",
       "      <td>BANGALORE</td>\n",
       "      <td>Gold</td>\n",
       "      <td>500000</td>\n",
       "      <td>C1</td>\n",
       "      <td>Self Employed</td>\n",
       "      <td>2004-01-12</td>\n",
       "      <td>JEWELLERY</td>\n",
       "      <td>485470.80</td>\n",
       "      <td>1</td>\n",
       "      <td>2004</td>\n",
       "      <td>495414.75</td>\n",
       "      <td>288.37455</td>\n",
       "    </tr>\n",
       "    <tr>\n",
       "      <th>1</th>\n",
       "      <td>A1</td>\n",
       "      <td>76</td>\n",
       "      <td>BANGALORE</td>\n",
       "      <td>Gold</td>\n",
       "      <td>500000</td>\n",
       "      <td>C1</td>\n",
       "      <td>Self Employed</td>\n",
       "      <td>2004-01-12</td>\n",
       "      <td>JEWELLERY</td>\n",
       "      <td>485470.80</td>\n",
       "      <td>1</td>\n",
       "      <td>2004</td>\n",
       "      <td>350446.82</td>\n",
       "      <td>-3915.69542</td>\n",
       "    </tr>\n",
       "    <tr>\n",
       "      <th>2</th>\n",
       "      <td>A1</td>\n",
       "      <td>76</td>\n",
       "      <td>BANGALORE</td>\n",
       "      <td>Gold</td>\n",
       "      <td>500000</td>\n",
       "      <td>C1</td>\n",
       "      <td>Self Employed</td>\n",
       "      <td>2004-01-12</td>\n",
       "      <td>TRAIN TICKET</td>\n",
       "      <td>440563.22</td>\n",
       "      <td>1</td>\n",
       "      <td>2004</td>\n",
       "      <td>495414.75</td>\n",
       "      <td>1590.69437</td>\n",
       "    </tr>\n",
       "    <tr>\n",
       "      <th>3</th>\n",
       "      <td>A1</td>\n",
       "      <td>76</td>\n",
       "      <td>BANGALORE</td>\n",
       "      <td>Gold</td>\n",
       "      <td>500000</td>\n",
       "      <td>C1</td>\n",
       "      <td>Self Employed</td>\n",
       "      <td>2004-01-12</td>\n",
       "      <td>TRAIN TICKET</td>\n",
       "      <td>440563.22</td>\n",
       "      <td>1</td>\n",
       "      <td>2004</td>\n",
       "      <td>350446.82</td>\n",
       "      <td>-2613.37560</td>\n",
       "    </tr>\n",
       "    <tr>\n",
       "      <th>4</th>\n",
       "      <td>A1</td>\n",
       "      <td>76</td>\n",
       "      <td>BANGALORE</td>\n",
       "      <td>Gold</td>\n",
       "      <td>500000</td>\n",
       "      <td>C1</td>\n",
       "      <td>Self Employed</td>\n",
       "      <td>2004-01-03</td>\n",
       "      <td>PETRO</td>\n",
       "      <td>410556.13</td>\n",
       "      <td>1</td>\n",
       "      <td>2004</td>\n",
       "      <td>245899.02</td>\n",
       "      <td>-4775.05619</td>\n",
       "    </tr>\n",
       "  </tbody>\n",
       "</table>\n",
       "</div>"
      ],
      "text/plain": [
       "  Customer  Age       City Product   Limit Company        Segment      Month  \\\n",
       "0       A1   76  BANGALORE    Gold  500000      C1  Self Employed 2004-01-12   \n",
       "1       A1   76  BANGALORE    Gold  500000      C1  Self Employed 2004-01-12   \n",
       "2       A1   76  BANGALORE    Gold  500000      C1  Self Employed 2004-01-12   \n",
       "3       A1   76  BANGALORE    Gold  500000      C1  Self Employed 2004-01-12   \n",
       "4       A1   76  BANGALORE    Gold  500000      C1  Self Employed 2004-01-03   \n",
       "\n",
       "           Type  Spent_Amount  month  year  Repay_Amount  total_profit  \n",
       "0     JEWELLERY     485470.80      1  2004     495414.75     288.37455  \n",
       "1     JEWELLERY     485470.80      1  2004     350446.82   -3915.69542  \n",
       "2  TRAIN TICKET     440563.22      1  2004     495414.75    1590.69437  \n",
       "3  TRAIN TICKET     440563.22      1  2004     350446.82   -2613.37560  \n",
       "4         PETRO     410556.13      1  2004     245899.02   -4775.05619  "
      ]
     },
     "execution_count": 83,
     "metadata": {},
     "output_type": "execute_result"
    }
   ],
   "source": [
    "customer_spent_repayment.insert(loc=13,column=\"total_profit\",value=((customer_spent_repayment.Repay_Amount-customer_spent_repayment.Spent_Amount)*0.029))\n",
    "customer_spent_repayment.head()"
   ]
  },
  {
   "cell_type": "code",
   "execution_count": 84,
   "id": "85aad34f",
   "metadata": {
    "ExecuteTime": {
     "end_time": "2023-02-18T14:10:17.642190Z",
     "start_time": "2023-02-18T14:10:17.383932Z"
    }
   },
   "outputs": [
    {
     "data": {
      "text/html": [
       "<div>\n",
       "<style scoped>\n",
       "    .dataframe tbody tr th:only-of-type {\n",
       "        vertical-align: middle;\n",
       "    }\n",
       "\n",
       "    .dataframe tbody tr th {\n",
       "        vertical-align: top;\n",
       "    }\n",
       "\n",
       "    .dataframe thead th {\n",
       "        text-align: right;\n",
       "    }\n",
       "</style>\n",
       "<table border=\"1\" class=\"dataframe\">\n",
       "  <thead>\n",
       "    <tr style=\"text-align: right;\">\n",
       "      <th></th>\n",
       "      <th>year</th>\n",
       "      <th>month</th>\n",
       "      <th>total_profit</th>\n",
       "    </tr>\n",
       "  </thead>\n",
       "  <tbody>\n",
       "    <tr>\n",
       "      <th>0</th>\n",
       "      <td>2004</td>\n",
       "      <td>1</td>\n",
       "      <td>160075.85097</td>\n",
       "    </tr>\n",
       "    <tr>\n",
       "      <th>1</th>\n",
       "      <td>2004</td>\n",
       "      <td>2</td>\n",
       "      <td>-7346.50910</td>\n",
       "    </tr>\n",
       "    <tr>\n",
       "      <th>2</th>\n",
       "      <td>2004</td>\n",
       "      <td>3</td>\n",
       "      <td>2414.56407</td>\n",
       "    </tr>\n",
       "    <tr>\n",
       "      <th>3</th>\n",
       "      <td>2004</td>\n",
       "      <td>4</td>\n",
       "      <td>3251.08589</td>\n",
       "    </tr>\n",
       "    <tr>\n",
       "      <th>4</th>\n",
       "      <td>2004</td>\n",
       "      <td>5</td>\n",
       "      <td>19841.43779</td>\n",
       "    </tr>\n",
       "  </tbody>\n",
       "</table>\n",
       "</div>"
      ],
      "text/plain": [
       "   year  month  total_profit\n",
       "0  2004      1  160075.85097\n",
       "1  2004      2   -7346.50910\n",
       "2  2004      3    2414.56407\n",
       "3  2004      4    3251.08589\n",
       "4  2004      5   19841.43779"
      ]
     },
     "execution_count": 84,
     "metadata": {},
     "output_type": "execute_result"
    }
   ],
   "source": [
    "monthly_profit = pd.DataFrame(customer_spent_repayment.groupby([\"year\",\"month\"])[\"total_profit\"].sum()).reset_index()\n",
    "monthly_profit.head()"
   ]
  },
  {
   "cell_type": "code",
   "execution_count": 85,
   "id": "5069cef9",
   "metadata": {
    "ExecuteTime": {
     "end_time": "2023-02-18T14:10:17.735076Z",
     "start_time": "2023-02-18T14:10:17.650173Z"
    },
    "scrolled": true
   },
   "outputs": [
    {
     "data": {
      "text/html": [
       "<div>\n",
       "<style scoped>\n",
       "    .dataframe tbody tr th:only-of-type {\n",
       "        vertical-align: middle;\n",
       "    }\n",
       "\n",
       "    .dataframe tbody tr th {\n",
       "        vertical-align: top;\n",
       "    }\n",
       "\n",
       "    .dataframe thead th {\n",
       "        text-align: right;\n",
       "    }\n",
       "</style>\n",
       "<table border=\"1\" class=\"dataframe\">\n",
       "  <thead>\n",
       "    <tr style=\"text-align: right;\">\n",
       "      <th></th>\n",
       "      <th>year</th>\n",
       "      <th>month</th>\n",
       "      <th>total_profit</th>\n",
       "    </tr>\n",
       "  </thead>\n",
       "  <tbody>\n",
       "    <tr>\n",
       "      <th>0</th>\n",
       "      <td>2004</td>\n",
       "      <td>1</td>\n",
       "      <td>160075.85097</td>\n",
       "    </tr>\n",
       "    <tr>\n",
       "      <th>2</th>\n",
       "      <td>2004</td>\n",
       "      <td>3</td>\n",
       "      <td>2414.56407</td>\n",
       "    </tr>\n",
       "    <tr>\n",
       "      <th>3</th>\n",
       "      <td>2004</td>\n",
       "      <td>4</td>\n",
       "      <td>3251.08589</td>\n",
       "    </tr>\n",
       "    <tr>\n",
       "      <th>4</th>\n",
       "      <td>2004</td>\n",
       "      <td>5</td>\n",
       "      <td>19841.43779</td>\n",
       "    </tr>\n",
       "    <tr>\n",
       "      <th>6</th>\n",
       "      <td>2004</td>\n",
       "      <td>11</td>\n",
       "      <td>5515.07616</td>\n",
       "    </tr>\n",
       "    <tr>\n",
       "      <th>8</th>\n",
       "      <td>2005</td>\n",
       "      <td>2</td>\n",
       "      <td>62585.90891</td>\n",
       "    </tr>\n",
       "    <tr>\n",
       "      <th>9</th>\n",
       "      <td>2005</td>\n",
       "      <td>4</td>\n",
       "      <td>11906.63179</td>\n",
       "    </tr>\n",
       "    <tr>\n",
       "      <th>10</th>\n",
       "      <td>2005</td>\n",
       "      <td>5</td>\n",
       "      <td>74422.81455</td>\n",
       "    </tr>\n",
       "    <tr>\n",
       "      <th>12</th>\n",
       "      <td>2005</td>\n",
       "      <td>7</td>\n",
       "      <td>9416.76516</td>\n",
       "    </tr>\n",
       "    <tr>\n",
       "      <th>13</th>\n",
       "      <td>2005</td>\n",
       "      <td>8</td>\n",
       "      <td>325.15670</td>\n",
       "    </tr>\n",
       "    <tr>\n",
       "      <th>15</th>\n",
       "      <td>2005</td>\n",
       "      <td>10</td>\n",
       "      <td>13175.54274</td>\n",
       "    </tr>\n",
       "    <tr>\n",
       "      <th>16</th>\n",
       "      <td>2005</td>\n",
       "      <td>11</td>\n",
       "      <td>21695.29063</td>\n",
       "    </tr>\n",
       "    <tr>\n",
       "      <th>17</th>\n",
       "      <td>2005</td>\n",
       "      <td>12</td>\n",
       "      <td>11200.31533</td>\n",
       "    </tr>\n",
       "    <tr>\n",
       "      <th>18</th>\n",
       "      <td>2006</td>\n",
       "      <td>1</td>\n",
       "      <td>7103.03786</td>\n",
       "    </tr>\n",
       "    <tr>\n",
       "      <th>19</th>\n",
       "      <td>2006</td>\n",
       "      <td>2</td>\n",
       "      <td>13402.68495</td>\n",
       "    </tr>\n",
       "    <tr>\n",
       "      <th>20</th>\n",
       "      <td>2006</td>\n",
       "      <td>3</td>\n",
       "      <td>16956.88319</td>\n",
       "    </tr>\n",
       "    <tr>\n",
       "      <th>21</th>\n",
       "      <td>2006</td>\n",
       "      <td>4</td>\n",
       "      <td>37879.73214</td>\n",
       "    </tr>\n",
       "    <tr>\n",
       "      <th>22</th>\n",
       "      <td>2006</td>\n",
       "      <td>5</td>\n",
       "      <td>47885.40465</td>\n",
       "    </tr>\n",
       "    <tr>\n",
       "      <th>23</th>\n",
       "      <td>2006</td>\n",
       "      <td>6</td>\n",
       "      <td>6513.58473</td>\n",
       "    </tr>\n",
       "    <tr>\n",
       "      <th>24</th>\n",
       "      <td>2006</td>\n",
       "      <td>7</td>\n",
       "      <td>11067.80070</td>\n",
       "    </tr>\n",
       "    <tr>\n",
       "      <th>25</th>\n",
       "      <td>2006</td>\n",
       "      <td>8</td>\n",
       "      <td>110.19130</td>\n",
       "    </tr>\n",
       "    <tr>\n",
       "      <th>26</th>\n",
       "      <td>2006</td>\n",
       "      <td>9</td>\n",
       "      <td>15751.55996</td>\n",
       "    </tr>\n",
       "    <tr>\n",
       "      <th>27</th>\n",
       "      <td>2006</td>\n",
       "      <td>10</td>\n",
       "      <td>1475.65920</td>\n",
       "    </tr>\n",
       "    <tr>\n",
       "      <th>28</th>\n",
       "      <td>2006</td>\n",
       "      <td>11</td>\n",
       "      <td>21597.14158</td>\n",
       "    </tr>\n",
       "  </tbody>\n",
       "</table>\n",
       "</div>"
      ],
      "text/plain": [
       "    year  month  total_profit\n",
       "0   2004      1  160075.85097\n",
       "2   2004      3    2414.56407\n",
       "3   2004      4    3251.08589\n",
       "4   2004      5   19841.43779\n",
       "6   2004     11    5515.07616\n",
       "8   2005      2   62585.90891\n",
       "9   2005      4   11906.63179\n",
       "10  2005      5   74422.81455\n",
       "12  2005      7    9416.76516\n",
       "13  2005      8     325.15670\n",
       "15  2005     10   13175.54274\n",
       "16  2005     11   21695.29063\n",
       "17  2005     12   11200.31533\n",
       "18  2006      1    7103.03786\n",
       "19  2006      2   13402.68495\n",
       "20  2006      3   16956.88319\n",
       "21  2006      4   37879.73214\n",
       "22  2006      5   47885.40465\n",
       "23  2006      6    6513.58473\n",
       "24  2006      7   11067.80070\n",
       "25  2006      8     110.19130\n",
       "26  2006      9   15751.55996\n",
       "27  2006     10    1475.65920\n",
       "28  2006     11   21597.14158"
      ]
     },
     "execution_count": 85,
     "metadata": {},
     "output_type": "execute_result"
    }
   ],
   "source": [
    "monthly_profit = monthly_profit[monthly_profit.total_profit>0]\n",
    "monthly_profit"
   ]
  },
  {
   "cell_type": "code",
   "execution_count": 86,
   "id": "2dc95b84",
   "metadata": {
    "ExecuteTime": {
     "end_time": "2023-02-18T14:10:17.952312Z",
     "start_time": "2023-02-18T14:10:17.738067Z"
    }
   },
   "outputs": [
    {
     "data": {
      "text/html": [
       "<div>\n",
       "<style scoped>\n",
       "    .dataframe tbody tr th:only-of-type {\n",
       "        vertical-align: middle;\n",
       "    }\n",
       "\n",
       "    .dataframe tbody tr th {\n",
       "        vertical-align: top;\n",
       "    }\n",
       "\n",
       "    .dataframe thead th {\n",
       "        text-align: right;\n",
       "    }\n",
       "</style>\n",
       "<table border=\"1\" class=\"dataframe\">\n",
       "  <thead>\n",
       "    <tr style=\"text-align: right;\">\n",
       "      <th></th>\n",
       "      <th>total_profit</th>\n",
       "    </tr>\n",
       "    <tr>\n",
       "      <th>month</th>\n",
       "      <th></th>\n",
       "    </tr>\n",
       "  </thead>\n",
       "  <tbody>\n",
       "    <tr>\n",
       "      <th>1</th>\n",
       "      <td>167178.88883</td>\n",
       "    </tr>\n",
       "    <tr>\n",
       "      <th>2</th>\n",
       "      <td>75988.59386</td>\n",
       "    </tr>\n",
       "    <tr>\n",
       "      <th>3</th>\n",
       "      <td>19371.44726</td>\n",
       "    </tr>\n",
       "    <tr>\n",
       "      <th>4</th>\n",
       "      <td>53037.44982</td>\n",
       "    </tr>\n",
       "    <tr>\n",
       "      <th>5</th>\n",
       "      <td>142149.65699</td>\n",
       "    </tr>\n",
       "    <tr>\n",
       "      <th>6</th>\n",
       "      <td>6513.58473</td>\n",
       "    </tr>\n",
       "    <tr>\n",
       "      <th>7</th>\n",
       "      <td>20484.56586</td>\n",
       "    </tr>\n",
       "    <tr>\n",
       "      <th>8</th>\n",
       "      <td>435.34800</td>\n",
       "    </tr>\n",
       "    <tr>\n",
       "      <th>9</th>\n",
       "      <td>15751.55996</td>\n",
       "    </tr>\n",
       "    <tr>\n",
       "      <th>10</th>\n",
       "      <td>14651.20194</td>\n",
       "    </tr>\n",
       "    <tr>\n",
       "      <th>11</th>\n",
       "      <td>48807.50837</td>\n",
       "    </tr>\n",
       "    <tr>\n",
       "      <th>12</th>\n",
       "      <td>11200.31533</td>\n",
       "    </tr>\n",
       "  </tbody>\n",
       "</table>\n",
       "</div>"
      ],
      "text/plain": [
       "       total_profit\n",
       "month              \n",
       "1      167178.88883\n",
       "2       75988.59386\n",
       "3       19371.44726\n",
       "4       53037.44982\n",
       "5      142149.65699\n",
       "6        6513.58473\n",
       "7       20484.56586\n",
       "8         435.34800\n",
       "9       15751.55996\n",
       "10      14651.20194\n",
       "11      48807.50837\n",
       "12      11200.31533"
      ]
     },
     "execution_count": 86,
     "metadata": {},
     "output_type": "execute_result"
    }
   ],
   "source": [
    "monthly_profit = pd.DataFrame(monthly_profit.groupby(\"month\")[\"total_profit\"].sum())\n",
    "monthly_profit"
   ]
  },
  {
   "cell_type": "markdown",
   "id": "887ab2ec",
   "metadata": {},
   "source": [
    "### f. What are the top 5 product types?"
   ]
  },
  {
   "cell_type": "code",
   "execution_count": 87,
   "id": "37f5b343",
   "metadata": {
    "ExecuteTime": {
     "end_time": "2023-02-18T14:10:18.201038Z",
     "start_time": "2023-02-18T14:10:17.957297Z"
    }
   },
   "outputs": [
    {
     "data": {
      "text/html": [
       "<div>\n",
       "<style scoped>\n",
       "    .dataframe tbody tr th:only-of-type {\n",
       "        vertical-align: middle;\n",
       "    }\n",
       "\n",
       "    .dataframe tbody tr th {\n",
       "        vertical-align: top;\n",
       "    }\n",
       "\n",
       "    .dataframe thead th {\n",
       "        text-align: right;\n",
       "    }\n",
       "</style>\n",
       "<table border=\"1\" class=\"dataframe\">\n",
       "  <thead>\n",
       "    <tr style=\"text-align: right;\">\n",
       "      <th></th>\n",
       "      <th>Type</th>\n",
       "      <th>Spent_Amount</th>\n",
       "    </tr>\n",
       "  </thead>\n",
       "  <tbody>\n",
       "    <tr>\n",
       "      <th>0</th>\n",
       "      <td>PETRO</td>\n",
       "      <td>28597384.98</td>\n",
       "    </tr>\n",
       "    <tr>\n",
       "      <th>1</th>\n",
       "      <td>CAMERA</td>\n",
       "      <td>27690738.44</td>\n",
       "    </tr>\n",
       "    <tr>\n",
       "      <th>2</th>\n",
       "      <td>FOOD</td>\n",
       "      <td>20519243.60</td>\n",
       "    </tr>\n",
       "    <tr>\n",
       "      <th>3</th>\n",
       "      <td>AIR TICKET</td>\n",
       "      <td>20155847.12</td>\n",
       "    </tr>\n",
       "    <tr>\n",
       "      <th>4</th>\n",
       "      <td>TRAIN TICKET</td>\n",
       "      <td>19995825.72</td>\n",
       "    </tr>\n",
       "  </tbody>\n",
       "</table>\n",
       "</div>"
      ],
      "text/plain": [
       "           Type  Spent_Amount\n",
       "0         PETRO   28597384.98\n",
       "1        CAMERA   27690738.44\n",
       "2          FOOD   20519243.60\n",
       "3    AIR TICKET   20155847.12\n",
       "4  TRAIN TICKET   19995825.72"
      ]
     },
     "execution_count": 87,
     "metadata": {},
     "output_type": "execute_result"
    }
   ],
   "source": [
    "pd.DataFrame(c_s_df.groupby(\"Type\")[\"Spent_Amount\"].sum()).reset_index().sort_values(by=\"Spent_Amount\",ascending=False).head().reset_index(drop=True)"
   ]
  },
  {
   "cell_type": "markdown",
   "id": "7af97a76",
   "metadata": {},
   "source": [
    "### g. Which city is having maximum spend?"
   ]
  },
  {
   "cell_type": "code",
   "execution_count": 88,
   "id": "4f67f6a5",
   "metadata": {
    "ExecuteTime": {
     "end_time": "2023-02-18T14:10:18.389586Z",
     "start_time": "2023-02-18T14:10:18.208982Z"
    },
    "scrolled": true
   },
   "outputs": [
    {
     "data": {
      "text/html": [
       "<div>\n",
       "<style scoped>\n",
       "    .dataframe tbody tr th:only-of-type {\n",
       "        vertical-align: middle;\n",
       "    }\n",
       "\n",
       "    .dataframe tbody tr th {\n",
       "        vertical-align: top;\n",
       "    }\n",
       "\n",
       "    .dataframe thead th {\n",
       "        text-align: right;\n",
       "    }\n",
       "</style>\n",
       "<table border=\"1\" class=\"dataframe\">\n",
       "  <thead>\n",
       "    <tr style=\"text-align: right;\">\n",
       "      <th></th>\n",
       "      <th>City</th>\n",
       "      <th>Spent_Amount</th>\n",
       "    </tr>\n",
       "  </thead>\n",
       "  <tbody>\n",
       "    <tr>\n",
       "      <th>0</th>\n",
       "      <td>COCHIN</td>\n",
       "      <td>45963513.5</td>\n",
       "    </tr>\n",
       "  </tbody>\n",
       "</table>\n",
       "</div>"
      ],
      "text/plain": [
       "     City  Spent_Amount\n",
       "0  COCHIN    45963513.5"
      ]
     },
     "execution_count": 88,
     "metadata": {},
     "output_type": "execute_result"
    }
   ],
   "source": [
    "pd.DataFrame(c_s_df.groupby(\"City\")[\"Spent_Amount\"].sum()).reset_index().sort_values(by=\"Spent_Amount\",ascending=False).head(1).reset_index(drop=True)"
   ]
  },
  {
   "cell_type": "markdown",
   "id": "369bb618",
   "metadata": {},
   "source": [
    "### h. Which age group is spending more money?"
   ]
  },
  {
   "cell_type": "code",
   "execution_count": 89,
   "id": "14b221f8",
   "metadata": {
    "ExecuteTime": {
     "end_time": "2023-02-18T14:10:18.640743Z",
     "start_time": "2023-02-18T14:10:18.399525Z"
    }
   },
   "outputs": [
    {
     "data": {
      "text/html": [
       "<div>\n",
       "<style scoped>\n",
       "    .dataframe tbody tr th:only-of-type {\n",
       "        vertical-align: middle;\n",
       "    }\n",
       "\n",
       "    .dataframe tbody tr th {\n",
       "        vertical-align: top;\n",
       "    }\n",
       "\n",
       "    .dataframe thead th {\n",
       "        text-align: right;\n",
       "    }\n",
       "</style>\n",
       "<table border=\"1\" class=\"dataframe\">\n",
       "  <thead>\n",
       "    <tr style=\"text-align: right;\">\n",
       "      <th></th>\n",
       "      <th>Customer</th>\n",
       "      <th>Age</th>\n",
       "      <th>City</th>\n",
       "      <th>Product</th>\n",
       "      <th>Limit</th>\n",
       "      <th>Company</th>\n",
       "      <th>Segment</th>\n",
       "      <th>Month</th>\n",
       "      <th>Type</th>\n",
       "      <th>Spent_Amount</th>\n",
       "      <th>month</th>\n",
       "      <th>year</th>\n",
       "    </tr>\n",
       "  </thead>\n",
       "  <tbody>\n",
       "    <tr>\n",
       "      <th>0</th>\n",
       "      <td>A1</td>\n",
       "      <td>76</td>\n",
       "      <td>BANGALORE</td>\n",
       "      <td>Gold</td>\n",
       "      <td>500000</td>\n",
       "      <td>C1</td>\n",
       "      <td>Self Employed</td>\n",
       "      <td>2004-01-12</td>\n",
       "      <td>JEWELLERY</td>\n",
       "      <td>485470.80</td>\n",
       "      <td>1</td>\n",
       "      <td>2004</td>\n",
       "    </tr>\n",
       "    <tr>\n",
       "      <th>1</th>\n",
       "      <td>A1</td>\n",
       "      <td>76</td>\n",
       "      <td>BANGALORE</td>\n",
       "      <td>Gold</td>\n",
       "      <td>500000</td>\n",
       "      <td>C1</td>\n",
       "      <td>Self Employed</td>\n",
       "      <td>2004-01-03</td>\n",
       "      <td>PETRO</td>\n",
       "      <td>410556.13</td>\n",
       "      <td>1</td>\n",
       "      <td>2004</td>\n",
       "    </tr>\n",
       "    <tr>\n",
       "      <th>2</th>\n",
       "      <td>A1</td>\n",
       "      <td>76</td>\n",
       "      <td>BANGALORE</td>\n",
       "      <td>Gold</td>\n",
       "      <td>500000</td>\n",
       "      <td>C1</td>\n",
       "      <td>Self Employed</td>\n",
       "      <td>2004-01-15</td>\n",
       "      <td>CLOTHES</td>\n",
       "      <td>23740.46</td>\n",
       "      <td>1</td>\n",
       "      <td>2004</td>\n",
       "    </tr>\n",
       "    <tr>\n",
       "      <th>3</th>\n",
       "      <td>A1</td>\n",
       "      <td>76</td>\n",
       "      <td>BANGALORE</td>\n",
       "      <td>Gold</td>\n",
       "      <td>500000</td>\n",
       "      <td>C1</td>\n",
       "      <td>Self Employed</td>\n",
       "      <td>2004-01-25</td>\n",
       "      <td>FOOD</td>\n",
       "      <td>484342.47</td>\n",
       "      <td>1</td>\n",
       "      <td>2004</td>\n",
       "    </tr>\n",
       "    <tr>\n",
       "      <th>4</th>\n",
       "      <td>A1</td>\n",
       "      <td>76</td>\n",
       "      <td>BANGALORE</td>\n",
       "      <td>Gold</td>\n",
       "      <td>500000</td>\n",
       "      <td>C1</td>\n",
       "      <td>Self Employed</td>\n",
       "      <td>2005-01-17</td>\n",
       "      <td>CAMERA</td>\n",
       "      <td>369694.07</td>\n",
       "      <td>1</td>\n",
       "      <td>2005</td>\n",
       "    </tr>\n",
       "  </tbody>\n",
       "</table>\n",
       "</div>"
      ],
      "text/plain": [
       "  Customer  Age       City Product   Limit Company        Segment      Month  \\\n",
       "0       A1   76  BANGALORE    Gold  500000      C1  Self Employed 2004-01-12   \n",
       "1       A1   76  BANGALORE    Gold  500000      C1  Self Employed 2004-01-03   \n",
       "2       A1   76  BANGALORE    Gold  500000      C1  Self Employed 2004-01-15   \n",
       "3       A1   76  BANGALORE    Gold  500000      C1  Self Employed 2004-01-25   \n",
       "4       A1   76  BANGALORE    Gold  500000      C1  Self Employed 2005-01-17   \n",
       "\n",
       "        Type  Spent_Amount  month  year  \n",
       "0  JEWELLERY     485470.80      1  2004  \n",
       "1      PETRO     410556.13      1  2004  \n",
       "2    CLOTHES      23740.46      1  2004  \n",
       "3       FOOD     484342.47      1  2004  \n",
       "4     CAMERA     369694.07      1  2005  "
      ]
     },
     "execution_count": 89,
     "metadata": {},
     "output_type": "execute_result"
    }
   ],
   "source": [
    "customer_spending_by_age = c_s_df.copy()\n",
    "customer_spending_by_age.head()"
   ]
  },
  {
   "cell_type": "code",
   "execution_count": 90,
   "id": "45ae7667",
   "metadata": {
    "ExecuteTime": {
     "end_time": "2023-02-18T14:10:18.794772Z",
     "start_time": "2023-02-18T14:10:18.643708Z"
    }
   },
   "outputs": [],
   "source": [
    "customer_spending_by_age[\"age_group\"] = pd.cut(customer_spending_by_age.Age,bins=10,\n",
    "                                               labels=['18.94-25-Teen', '26-31-youth', '32-37-Adult1', '38-43-Adult2',\n",
    "                                                       '44-49-Adult3', '50-55-Adult4', '56-61-Adult5', '62-67-seniors1',\n",
    "                                                       '68-73-seniors2', '74-79-seniors3'])"
   ]
  },
  {
   "cell_type": "code",
   "execution_count": 91,
   "id": "4d0f607f",
   "metadata": {
    "ExecuteTime": {
     "end_time": "2023-02-18T14:10:19.015042Z",
     "start_time": "2023-02-18T14:10:18.800448Z"
    }
   },
   "outputs": [
    {
     "data": {
      "text/html": [
       "<div>\n",
       "<style scoped>\n",
       "    .dataframe tbody tr th:only-of-type {\n",
       "        vertical-align: middle;\n",
       "    }\n",
       "\n",
       "    .dataframe tbody tr th {\n",
       "        vertical-align: top;\n",
       "    }\n",
       "\n",
       "    .dataframe thead th {\n",
       "        text-align: right;\n",
       "    }\n",
       "</style>\n",
       "<table border=\"1\" class=\"dataframe\">\n",
       "  <thead>\n",
       "    <tr style=\"text-align: right;\">\n",
       "      <th></th>\n",
       "      <th>age_group</th>\n",
       "      <th>Spent_Amount</th>\n",
       "    </tr>\n",
       "  </thead>\n",
       "  <tbody>\n",
       "    <tr>\n",
       "      <th>0</th>\n",
       "      <td>44-49-Adult3</td>\n",
       "      <td>39907148.99</td>\n",
       "    </tr>\n",
       "  </tbody>\n",
       "</table>\n",
       "</div>"
      ],
      "text/plain": [
       "      age_group  Spent_Amount\n",
       "0  44-49-Adult3   39907148.99"
      ]
     },
     "execution_count": 91,
     "metadata": {},
     "output_type": "execute_result"
    }
   ],
   "source": [
    "pd.DataFrame(customer_spending_by_age.groupby(\"age_group\")[\"Spent_Amount\"].sum()).reset_index().sort_values(by=\"Spent_Amount\",ascending=False).head(1).reset_index(drop=True)"
   ]
  },
  {
   "cell_type": "markdown",
   "id": "3e8f49c5",
   "metadata": {},
   "source": [
    "### i. Who are the top 10 customers in terms of repayment?"
   ]
  },
  {
   "cell_type": "code",
   "execution_count": 92,
   "id": "bbcf3fa4",
   "metadata": {
    "ExecuteTime": {
     "end_time": "2023-02-18T14:10:19.247155Z",
     "start_time": "2023-02-18T14:10:19.019029Z"
    }
   },
   "outputs": [
    {
     "data": {
      "text/html": [
       "<div>\n",
       "<style scoped>\n",
       "    .dataframe tbody tr th:only-of-type {\n",
       "        vertical-align: middle;\n",
       "    }\n",
       "\n",
       "    .dataframe tbody tr th {\n",
       "        vertical-align: top;\n",
       "    }\n",
       "\n",
       "    .dataframe thead th {\n",
       "        text-align: right;\n",
       "    }\n",
       "</style>\n",
       "<table border=\"1\" class=\"dataframe\">\n",
       "  <thead>\n",
       "    <tr style=\"text-align: right;\">\n",
       "      <th></th>\n",
       "      <th>Customer</th>\n",
       "      <th>Repay_Amount</th>\n",
       "    </tr>\n",
       "  </thead>\n",
       "  <tbody>\n",
       "    <tr>\n",
       "      <th>0</th>\n",
       "      <td>A61</td>\n",
       "      <td>10539142.91</td>\n",
       "    </tr>\n",
       "    <tr>\n",
       "      <th>1</th>\n",
       "      <td>A60</td>\n",
       "      <td>9876290.74</td>\n",
       "    </tr>\n",
       "    <tr>\n",
       "      <th>2</th>\n",
       "      <td>A13</td>\n",
       "      <td>9572000.66</td>\n",
       "    </tr>\n",
       "    <tr>\n",
       "      <th>3</th>\n",
       "      <td>A43</td>\n",
       "      <td>8489871.46</td>\n",
       "    </tr>\n",
       "    <tr>\n",
       "      <th>4</th>\n",
       "      <td>A45</td>\n",
       "      <td>8448334.87</td>\n",
       "    </tr>\n",
       "    <tr>\n",
       "      <th>5</th>\n",
       "      <td>A12</td>\n",
       "      <td>8334760.16</td>\n",
       "    </tr>\n",
       "    <tr>\n",
       "      <th>6</th>\n",
       "      <td>A14</td>\n",
       "      <td>7943268.63</td>\n",
       "    </tr>\n",
       "    <tr>\n",
       "      <th>7</th>\n",
       "      <td>A44</td>\n",
       "      <td>7744730.12</td>\n",
       "    </tr>\n",
       "    <tr>\n",
       "      <th>8</th>\n",
       "      <td>A39</td>\n",
       "      <td>7622483.30</td>\n",
       "    </tr>\n",
       "    <tr>\n",
       "      <th>9</th>\n",
       "      <td>A42</td>\n",
       "      <td>7615460.86</td>\n",
       "    </tr>\n",
       "  </tbody>\n",
       "</table>\n",
       "</div>"
      ],
      "text/plain": [
       "  Customer  Repay_Amount\n",
       "0      A61   10539142.91\n",
       "1      A60    9876290.74\n",
       "2      A13    9572000.66\n",
       "3      A43    8489871.46\n",
       "4      A45    8448334.87\n",
       "5      A12    8334760.16\n",
       "6      A14    7943268.63\n",
       "7      A44    7744730.12\n",
       "8      A39    7622483.30\n",
       "9      A42    7615460.86"
      ]
     },
     "execution_count": 92,
     "metadata": {},
     "output_type": "execute_result"
    }
   ],
   "source": [
    "pd.DataFrame(c_r_df.groupby(\"Customer\")[\"Repay_Amount\"].sum()).reset_index().sort_values(by=\"Repay_Amount\",ascending=False).head(10).reset_index(drop=True)"
   ]
  },
  {
   "cell_type": "markdown",
   "id": "3be1b7c8",
   "metadata": {},
   "source": [
    "## 3. Calculate the city wise spend on each product on yearly basis. Also include a graphical representation for the same."
   ]
  },
  {
   "cell_type": "code",
   "execution_count": 93,
   "id": "998bf891",
   "metadata": {
    "ExecuteTime": {
     "end_time": "2023-02-18T14:10:19.342441Z",
     "start_time": "2023-02-18T14:10:19.253139Z"
    }
   },
   "outputs": [
    {
     "data": {
      "text/html": [
       "<div>\n",
       "<style scoped>\n",
       "    .dataframe tbody tr th:only-of-type {\n",
       "        vertical-align: middle;\n",
       "    }\n",
       "\n",
       "    .dataframe tbody tr th {\n",
       "        vertical-align: top;\n",
       "    }\n",
       "\n",
       "    .dataframe thead th {\n",
       "        text-align: right;\n",
       "    }\n",
       "</style>\n",
       "<table border=\"1\" class=\"dataframe\">\n",
       "  <thead>\n",
       "    <tr style=\"text-align: right;\">\n",
       "      <th></th>\n",
       "      <th>City</th>\n",
       "      <th>year</th>\n",
       "      <th>Product</th>\n",
       "      <th>Spent_Amount</th>\n",
       "    </tr>\n",
       "  </thead>\n",
       "  <tbody>\n",
       "    <tr>\n",
       "      <th>0</th>\n",
       "      <td>BANGALORE</td>\n",
       "      <td>2004</td>\n",
       "      <td>Gold</td>\n",
       "      <td>9289878.54</td>\n",
       "    </tr>\n",
       "    <tr>\n",
       "      <th>1</th>\n",
       "      <td>BANGALORE</td>\n",
       "      <td>2004</td>\n",
       "      <td>Platimum</td>\n",
       "      <td>1112732.30</td>\n",
       "    </tr>\n",
       "    <tr>\n",
       "      <th>2</th>\n",
       "      <td>BANGALORE</td>\n",
       "      <td>2004</td>\n",
       "      <td>Silver</td>\n",
       "      <td>1291852.58</td>\n",
       "    </tr>\n",
       "    <tr>\n",
       "      <th>3</th>\n",
       "      <td>BANGALORE</td>\n",
       "      <td>2005</td>\n",
       "      <td>Gold</td>\n",
       "      <td>12892362.99</td>\n",
       "    </tr>\n",
       "    <tr>\n",
       "      <th>4</th>\n",
       "      <td>BANGALORE</td>\n",
       "      <td>2005</td>\n",
       "      <td>Platimum</td>\n",
       "      <td>912284.97</td>\n",
       "    </tr>\n",
       "  </tbody>\n",
       "</table>\n",
       "</div>"
      ],
      "text/plain": [
       "        City  year   Product  Spent_Amount\n",
       "0  BANGALORE  2004      Gold    9289878.54\n",
       "1  BANGALORE  2004  Platimum    1112732.30\n",
       "2  BANGALORE  2004    Silver    1291852.58\n",
       "3  BANGALORE  2005      Gold   12892362.99\n",
       "4  BANGALORE  2005  Platimum     912284.97"
      ]
     },
     "execution_count": 93,
     "metadata": {},
     "output_type": "execute_result"
    }
   ],
   "source": [
    "city_wise_spending = pd.DataFrame(c_s_df.groupby([\"City\",\"year\",\"Product\"])['Spent_Amount'].sum()).reset_index()\n",
    "city_wise_spending.head()"
   ]
  },
  {
   "cell_type": "code",
   "execution_count": 94,
   "id": "ec4aab40",
   "metadata": {
    "ExecuteTime": {
     "end_time": "2023-02-18T14:10:19.481066Z",
     "start_time": "2023-02-18T14:10:19.352412Z"
    }
   },
   "outputs": [],
   "source": [
    "city_wise_spending = city_wise_spending.pivot(index=[\"City\",\"year\"],columns='Product',values=\"Spent_Amount\")"
   ]
  },
  {
   "cell_type": "code",
   "execution_count": 95,
   "id": "41f408cc",
   "metadata": {
    "ExecuteTime": {
     "end_time": "2023-02-18T14:10:19.602074Z",
     "start_time": "2023-02-18T14:10:19.485056Z"
    },
    "scrolled": true
   },
   "outputs": [
    {
     "data": {
      "text/html": [
       "<div>\n",
       "<style scoped>\n",
       "    .dataframe tbody tr th:only-of-type {\n",
       "        vertical-align: middle;\n",
       "    }\n",
       "\n",
       "    .dataframe tbody tr th {\n",
       "        vertical-align: top;\n",
       "    }\n",
       "\n",
       "    .dataframe thead th {\n",
       "        text-align: right;\n",
       "    }\n",
       "</style>\n",
       "<table border=\"1\" class=\"dataframe\">\n",
       "  <thead>\n",
       "    <tr style=\"text-align: right;\">\n",
       "      <th></th>\n",
       "      <th>Product</th>\n",
       "      <th>Gold</th>\n",
       "      <th>Platimum</th>\n",
       "      <th>Silver</th>\n",
       "    </tr>\n",
       "    <tr>\n",
       "      <th>City</th>\n",
       "      <th>year</th>\n",
       "      <th></th>\n",
       "      <th></th>\n",
       "      <th></th>\n",
       "    </tr>\n",
       "  </thead>\n",
       "  <tbody>\n",
       "    <tr>\n",
       "      <th rowspan=\"3\" valign=\"top\">BANGALORE</th>\n",
       "      <th>2004</th>\n",
       "      <td>9289878.54</td>\n",
       "      <td>1112732.30</td>\n",
       "      <td>1291852.58</td>\n",
       "    </tr>\n",
       "    <tr>\n",
       "      <th>2005</th>\n",
       "      <td>12892362.99</td>\n",
       "      <td>912284.97</td>\n",
       "      <td>830612.34</td>\n",
       "    </tr>\n",
       "    <tr>\n",
       "      <th>2006</th>\n",
       "      <td>12030611.09</td>\n",
       "      <td>685831.27</td>\n",
       "      <td>1415480.94</td>\n",
       "    </tr>\n",
       "    <tr>\n",
       "      <th rowspan=\"3\" valign=\"top\">BOMBAY</th>\n",
       "      <th>2004</th>\n",
       "      <td>6987853.53</td>\n",
       "      <td>897264.94</td>\n",
       "      <td>532089.03</td>\n",
       "    </tr>\n",
       "    <tr>\n",
       "      <th>2005</th>\n",
       "      <td>8983018.28</td>\n",
       "      <td>711804.94</td>\n",
       "      <td>508988.54</td>\n",
       "    </tr>\n",
       "    <tr>\n",
       "      <th>2006</th>\n",
       "      <td>7917144.31</td>\n",
       "      <td>972130.01</td>\n",
       "      <td>1092833.80</td>\n",
       "    </tr>\n",
       "    <tr>\n",
       "      <th rowspan=\"3\" valign=\"top\">CALCUTTA</th>\n",
       "      <th>2004</th>\n",
       "      <td>7477140.98</td>\n",
       "      <td>2037690.30</td>\n",
       "      <td>500006.00</td>\n",
       "    </tr>\n",
       "    <tr>\n",
       "      <th>2005</th>\n",
       "      <td>10303355.80</td>\n",
       "      <td>4434696.31</td>\n",
       "      <td>440147.06</td>\n",
       "    </tr>\n",
       "    <tr>\n",
       "      <th>2006</th>\n",
       "      <td>11167532.77</td>\n",
       "      <td>3589606.66</td>\n",
       "      <td>1157956.42</td>\n",
       "    </tr>\n",
       "    <tr>\n",
       "      <th rowspan=\"3\" valign=\"top\">CHENNAI</th>\n",
       "      <th>2004</th>\n",
       "      <td>1059618.50</td>\n",
       "      <td>3535652.38</td>\n",
       "      <td>282056.86</td>\n",
       "    </tr>\n",
       "    <tr>\n",
       "      <th>2005</th>\n",
       "      <td>3740945.58</td>\n",
       "      <td>5053956.32</td>\n",
       "      <td>377184.49</td>\n",
       "    </tr>\n",
       "    <tr>\n",
       "      <th>2006</th>\n",
       "      <td>2704288.62</td>\n",
       "      <td>5024923.40</td>\n",
       "      <td>350009.50</td>\n",
       "    </tr>\n",
       "    <tr>\n",
       "      <th rowspan=\"3\" valign=\"top\">COCHIN</th>\n",
       "      <th>2004</th>\n",
       "      <td>7315850.15</td>\n",
       "      <td>3419904.07</td>\n",
       "      <td>814229.62</td>\n",
       "    </tr>\n",
       "    <tr>\n",
       "      <th>2005</th>\n",
       "      <td>12110613.03</td>\n",
       "      <td>4960921.71</td>\n",
       "      <td>652269.38</td>\n",
       "    </tr>\n",
       "    <tr>\n",
       "      <th>2006</th>\n",
       "      <td>10499142.38</td>\n",
       "      <td>4920592.29</td>\n",
       "      <td>1269990.87</td>\n",
       "    </tr>\n",
       "    <tr>\n",
       "      <th rowspan=\"3\" valign=\"top\">DELHI</th>\n",
       "      <th>2004</th>\n",
       "      <td>2806495.00</td>\n",
       "      <td>283512.89</td>\n",
       "      <td>768172.30</td>\n",
       "    </tr>\n",
       "    <tr>\n",
       "      <th>2005</th>\n",
       "      <td>1964845.27</td>\n",
       "      <td>494157.86</td>\n",
       "      <td>612311.21</td>\n",
       "    </tr>\n",
       "    <tr>\n",
       "      <th>2006</th>\n",
       "      <td>2957103.32</td>\n",
       "      <td>176788.72</td>\n",
       "      <td>854899.97</td>\n",
       "    </tr>\n",
       "    <tr>\n",
       "      <th rowspan=\"3\" valign=\"top\">PATNA</th>\n",
       "      <th>2004</th>\n",
       "      <td>2072567.90</td>\n",
       "      <td>1113069.60</td>\n",
       "      <td>756684.10</td>\n",
       "    </tr>\n",
       "    <tr>\n",
       "      <th>2005</th>\n",
       "      <td>3252615.77</td>\n",
       "      <td>2883231.07</td>\n",
       "      <td>950094.19</td>\n",
       "    </tr>\n",
       "    <tr>\n",
       "      <th>2006</th>\n",
       "      <td>2276181.69</td>\n",
       "      <td>1256137.65</td>\n",
       "      <td>700005.00</td>\n",
       "    </tr>\n",
       "    <tr>\n",
       "      <th rowspan=\"3\" valign=\"top\">TRIVANDRUM</th>\n",
       "      <th>2004</th>\n",
       "      <td>2415102.84</td>\n",
       "      <td>2161676.67</td>\n",
       "      <td>209667.48</td>\n",
       "    </tr>\n",
       "    <tr>\n",
       "      <th>2005</th>\n",
       "      <td>1240375.85</td>\n",
       "      <td>3601443.30</td>\n",
       "      <td>269912.99</td>\n",
       "    </tr>\n",
       "    <tr>\n",
       "      <th>2006</th>\n",
       "      <td>2735710.87</td>\n",
       "      <td>2147403.75</td>\n",
       "      <td>555862.12</td>\n",
       "    </tr>\n",
       "  </tbody>\n",
       "</table>\n",
       "</div>"
      ],
      "text/plain": [
       "Product                 Gold    Platimum      Silver\n",
       "City       year                                     \n",
       "BANGALORE  2004   9289878.54  1112732.30  1291852.58\n",
       "           2005  12892362.99   912284.97   830612.34\n",
       "           2006  12030611.09   685831.27  1415480.94\n",
       "BOMBAY     2004   6987853.53   897264.94   532089.03\n",
       "           2005   8983018.28   711804.94   508988.54\n",
       "           2006   7917144.31   972130.01  1092833.80\n",
       "CALCUTTA   2004   7477140.98  2037690.30   500006.00\n",
       "           2005  10303355.80  4434696.31   440147.06\n",
       "           2006  11167532.77  3589606.66  1157956.42\n",
       "CHENNAI    2004   1059618.50  3535652.38   282056.86\n",
       "           2005   3740945.58  5053956.32   377184.49\n",
       "           2006   2704288.62  5024923.40   350009.50\n",
       "COCHIN     2004   7315850.15  3419904.07   814229.62\n",
       "           2005  12110613.03  4960921.71   652269.38\n",
       "           2006  10499142.38  4920592.29  1269990.87\n",
       "DELHI      2004   2806495.00   283512.89   768172.30\n",
       "           2005   1964845.27   494157.86   612311.21\n",
       "           2006   2957103.32   176788.72   854899.97\n",
       "PATNA      2004   2072567.90  1113069.60   756684.10\n",
       "           2005   3252615.77  2883231.07   950094.19\n",
       "           2006   2276181.69  1256137.65   700005.00\n",
       "TRIVANDRUM 2004   2415102.84  2161676.67   209667.48\n",
       "           2005   1240375.85  3601443.30   269912.99\n",
       "           2006   2735710.87  2147403.75   555862.12"
      ]
     },
     "execution_count": 95,
     "metadata": {},
     "output_type": "execute_result"
    }
   ],
   "source": [
    "city_wise_spending"
   ]
  },
  {
   "cell_type": "code",
   "execution_count": 96,
   "id": "2b2b00e6",
   "metadata": {
    "ExecuteTime": {
     "end_time": "2023-02-18T14:10:20.304777Z",
     "start_time": "2023-02-18T14:10:19.605040Z"
    }
   },
   "outputs": [
    {
     "data": {
      "image/png": "[encoded data removed]",
      "text/plain": [
       "<Figure size 1500x800 with 1 Axes>"
      ]
     },
     "metadata": {},
     "output_type": "display_data"
    }
   ],
   "source": [
    "city_wise_spending.plot(kind=\"bar\",stacked = True,figsize = (15,8))\n",
    "plt.show()"
   ]
  },
  {
   "cell_type": "markdown",
   "id": "902f0f3e",
   "metadata": {},
   "source": [
    "## 4. Create graphs for\n",
    "    a. Monthly comparison of total spends, city wise\n",
    "    b. Comparison of yearly spend on air tickets\n",
    "    c. Comparison of monthly spend for each product (look for any seasonality\n",
    "    that exists in terms of spend)"
   ]
  },
  {
   "cell_type": "markdown",
   "id": "711535b6",
   "metadata": {},
   "source": [
    "### a. Monthly comparison of total spends, city wise"
   ]
  },
  {
   "cell_type": "code",
   "execution_count": 97,
   "id": "783ce20c",
   "metadata": {
    "ExecuteTime": {
     "end_time": "2023-02-18T14:10:20.320703Z",
     "start_time": "2023-02-18T14:10:20.308736Z"
    }
   },
   "outputs": [],
   "source": [
    "monthly_spending_by_city = pd.DataFrame(c_s_df.groupby([\"City\",\"month\"])[\"Spent_Amount\"].sum()).reset_index()"
   ]
  },
  {
   "cell_type": "code",
   "execution_count": 98,
   "id": "84c2268d",
   "metadata": {
    "ExecuteTime": {
     "end_time": "2023-02-18T14:10:20.492823Z",
     "start_time": "2023-02-18T14:10:20.325697Z"
    }
   },
   "outputs": [],
   "source": [
    "monthly_spending_by_city =monthly_spending_by_city.pivot(index=\"City\",columns=\"month\",values=\"Spent_Amount\")"
   ]
  },
  {
   "cell_type": "code",
   "execution_count": 99,
   "id": "e33fc1e8",
   "metadata": {
    "ExecuteTime": {
     "end_time": "2023-02-18T14:10:21.229118Z",
     "start_time": "2023-02-18T14:10:20.495814Z"
    }
   },
   "outputs": [
    {
     "data": {
      "text/plain": [
       "<AxesSubplot: xlabel='City'>"
      ]
     },
     "execution_count": 99,
     "metadata": {},
     "output_type": "execute_result"
    },
    {
     "data": {
      "image/png": "[encoded data removed]",
      "text/plain": [
       "<Figure size 1500x800 with 1 Axes>"
      ]
     },
     "metadata": {},
     "output_type": "display_data"
    }
   ],
   "source": [
    "monthly_spending_by_city.plot(kind = \"bar\",stacked = True,figsize = (15,8))"
   ]
  },
  {
   "cell_type": "markdown",
   "id": "2b335936",
   "metadata": {},
   "source": [
    "### b. Comparison of yearly spend on air tickets"
   ]
  },
  {
   "cell_type": "code",
   "execution_count": 100,
   "id": "352973d7",
   "metadata": {
    "ExecuteTime": {
     "end_time": "2023-02-18T14:10:21.245110Z",
     "start_time": "2023-02-18T14:10:21.232112Z"
    }
   },
   "outputs": [],
   "source": [
    "air_ticket_df = c_s_df[c_s_df.Type==\"AIR TICKET\"]"
   ]
  },
  {
   "cell_type": "code",
   "execution_count": 101,
   "id": "ee11d35c",
   "metadata": {
    "ExecuteTime": {
     "end_time": "2023-02-18T14:10:21.528116Z",
     "start_time": "2023-02-18T14:10:21.248070Z"
    }
   },
   "outputs": [
    {
     "data": {
      "text/plain": [
       "<AxesSubplot: ylabel='Spent_Amount'>"
      ]
     },
     "execution_count": 101,
     "metadata": {},
     "output_type": "execute_result"
    },
    {
     "data": {
      "image/png": "[encoded data removed]",
      "text/plain": [
       "<Figure size 1500x800 with 1 Axes>"
      ]
     },
     "metadata": {},
     "output_type": "display_data"
    }
   ],
   "source": [
    "(air_ticket_df.groupby('year')[\"Spent_Amount\"].sum()).plot(kind = \"pie\", autopct=\"%.1f%%\",figsize = (15,8))"
   ]
  },
  {
   "cell_type": "code",
   "execution_count": 102,
   "id": "ebf2c2ec",
   "metadata": {
    "ExecuteTime": {
     "end_time": "2023-02-18T14:10:21.745619Z",
     "start_time": "2023-02-18T14:10:21.531110Z"
    }
   },
   "outputs": [
    {
     "data": {
      "text/plain": [
       "<AxesSubplot: xlabel='year'>"
      ]
     },
     "execution_count": 102,
     "metadata": {},
     "output_type": "execute_result"
    },
    {
     "data": {
      "image/png": "[encoded data removed]",
      "text/plain": [
       "<Figure size 1500x800 with 1 Axes>"
      ]
     },
     "metadata": {},
     "output_type": "display_data"
    }
   ],
   "source": [
    "(air_ticket_df.groupby('year')[\"Spent_Amount\"].sum()).plot(kind = \"bar\", x = \"year\",y=\"Spent_Amount\",figsize = (15,8))"
   ]
  },
  {
   "cell_type": "markdown",
   "id": "62f46f88",
   "metadata": {},
   "source": [
    "### c. Comparison of monthly spend for each product (look for any seasonality that exists in terms of spend)"
   ]
  },
  {
   "cell_type": "code",
   "execution_count": 103,
   "id": "1f64384f",
   "metadata": {
    "ExecuteTime": {
     "end_time": "2023-02-18T14:10:21.777217Z",
     "start_time": "2023-02-18T14:10:21.748583Z"
    }
   },
   "outputs": [],
   "source": [
    "monthly_spending_on_product = pd.DataFrame(c_s_df.groupby([\"year\",\"month\",\"Product\"])[\"Spent_Amount\"].sum()).reset_index() #"
   ]
  },
  {
   "cell_type": "code",
   "execution_count": 104,
   "id": "914d0e5a",
   "metadata": {
    "ExecuteTime": {
     "end_time": "2023-02-18T14:10:21.887061Z",
     "start_time": "2023-02-18T14:10:21.780386Z"
    }
   },
   "outputs": [],
   "source": [
    "monthly_spending_on_product = pd.DataFrame(c_s_df.groupby([\"month\",\"Product\"])[\"Spent_Amount\"].sum()).reset_index()"
   ]
  },
  {
   "cell_type": "code",
   "execution_count": 105,
   "id": "e0b23401",
   "metadata": {
    "ExecuteTime": {
     "end_time": "2023-02-18T14:10:22.026005Z",
     "start_time": "2023-02-18T14:10:21.890058Z"
    }
   },
   "outputs": [],
   "source": [
    "monthly_spending_on_product = monthly_spending_on_product.pivot(index=\"Product\",columns=\"month\",values=\"Spent_Amount\")"
   ]
  },
  {
   "cell_type": "code",
   "execution_count": 106,
   "id": "5fcc3a5b",
   "metadata": {
    "ExecuteTime": {
     "end_time": "2023-02-18T14:10:22.200625Z",
     "start_time": "2023-02-18T14:10:22.035936Z"
    }
   },
   "outputs": [
    {
     "data": {
      "text/html": [
       "<div>\n",
       "<style scoped>\n",
       "    .dataframe tbody tr th:only-of-type {\n",
       "        vertical-align: middle;\n",
       "    }\n",
       "\n",
       "    .dataframe tbody tr th {\n",
       "        vertical-align: top;\n",
       "    }\n",
       "\n",
       "    .dataframe thead th {\n",
       "        text-align: right;\n",
       "    }\n",
       "</style>\n",
       "<table border=\"1\" class=\"dataframe\">\n",
       "  <thead>\n",
       "    <tr style=\"text-align: right;\">\n",
       "      <th>month</th>\n",
       "      <th>1</th>\n",
       "      <th>2</th>\n",
       "      <th>3</th>\n",
       "      <th>4</th>\n",
       "      <th>5</th>\n",
       "      <th>6</th>\n",
       "      <th>7</th>\n",
       "      <th>8</th>\n",
       "      <th>9</th>\n",
       "      <th>10</th>\n",
       "      <th>11</th>\n",
       "      <th>12</th>\n",
       "    </tr>\n",
       "    <tr>\n",
       "      <th>Product</th>\n",
       "      <th></th>\n",
       "      <th></th>\n",
       "      <th></th>\n",
       "      <th></th>\n",
       "      <th></th>\n",
       "      <th></th>\n",
       "      <th></th>\n",
       "      <th></th>\n",
       "      <th></th>\n",
       "      <th></th>\n",
       "      <th></th>\n",
       "      <th></th>\n",
       "    </tr>\n",
       "  </thead>\n",
       "  <tbody>\n",
       "    <tr>\n",
       "      <th>Gold</th>\n",
       "      <td>32413831.83</td>\n",
       "      <td>24779179.55</td>\n",
       "      <td>19256972.48</td>\n",
       "      <td>13170572.59</td>\n",
       "      <td>21548169.76</td>\n",
       "      <td>6538862.64</td>\n",
       "      <td>5167416.37</td>\n",
       "      <td>4954030.42</td>\n",
       "      <td>3816887.62</td>\n",
       "      <td>3018223.38</td>\n",
       "      <td>9203267.46</td>\n",
       "      <td>2332940.96</td>\n",
       "    </tr>\n",
       "    <tr>\n",
       "      <th>Platimum</th>\n",
       "      <td>14951578.51</td>\n",
       "      <td>9134054.58</td>\n",
       "      <td>7288837.68</td>\n",
       "      <td>5182493.86</td>\n",
       "      <td>8151926.49</td>\n",
       "      <td>2965712.71</td>\n",
       "      <td>1288156.26</td>\n",
       "      <td>1714762.80</td>\n",
       "      <td>1667840.84</td>\n",
       "      <td>550275.04</td>\n",
       "      <td>2741618.42</td>\n",
       "      <td>750156.19</td>\n",
       "    </tr>\n",
       "    <tr>\n",
       "      <th>Silver</th>\n",
       "      <td>4206383.62</td>\n",
       "      <td>2087018.37</td>\n",
       "      <td>3909405.83</td>\n",
       "      <td>1902322.65</td>\n",
       "      <td>2140940.01</td>\n",
       "      <td>689537.61</td>\n",
       "      <td>530153.72</td>\n",
       "      <td>293109.82</td>\n",
       "      <td>442803.13</td>\n",
       "      <td>100001.50</td>\n",
       "      <td>691102.63</td>\n",
       "      <td>200537.90</td>\n",
       "    </tr>\n",
       "  </tbody>\n",
       "</table>\n",
       "</div>"
      ],
      "text/plain": [
       "month              1            2            3            4            5   \\\n",
       "Product                                                                     \n",
       "Gold      32413831.83  24779179.55  19256972.48  13170572.59  21548169.76   \n",
       "Platimum  14951578.51   9134054.58   7288837.68   5182493.86   8151926.49   \n",
       "Silver     4206383.62   2087018.37   3909405.83   1902322.65   2140940.01   \n",
       "\n",
       "month             6           7           8           9           10  \\\n",
       "Product                                                                \n",
       "Gold      6538862.64  5167416.37  4954030.42  3816887.62  3018223.38   \n",
       "Platimum  2965712.71  1288156.26  1714762.80  1667840.84   550275.04   \n",
       "Silver     689537.61   530153.72   293109.82   442803.13   100001.50   \n",
       "\n",
       "month             11          12  \n",
       "Product                           \n",
       "Gold      9203267.46  2332940.96  \n",
       "Platimum  2741618.42   750156.19  \n",
       "Silver     691102.63   200537.90  "
      ]
     },
     "execution_count": 106,
     "metadata": {},
     "output_type": "execute_result"
    }
   ],
   "source": [
    "monthly_spending_on_product.head()"
   ]
  },
  {
   "cell_type": "code",
   "execution_count": 107,
   "id": "5fe64c6f",
   "metadata": {
    "ExecuteTime": {
     "end_time": "2023-02-18T14:10:22.672292Z",
     "start_time": "2023-02-18T14:10:22.203619Z"
    }
   },
   "outputs": [
    {
     "data": {
      "image/png": "[encoded data removed]",
      "text/plain": [
       "<Figure size 1800x1000 with 1 Axes>"
      ]
     },
     "metadata": {},
     "output_type": "display_data"
    }
   ],
   "source": [
    "monthly_spending_on_product.plot(kind = 'bar',  figsize = (18,10))\n",
    "plt.show()"
   ]
  },
  {
   "cell_type": "markdown",
   "id": "d835076a",
   "metadata": {},
   "source": [
    "## 5. Write user defined PYTHON function to perform the following analysis:\n",
    "    You need to find top 10 customers for each city in terms of their repayment amount by different products and by different time periods i.e. year or month. The user should be able to specify the product (Gold/Silver/Platinum) and time period (yearly or monthly) and the function should automatically take these inputs while identifying the top 10 customers."
   ]
  },
  {
   "cell_type": "code",
   "execution_count": 108,
   "id": "3873c92a",
   "metadata": {
    "ExecuteTime": {
     "end_time": "2023-02-18T14:10:22.688233Z",
     "start_time": "2023-02-18T14:10:22.675270Z"
    }
   },
   "outputs": [],
   "source": [
    "customer_repayment_final = c_r_df.copy()"
   ]
  },
  {
   "cell_type": "code",
   "execution_count": 109,
   "id": "fe66693a",
   "metadata": {
    "ExecuteTime": {
     "end_time": "2023-02-18T14:10:22.812566Z",
     "start_time": "2023-02-18T14:10:22.692226Z"
    }
   },
   "outputs": [],
   "source": [
    "customer_repayment_final.rename(columns={\"month\":\"monthly\",\"year\":\"yearly\"},inplace=True)"
   ]
  },
  {
   "cell_type": "code",
   "execution_count": 110,
   "id": "cac7af52",
   "metadata": {
    "ExecuteTime": {
     "end_time": "2023-02-18T14:10:22.949325Z",
     "start_time": "2023-02-18T14:10:22.815503Z"
    }
   },
   "outputs": [
    {
     "data": {
      "text/html": [
       "<div>\n",
       "<style scoped>\n",
       "    .dataframe tbody tr th:only-of-type {\n",
       "        vertical-align: middle;\n",
       "    }\n",
       "\n",
       "    .dataframe tbody tr th {\n",
       "        vertical-align: top;\n",
       "    }\n",
       "\n",
       "    .dataframe thead th {\n",
       "        text-align: right;\n",
       "    }\n",
       "</style>\n",
       "<table border=\"1\" class=\"dataframe\">\n",
       "  <thead>\n",
       "    <tr style=\"text-align: right;\">\n",
       "      <th></th>\n",
       "      <th>Customer</th>\n",
       "      <th>Age</th>\n",
       "      <th>City</th>\n",
       "      <th>Product</th>\n",
       "      <th>Limit</th>\n",
       "      <th>Company</th>\n",
       "      <th>Segment</th>\n",
       "      <th>Month</th>\n",
       "      <th>Repay_Amount</th>\n",
       "      <th>monthly</th>\n",
       "      <th>yearly</th>\n",
       "    </tr>\n",
       "  </thead>\n",
       "  <tbody>\n",
       "    <tr>\n",
       "      <th>0</th>\n",
       "      <td>A1</td>\n",
       "      <td>76</td>\n",
       "      <td>BANGALORE</td>\n",
       "      <td>Gold</td>\n",
       "      <td>500000</td>\n",
       "      <td>C1</td>\n",
       "      <td>Self Employed</td>\n",
       "      <td>2004-01-12</td>\n",
       "      <td>495414.75</td>\n",
       "      <td>1</td>\n",
       "      <td>2004</td>\n",
       "    </tr>\n",
       "    <tr>\n",
       "      <th>1</th>\n",
       "      <td>A1</td>\n",
       "      <td>76</td>\n",
       "      <td>BANGALORE</td>\n",
       "      <td>Gold</td>\n",
       "      <td>500000</td>\n",
       "      <td>C1</td>\n",
       "      <td>Self Employed</td>\n",
       "      <td>2004-01-03</td>\n",
       "      <td>245899.02</td>\n",
       "      <td>1</td>\n",
       "      <td>2004</td>\n",
       "    </tr>\n",
       "    <tr>\n",
       "      <th>2</th>\n",
       "      <td>A1</td>\n",
       "      <td>76</td>\n",
       "      <td>BANGALORE</td>\n",
       "      <td>Gold</td>\n",
       "      <td>500000</td>\n",
       "      <td>C1</td>\n",
       "      <td>Self Employed</td>\n",
       "      <td>2004-01-15</td>\n",
       "      <td>259490.06</td>\n",
       "      <td>1</td>\n",
       "      <td>2004</td>\n",
       "    </tr>\n",
       "    <tr>\n",
       "      <th>3</th>\n",
       "      <td>A1</td>\n",
       "      <td>76</td>\n",
       "      <td>BANGALORE</td>\n",
       "      <td>Gold</td>\n",
       "      <td>500000</td>\n",
       "      <td>C1</td>\n",
       "      <td>Self Employed</td>\n",
       "      <td>2004-01-25</td>\n",
       "      <td>437555.12</td>\n",
       "      <td>1</td>\n",
       "      <td>2004</td>\n",
       "    </tr>\n",
       "    <tr>\n",
       "      <th>4</th>\n",
       "      <td>A1</td>\n",
       "      <td>76</td>\n",
       "      <td>BANGALORE</td>\n",
       "      <td>Gold</td>\n",
       "      <td>500000</td>\n",
       "      <td>C1</td>\n",
       "      <td>Self Employed</td>\n",
       "      <td>2005-01-17</td>\n",
       "      <td>165972.88</td>\n",
       "      <td>1</td>\n",
       "      <td>2005</td>\n",
       "    </tr>\n",
       "  </tbody>\n",
       "</table>\n",
       "</div>"
      ],
      "text/plain": [
       "  Customer  Age       City Product   Limit Company        Segment      Month  \\\n",
       "0       A1   76  BANGALORE    Gold  500000      C1  Self Employed 2004-01-12   \n",
       "1       A1   76  BANGALORE    Gold  500000      C1  Self Employed 2004-01-03   \n",
       "2       A1   76  BANGALORE    Gold  500000      C1  Self Employed 2004-01-15   \n",
       "3       A1   76  BANGALORE    Gold  500000      C1  Self Employed 2004-01-25   \n",
       "4       A1   76  BANGALORE    Gold  500000      C1  Self Employed 2005-01-17   \n",
       "\n",
       "   Repay_Amount  monthly  yearly  \n",
       "0     495414.75        1    2004  \n",
       "1     245899.02        1    2004  \n",
       "2     259490.06        1    2004  \n",
       "3     437555.12        1    2004  \n",
       "4     165972.88        1    2005  "
      ]
     },
     "execution_count": 110,
     "metadata": {},
     "output_type": "execute_result"
    }
   ],
   "source": [
    "customer_repayment_final.head()"
   ]
  },
  {
   "cell_type": "code",
   "execution_count": 112,
   "id": "776e0a84",
   "metadata": {
    "ExecuteTime": {
     "end_time": "2023-02-18T14:38:00.928443Z",
     "start_time": "2023-02-18T14:38:00.877614Z"
    }
   },
   "outputs": [],
   "source": [
    "def top_ten_customer(product,time_period):\n",
    "    top_customers_df = pd.DataFrame(customer_repayment_final[customer_repayment_final.Product==product].groupby([\"City\",\"Customer\",\"Product\",time_period])[\"Repay_Amount\"].sum().reset_index().sort_values(by='Repay_Amount',ascending=False))\n",
    "    top_customers_df = top_customers_df.pivot(index=['Product', 'City' , 'Customer'],columns=time_period, values='Repay_Amount')\n",
    "    return top_customers_df"
   ]
  },
  {
   "cell_type": "code",
   "execution_count": 115,
   "id": "d8ac0550",
   "metadata": {
    "ExecuteTime": {
     "end_time": "2023-02-18T14:41:13.322316Z",
     "start_time": "2023-02-18T14:41:13.284454Z"
    }
   },
   "outputs": [
    {
     "data": {
      "text/html": [
       "<div>\n",
       "<style scoped>\n",
       "    .dataframe tbody tr th:only-of-type {\n",
       "        vertical-align: middle;\n",
       "    }\n",
       "\n",
       "    .dataframe tbody tr th {\n",
       "        vertical-align: top;\n",
       "    }\n",
       "\n",
       "    .dataframe thead th {\n",
       "        text-align: right;\n",
       "    }\n",
       "</style>\n",
       "<table border=\"1\" class=\"dataframe\">\n",
       "  <thead>\n",
       "    <tr style=\"text-align: right;\">\n",
       "      <th></th>\n",
       "      <th></th>\n",
       "      <th>yearly</th>\n",
       "      <th>2004</th>\n",
       "      <th>2005</th>\n",
       "      <th>2006</th>\n",
       "    </tr>\n",
       "    <tr>\n",
       "      <th>Product</th>\n",
       "      <th>City</th>\n",
       "      <th>Customer</th>\n",
       "      <th></th>\n",
       "      <th></th>\n",
       "      <th></th>\n",
       "    </tr>\n",
       "  </thead>\n",
       "  <tbody>\n",
       "    <tr>\n",
       "      <th rowspan=\"30\" valign=\"top\">Silver</th>\n",
       "      <th rowspan=\"6\" valign=\"top\">BANGALORE</th>\n",
       "      <th>A18</th>\n",
       "      <td>491592.71</td>\n",
       "      <td>638296.41</td>\n",
       "      <td>700000.00</td>\n",
       "    </tr>\n",
       "    <tr>\n",
       "      <th>A23</th>\n",
       "      <td>664965.71</td>\n",
       "      <td>1000010.00</td>\n",
       "      <td>872925.32</td>\n",
       "    </tr>\n",
       "    <tr>\n",
       "      <th>A59</th>\n",
       "      <td>676557.50</td>\n",
       "      <td>427247.08</td>\n",
       "      <td>600018.00</td>\n",
       "    </tr>\n",
       "    <tr>\n",
       "      <th>A72</th>\n",
       "      <td>100000.00</td>\n",
       "      <td>NaN</td>\n",
       "      <td>NaN</td>\n",
       "    </tr>\n",
       "    <tr>\n",
       "      <th>A76</th>\n",
       "      <td>NaN</td>\n",
       "      <td>265619.05</td>\n",
       "      <td>NaN</td>\n",
       "    </tr>\n",
       "    <tr>\n",
       "      <th>A77</th>\n",
       "      <td>NaN</td>\n",
       "      <td>NaN</td>\n",
       "      <td>3159.62</td>\n",
       "    </tr>\n",
       "    <tr>\n",
       "      <th rowspan=\"3\" valign=\"top\">BOMBAY</th>\n",
       "      <th>A22</th>\n",
       "      <td>953419.47</td>\n",
       "      <td>1141542.81</td>\n",
       "      <td>945271.83</td>\n",
       "    </tr>\n",
       "    <tr>\n",
       "      <th>A75</th>\n",
       "      <td>NaN</td>\n",
       "      <td>100003.00</td>\n",
       "      <td>NaN</td>\n",
       "    </tr>\n",
       "    <tr>\n",
       "      <th>A80</th>\n",
       "      <td>NaN</td>\n",
       "      <td>NaN</td>\n",
       "      <td>481205.64</td>\n",
       "    </tr>\n",
       "    <tr>\n",
       "      <th rowspan=\"5\" valign=\"top\">CALCUTTA</th>\n",
       "      <th>A2</th>\n",
       "      <td>400000.00</td>\n",
       "      <td>410274.00</td>\n",
       "      <td>200000.00</td>\n",
       "    </tr>\n",
       "    <tr>\n",
       "      <th>A58</th>\n",
       "      <td>533815.62</td>\n",
       "      <td>540173.85</td>\n",
       "      <td>411640.17</td>\n",
       "    </tr>\n",
       "    <tr>\n",
       "      <th>A73</th>\n",
       "      <td>NaN</td>\n",
       "      <td>100001.00</td>\n",
       "      <td>NaN</td>\n",
       "    </tr>\n",
       "    <tr>\n",
       "      <th>A78</th>\n",
       "      <td>NaN</td>\n",
       "      <td>NaN</td>\n",
       "      <td>55344.81</td>\n",
       "    </tr>\n",
       "    <tr>\n",
       "      <th>A87</th>\n",
       "      <td>NaN</td>\n",
       "      <td>NaN</td>\n",
       "      <td>100003.00</td>\n",
       "    </tr>\n",
       "    <tr>\n",
       "      <th rowspan=\"3\" valign=\"top\">CHENNAI</th>\n",
       "      <th>A85</th>\n",
       "      <td>NaN</td>\n",
       "      <td>NaN</td>\n",
       "      <td>100001.00</td>\n",
       "    </tr>\n",
       "    <tr>\n",
       "      <th>A9</th>\n",
       "      <td>380193.34</td>\n",
       "      <td>500015.00</td>\n",
       "      <td>697845.29</td>\n",
       "    </tr>\n",
       "    <tr>\n",
       "      <th>A96</th>\n",
       "      <td>100000.00</td>\n",
       "      <td>NaN</td>\n",
       "      <td>NaN</td>\n",
       "    </tr>\n",
       "    <tr>\n",
       "      <th rowspan=\"5\" valign=\"top\">COCHIN</th>\n",
       "      <th>A100</th>\n",
       "      <td>69551.19</td>\n",
       "      <td>NaN</td>\n",
       "      <td>NaN</td>\n",
       "    </tr>\n",
       "    <tr>\n",
       "      <th>A25</th>\n",
       "      <td>786338.08</td>\n",
       "      <td>611555.69</td>\n",
       "      <td>1000030.00</td>\n",
       "    </tr>\n",
       "    <tr>\n",
       "      <th>A7</th>\n",
       "      <td>500005.00</td>\n",
       "      <td>422177.27</td>\n",
       "      <td>608997.87</td>\n",
       "    </tr>\n",
       "    <tr>\n",
       "      <th>A74</th>\n",
       "      <td>NaN</td>\n",
       "      <td>100002.00</td>\n",
       "      <td>NaN</td>\n",
       "    </tr>\n",
       "    <tr>\n",
       "      <th>A79</th>\n",
       "      <td>NaN</td>\n",
       "      <td>NaN</td>\n",
       "      <td>193230.31</td>\n",
       "    </tr>\n",
       "    <tr>\n",
       "      <th rowspan=\"2\" valign=\"top\">DELHI</th>\n",
       "      <th>A24</th>\n",
       "      <td>397014.53</td>\n",
       "      <td>1184870.98</td>\n",
       "      <td>711068.52</td>\n",
       "    </tr>\n",
       "    <tr>\n",
       "      <th>A6</th>\n",
       "      <td>548574.15</td>\n",
       "      <td>427398.18</td>\n",
       "      <td>507280.51</td>\n",
       "    </tr>\n",
       "    <tr>\n",
       "      <th rowspan=\"3\" valign=\"top\">PATNA</th>\n",
       "      <th>A46</th>\n",
       "      <td>713614.32</td>\n",
       "      <td>1116730.89</td>\n",
       "      <td>839228.07</td>\n",
       "    </tr>\n",
       "    <tr>\n",
       "      <th>A8</th>\n",
       "      <td>800016.00</td>\n",
       "      <td>400008.00</td>\n",
       "      <td>531812.40</td>\n",
       "    </tr>\n",
       "    <tr>\n",
       "      <th>A84</th>\n",
       "      <td>NaN</td>\n",
       "      <td>NaN</td>\n",
       "      <td>100000.00</td>\n",
       "    </tr>\n",
       "    <tr>\n",
       "      <th rowspan=\"3\" valign=\"top\">TRIVANDRUM</th>\n",
       "      <th>A57</th>\n",
       "      <td>1000010.00</td>\n",
       "      <td>200002.00</td>\n",
       "      <td>655926.99</td>\n",
       "    </tr>\n",
       "    <tr>\n",
       "      <th>A68</th>\n",
       "      <td>100000.00</td>\n",
       "      <td>NaN</td>\n",
       "      <td>100000.00</td>\n",
       "    </tr>\n",
       "    <tr>\n",
       "      <th>A86</th>\n",
       "      <td>NaN</td>\n",
       "      <td>NaN</td>\n",
       "      <td>100002.00</td>\n",
       "    </tr>\n",
       "  </tbody>\n",
       "</table>\n",
       "</div>"
      ],
      "text/plain": [
       "yearly                             2004        2005        2006\n",
       "Product City       Customer                                    \n",
       "Silver  BANGALORE  A18        491592.71   638296.41   700000.00\n",
       "                   A23        664965.71  1000010.00   872925.32\n",
       "                   A59        676557.50   427247.08   600018.00\n",
       "                   A72        100000.00         NaN         NaN\n",
       "                   A76              NaN   265619.05         NaN\n",
       "                   A77              NaN         NaN     3159.62\n",
       "        BOMBAY     A22        953419.47  1141542.81   945271.83\n",
       "                   A75              NaN   100003.00         NaN\n",
       "                   A80              NaN         NaN   481205.64\n",
       "        CALCUTTA   A2         400000.00   410274.00   200000.00\n",
       "                   A58        533815.62   540173.85   411640.17\n",
       "                   A73              NaN   100001.00         NaN\n",
       "                   A78              NaN         NaN    55344.81\n",
       "                   A87              NaN         NaN   100003.00\n",
       "        CHENNAI    A85              NaN         NaN   100001.00\n",
       "                   A9         380193.34   500015.00   697845.29\n",
       "                   A96        100000.00         NaN         NaN\n",
       "        COCHIN     A100        69551.19         NaN         NaN\n",
       "                   A25        786338.08   611555.69  1000030.00\n",
       "                   A7         500005.00   422177.27   608997.87\n",
       "                   A74              NaN   100002.00         NaN\n",
       "                   A79              NaN         NaN   193230.31\n",
       "        DELHI      A24        397014.53  1184870.98   711068.52\n",
       "                   A6         548574.15   427398.18   507280.51\n",
       "        PATNA      A46        713614.32  1116730.89   839228.07\n",
       "                   A8         800016.00   400008.00   531812.40\n",
       "                   A84              NaN         NaN   100000.00\n",
       "        TRIVANDRUM A57       1000010.00   200002.00   655926.99\n",
       "                   A68        100000.00         NaN   100000.00\n",
       "                   A86              NaN         NaN   100002.00"
      ]
     },
     "execution_count": 115,
     "metadata": {},
     "output_type": "execute_result"
    }
   ],
   "source": [
    "top_ten_customer('Silver','yearly')"
   ]
  },
  {
   "cell_type": "code",
   "execution_count": null,
   "id": "dc5c12d4",
   "metadata": {},
   "outputs": [],
   "source": []
  }
 ],
 "metadata": {
  "kernelspec": {
   "display_name": "Python 3 (ipykernel)",
   "language": "python",
   "name": "python3"
  },
  "language_info": {
   "codemirror_mode": {
    "name": "ipython",
    "version": 3
   },
   "file_extension": ".py",
   "mimetype": "text/x-python",
   "name": "python",
   "nbconvert_exporter": "python",
   "pygments_lexer": "ipython3",
   "version": "3.9.13"
  }
 },
 "nbformat": 4,
 "nbformat_minor": 5
}
